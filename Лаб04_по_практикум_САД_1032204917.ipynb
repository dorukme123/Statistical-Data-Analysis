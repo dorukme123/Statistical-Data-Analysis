{
 "cells": [
  {
   "cell_type": "code",
   "execution_count": 4,
   "id": "7e899c6e-6f08-4fbb-93d3-91730c1c3eb5",
   "metadata": {},
   "outputs": [
    {
     "name": "stdout",
     "output_type": "stream",
     "text": [
      "desktop-9ulgep1\\meric\n"
     ]
    }
   ],
   "source": [
    ";whoami"
   ]
  },
  {
   "cell_type": "code",
   "execution_count": 3,
   "id": "5e24072a-408a-4267-b1d2-98c44d71a970",
   "metadata": {},
   "outputs": [
    {
     "data": {
      "text/plain": [
       "2023-11-29T19:07:57.283"
      ]
     },
     "execution_count": 3,
     "metadata": {},
     "output_type": "execute_result"
    }
   ],
   "source": [
    "using Dates\n",
    "datetimenow = Dates.now()"
   ]
  },
  {
   "cell_type": "markdown",
   "id": "e7c2ee3b-be6f-482b-a593-e88ff95f3df0",
   "metadata": {},
   "source": [
    "## 4.2.1. Поэлементные операции над многомерными массивами"
   ]
  },
  {
   "cell_type": "code",
   "execution_count": 5,
   "id": "d9f02e73-0f08-41f7-9f24-369457372105",
   "metadata": {},
   "outputs": [
    {
     "data": {
      "text/plain": [
       "4×3 Matrix{Int64}:\n",
       "  8  19   9\n",
       "  6  20  16\n",
       "  2  20  18\n",
       " 12  19   9"
      ]
     },
     "execution_count": 5,
     "metadata": {},
     "output_type": "execute_result"
    }
   ],
   "source": [
    "a = rand(1:20, (4, 3))"
   ]
  },
  {
   "cell_type": "code",
   "execution_count": 7,
   "id": "07a71d0c-ca31-409f-9b16-7924e3f2b40c",
   "metadata": {},
   "outputs": [
    {
     "name": "stdout",
     "output_type": "stream",
     "text": [
      "Поэ сумм = 158\n",
      "Поэ сумм stol = [28 78 52]\n",
      "Поэ сумм strok = [36; 42; 40; 40;;]\n"
     ]
    }
   ],
   "source": [
    "println(\"Поэ сумм = \", sum(a))\n",
    "println(\"Поэ сумм stol = \", sum(a, dims=1))\n",
    "println(\"Поэ сумм strok = \", sum(a, dims=2))"
   ]
  },
  {
   "cell_type": "code",
   "execution_count": 8,
   "id": "15d6aa70-e54c-447a-9081-86e124ac274a",
   "metadata": {},
   "outputs": [
    {
     "name": "stdout",
     "output_type": "stream",
     "text": [
      "Поэ x = 3880584806400\n",
      "Поэ x stol = [1152 144400 23328]\n",
      "Поэ x strok = [1368; 1920; 720; 2052;;]\n"
     ]
    }
   ],
   "source": [
    "println(\"Поэ x = \", prod(a))\n",
    "println(\"Поэ x stol = \", prod(a, dims=1))\n",
    "println(\"Поэ x strok = \", prod(a, dims=2))"
   ]
  },
  {
   "cell_type": "code",
   "execution_count": 9,
   "id": "e0f66b93-e810-4bd7-8936-b182f2d6f485",
   "metadata": {},
   "outputs": [
    {
     "name": "stderr",
     "output_type": "stream",
     "text": [
      "\u001b[32m\u001b[1m    Updating\u001b[22m\u001b[39m registry at `C:\\Users\\Meric\\.julia\\registries\\General.toml`\n",
      "\u001b[32m\u001b[1m   Resolving\u001b[22m\u001b[39m package versions...\n",
      "\u001b[32m\u001b[1m    Updating\u001b[22m\u001b[39m `C:\\Users\\Meric\\.julia\\environments\\v1.9\\Project.toml`\n",
      "  \u001b[90m[10745b16] \u001b[39m\u001b[92m+ Statistics v1.9.0\u001b[39m\n",
      "\u001b[32m\u001b[1m  No Changes\u001b[22m\u001b[39m to `C:\\Users\\Meric\\.julia\\environments\\v1.9\\Manifest.toml`\n"
     ]
    }
   ],
   "source": [
    "import Pkg\n",
    "Pkg.add(\"Statistics\")\n",
    "using Statistics"
   ]
  },
  {
   "cell_type": "code",
   "execution_count": 10,
   "id": "892e7256-a16c-4a36-a37d-c90b2d5d7f35",
   "metadata": {},
   "outputs": [
    {
     "name": "stdout",
     "output_type": "stream",
     "text": [
      "median of the matrix= 13.166666666666666\n",
      "median of the matrix row= [7.0 19.5 13.0]\n",
      "median of the matrix column= [12.0; 14.0; 13.333333333333334; 13.333333333333334;;]\n"
     ]
    }
   ],
   "source": [
    "println(\"median of the matrix= \", mean(a))\n",
    "println(\"median of the matrix row= \", mean(a, dims=1))\n",
    "println(\"median of the matrix column= \", mean(a, dims=2))"
   ]
  },
  {
   "cell_type": "markdown",
   "id": "edc6223b-88f3-4626-a8fe-9c9769ad2b1e",
   "metadata": {},
   "source": [
    "## 4.2.2. Транспонирование, след, ранг, определитель и инверсия матрицы"
   ]
  },
  {
   "cell_type": "code",
   "execution_count": 11,
   "id": "d4fee2ba-4708-4f80-b1af-2fd9da736b0b",
   "metadata": {},
   "outputs": [
    {
     "name": "stderr",
     "output_type": "stream",
     "text": [
      "\u001b[32m\u001b[1m   Resolving\u001b[22m\u001b[39m package versions...\n",
      "\u001b[32m\u001b[1m    Updating\u001b[22m\u001b[39m `C:\\Users\\Meric\\.julia\\environments\\v1.9\\Project.toml`\n",
      "  \u001b[90m[37e2e46d] \u001b[39m\u001b[92m+ LinearAlgebra\u001b[39m\n",
      "\u001b[32m\u001b[1m  No Changes\u001b[22m\u001b[39m to `C:\\Users\\Meric\\.julia\\environments\\v1.9\\Manifest.toml`\n"
     ]
    }
   ],
   "source": [
    "import Pkg\n",
    "Pkg.add(\"LinearAlgebra\")\n",
    "using LinearAlgebra"
   ]
  },
  {
   "cell_type": "code",
   "execution_count": 12,
   "id": "04adc12a-95a2-4dd9-a1c1-c3ac6eb33647",
   "metadata": {},
   "outputs": [
    {
     "data": {
      "text/plain": [
       "4×4 Matrix{Int64}:\n",
       "  4  10   9   9\n",
       " 12  10  16   7\n",
       " 13  19  12   3\n",
       "  4   7  20  18"
      ]
     },
     "execution_count": 12,
     "metadata": {},
     "output_type": "execute_result"
    }
   ],
   "source": [
    "b = rand(1:20, (4,4))"
   ]
  },
  {
   "cell_type": "code",
   "execution_count": 16,
   "id": "ec347ef8-e282-4585-aad1-c812c12ff592",
   "metadata": {},
   "outputs": [
    {
     "name": "stdout",
     "output_type": "stream",
     "text": [
      "[4 12 13 4; 10 10 19 7; 9 16 12 20; 9 7 3 18]\n",
      "44\n",
      "[4, 10, 12, 18]\n",
      "4\n",
      "[0.4333045231921632 0.38461538461538436 -0.31489484298473036 -0.3137424373379427; -0.05646787669259574 -0.1538461538461538 0.13944108326130794 0.06482281763180636; -0.5004321521175449 -0.2307692307692305 0.2765773552290403 0.2938634399308554; 0.48170556035724527 0.2307692307692305 -0.29155862863728 -0.22644770959377675]\n",
      "-3471.0000000000045\n",
      "[0.43330452319216395 0.3846153846153846 -0.3148948429847305 -0.3137424373379431; -0.05646787669259577 -0.15384615384615377 0.1394410832613079 0.06482281763180636; -0.5004321521175458 -0.23076923076923087 0.27657735522904064 0.29386343993085584; 0.4817055603572461 0.23076923076923087 -0.2915586286372804 -0.22644770959377716]\n"
     ]
    }
   ],
   "source": [
    "println(transpose(b))\n",
    "println(tr(b))\n",
    "println(diag(b))\n",
    "println(rank(b))\n",
    "println(inv(b))\n",
    "println(det(b))\n",
    "println(pinv(b))"
   ]
  },
  {
   "cell_type": "markdown",
   "id": "2d9be91e-2b66-46f7-b104-166e724c0d19",
   "metadata": {},
   "source": [
    "## 4.2.3. Вычисление нормы векторов и матриц, повороты, вращения"
   ]
  },
  {
   "cell_type": "code",
   "execution_count": 17,
   "id": "dc8a932a-e3d8-4ec8-9888-987b7ee9cddd",
   "metadata": {},
   "outputs": [
    {
     "data": {
      "text/plain": [
       "3-element Vector{Int64}:\n",
       "  2\n",
       "  4\n",
       " -5"
      ]
     },
     "execution_count": 17,
     "metadata": {},
     "output_type": "execute_result"
    }
   ],
   "source": [
    "X = [2, 4, -5]"
   ]
  },
  {
   "cell_type": "code",
   "execution_count": 18,
   "id": "f3d1844f-de1b-43a6-a254-8cff29ee9801",
   "metadata": {},
   "outputs": [
    {
     "data": {
      "text/plain": [
       "6.708203932499369"
      ]
     },
     "execution_count": 18,
     "metadata": {},
     "output_type": "execute_result"
    }
   ],
   "source": [
    "norm(X)"
   ]
  },
  {
   "cell_type": "code",
   "execution_count": 21,
   "id": "b9f62f8d-fd12-40e6-9590-c2a08b5e0aa5",
   "metadata": {},
   "outputs": [
    {
     "data": {
      "text/plain": [
       "11.0"
      ]
     },
     "execution_count": 21,
     "metadata": {},
     "output_type": "execute_result"
    }
   ],
   "source": [
    "p = 1\n",
    "norm(X, p)"
   ]
  },
  {
   "cell_type": "code",
   "execution_count": 22,
   "id": "746d6bcf-3fd5-45cc-9b5e-dd8662b45b5b",
   "metadata": {},
   "outputs": [
    {
     "data": {
      "text/plain": [
       "9.486832980505138"
      ]
     },
     "execution_count": 22,
     "metadata": {},
     "output_type": "execute_result"
    }
   ],
   "source": [
    "Y = [1, -1, 3]\n",
    "norm(X-Y)"
   ]
  },
  {
   "cell_type": "code",
   "execution_count": 24,
   "id": "9f6de395-755b-4032-bcdb-e80106d15057",
   "metadata": {},
   "outputs": [
    {
     "data": {
      "text/plain": [
       "9.486832980505138"
      ]
     },
     "execution_count": 24,
     "metadata": {},
     "output_type": "execute_result"
    }
   ],
   "source": [
    "sqrt(sum((X-Y).^2))"
   ]
  },
  {
   "cell_type": "code",
   "execution_count": 26,
   "id": "de5e9677-184e-4a80-a5ad-e4eb9b925fb4",
   "metadata": {},
   "outputs": [
    {
     "data": {
      "text/plain": [
       "2.4404307889469252"
      ]
     },
     "execution_count": 26,
     "metadata": {},
     "output_type": "execute_result"
    }
   ],
   "source": [
    "acos((transpose(X)*Y)/(norm(X)*norm(Y)))"
   ]
  },
  {
   "cell_type": "code",
   "execution_count": 27,
   "id": "3e7807c0-10ff-4116-b854-6d731991a6a0",
   "metadata": {},
   "outputs": [
    {
     "name": "stdout",
     "output_type": "stream",
     "text": [
      "7.147682841795258\n",
      "8.0\n"
     ]
    }
   ],
   "source": [
    "d = [5 -4 2; -1 2 3; -2 1 0]\n",
    "println(opnorm(d))\n",
    "p = 1\n",
    "println(opnorm(d, p))"
   ]
  },
  {
   "cell_type": "code",
   "execution_count": 28,
   "id": "22887d7a-7109-4d04-bd48-a0fcc829559c",
   "metadata": {},
   "outputs": [
    {
     "name": "stdout",
     "output_type": "stream",
     "text": [
      "[0 1 -2; 3 2 -1; 2 -4 5]\n",
      "[-2 1 0; -1 2 3; 5 -4 2]\n",
      "[2 -4 5; 3 2 -1; 0 1 -2]\n"
     ]
    }
   ],
   "source": [
    "println(rot180(d))\n",
    "println(reverse(d, dims=1))\n",
    "println(reverse(d, dims=2))"
   ]
  },
  {
   "cell_type": "markdown",
   "id": "6c16108a-2980-4209-9cc0-dcd18f143cea",
   "metadata": {},
   "source": [
    "## 4.2.4. Матричное умножение, единичная матрица, скалярное произведение"
   ]
  },
  {
   "cell_type": "code",
   "execution_count": 31,
   "id": "322bd048-d2ed-413f-8272-3985aed58d34",
   "metadata": {},
   "outputs": [
    {
     "data": {
      "text/plain": [
       "2×3 Matrix{Int64}:\n",
       " 1  9  9\n",
       " 8  4  9"
      ]
     },
     "execution_count": 31,
     "metadata": {},
     "output_type": "execute_result"
    }
   ],
   "source": [
    "A = rand(1:10, (2, 3))"
   ]
  },
  {
   "cell_type": "code",
   "execution_count": 32,
   "id": "dfd8070f-a360-4079-b1d2-05abf19c1aca",
   "metadata": {},
   "outputs": [
    {
     "data": {
      "text/plain": [
       "3×4 Matrix{Int64}:\n",
       " 9  1  3   4\n",
       " 6  5  7  10\n",
       " 3  4  9  10"
      ]
     },
     "execution_count": 32,
     "metadata": {},
     "output_type": "execute_result"
    }
   ],
   "source": [
    "B = rand(1:10, (3, 4))"
   ]
  },
  {
   "cell_type": "code",
   "execution_count": 33,
   "id": "78423bc1-76a7-4680-8f03-be635b54988c",
   "metadata": {},
   "outputs": [
    {
     "data": {
      "text/plain": [
       "2×4 Matrix{Int64}:\n",
       "  90  82  147  184\n",
       " 123  64  133  162"
      ]
     },
     "execution_count": 33,
     "metadata": {},
     "output_type": "execute_result"
    }
   ],
   "source": [
    "A*B"
   ]
  },
  {
   "cell_type": "code",
   "execution_count": 34,
   "id": "fc56ffdc-c118-49c3-bde5-10b10370a65b",
   "metadata": {},
   "outputs": [
    {
     "data": {
      "text/plain": [
       "3×3 Matrix{Int64}:\n",
       " 1  0  0\n",
       " 0  1  0\n",
       " 0  0  1"
      ]
     },
     "execution_count": 34,
     "metadata": {},
     "output_type": "execute_result"
    }
   ],
   "source": [
    "Matrix{Int}(I, 3, 3)"
   ]
  },
  {
   "cell_type": "code",
   "execution_count": 35,
   "id": "95f41fc6-f897-4a8e-9de1-641c4552a18d",
   "metadata": {},
   "outputs": [
    {
     "data": {
      "text/plain": [
       "-17"
      ]
     },
     "execution_count": 35,
     "metadata": {},
     "output_type": "execute_result"
    }
   ],
   "source": [
    "X = [2, 4, -5]\n",
    "Y = [1, -1, 3]\n",
    "dot(X,Y)"
   ]
  },
  {
   "cell_type": "code",
   "execution_count": 37,
   "id": "9cd386d9-3a0a-46d8-b5ca-40d9a9d9047e",
   "metadata": {},
   "outputs": [
    {
     "data": {
      "text/plain": [
       "-17"
      ]
     },
     "execution_count": 37,
     "metadata": {},
     "output_type": "execute_result"
    }
   ],
   "source": [
    "X'Y"
   ]
  },
  {
   "cell_type": "markdown",
   "id": "5ae2c1bf-0a09-45df-8f30-cacd2c74aa52",
   "metadata": {},
   "source": [
    "## 4.2.5. Факторизация. Специальные матричные структуры"
   ]
  },
  {
   "cell_type": "code",
   "execution_count": 38,
   "id": "d9fa8a61-2e51-44ab-a1ea-138a46899f3e",
   "metadata": {},
   "outputs": [
    {
     "data": {
      "text/plain": [
       "3-element Vector{Float64}:\n",
       " 1.0000000000000002\n",
       " 0.9999999999999994\n",
       " 0.9999999999999998"
      ]
     },
     "execution_count": 38,
     "metadata": {},
     "output_type": "execute_result"
    }
   ],
   "source": [
    "# Задаём квадратную матрицу 3x3 со случайными значениями:\n",
    "A = rand(3, 3)\n",
    "# Задаём единичный вектор:\n",
    "x = fill(1.0, 3)\n",
    "# Задаём вектор b:\n",
    "b = A*x\n",
    "# Решение исходного уравнения получаем с помощью функции \\\n",
    "# (убеждаемся, что x - единичный вектор):\n",
    "A\\b"
   ]
  },
  {
   "cell_type": "code",
   "execution_count": 40,
   "id": "143752d1-dd0e-4805-8b36-af34141b0831",
   "metadata": {},
   "outputs": [
    {
     "data": {
      "text/plain": [
       "LU{Float64, Matrix{Float64}, Vector{Int64}}\n",
       "L factor:\n",
       "3×3 Matrix{Float64}:\n",
       " 1.0       0.0       0.0\n",
       " 0.981188  1.0       0.0\n",
       " 0.093869  0.571523  1.0\n",
       "U factor:\n",
       "3×3 Matrix{Float64}:\n",
       " 0.989966  0.361416   0.957735\n",
       " 0.0       0.317975  -0.875719\n",
       " 0.0       0.0        1.30668"
      ]
     },
     "execution_count": 40,
     "metadata": {},
     "output_type": "execute_result"
    }
   ],
   "source": [
    "Alu = lu(A)"
   ]
  },
  {
   "cell_type": "code",
   "execution_count": 41,
   "id": "adea4fab-65b1-4ef0-8f60-44a8fda1714d",
   "metadata": {},
   "outputs": [
    {
     "name": "stdout",
     "output_type": "stream",
     "text": [
      "[0.0 1.0 0.0; 1.0 0.0 0.0; 0.0 0.0 1.0]\n",
      "[2, 1, 3]\n",
      "[1.0 0.0 0.0; 0.9811875060245201 1.0 0.0; 0.09386904025287925 0.5715226931678186 1.0]\n",
      "[0.9899656586718115 0.36141582652610316 0.9577351892863605; 0.0 0.31797469080805146 -0.8757190546732735; 0.0 0.0 1.3066806028419102]\n"
     ]
    }
   ],
   "source": [
    "# Матрица перестановок:\n",
    "println(Alu.P)\n",
    "# Вектор перестановок:\n",
    "println(Alu.p)\n",
    "# Матрица L:\n",
    "println(Alu.L)\n",
    "# Матрица U:\n",
    "println(Alu.U)"
   ]
  },
  {
   "cell_type": "code",
   "execution_count": 43,
   "id": "fb8f365f-8869-464b-8d1b-323b1b1f72b5",
   "metadata": {},
   "outputs": [
    {
     "name": "stdout",
     "output_type": "stream",
     "text": [
      "[1.0000000000000002, 0.9999999999999994, 0.9999999999999998]\n",
      "[1.0000000000000002, 0.9999999999999994, 0.9999999999999998]\n",
      "-0.41132217854162295\n",
      "-0.41132217854162295\n"
     ]
    }
   ],
   "source": [
    "# Решение СЛАУ через матрицу A:\n",
    "println(A\\b)\n",
    "# Решение СЛАУ через объект факторизации:\n",
    "println(Alu\\b)\n",
    "# Детерминант матрицы A:\n",
    "println(det(A))\n",
    "# Детерминант матрицы A через объект факторизации:\n",
    "println(det(Alu))"
   ]
  },
  {
   "cell_type": "code",
   "execution_count": 44,
   "id": "a575a482-c726-4496-9a09-43be62fb8865",
   "metadata": {},
   "outputs": [
    {
     "data": {
      "text/plain": [
       "LinearAlgebra.QRCompactWY{Float64, Matrix{Float64}, Matrix{Float64}}\n",
       "Q factor:\n",
       "3×3 LinearAlgebra.QRCompactWYQ{Float64, Matrix{Float64}, Matrix{Float64}}:\n",
       " -0.698794    0.547924  -0.459855\n",
       " -0.712192   -0.593001   0.375675\n",
       " -0.0668528   0.590024   0.804613\n",
       "R factor:\n",
       "3×3 Matrix{Float64}:\n",
       " -1.39003  -0.741818  -0.786719\n",
       "  0.0       0.281451  -0.00415733\n",
       "  0.0       0.0        1.05137"
      ]
     },
     "execution_count": 44,
     "metadata": {},
     "output_type": "execute_result"
    }
   ],
   "source": [
    "# QR-факторизация:\n",
    "Aqr = qr(A)"
   ]
  },
  {
   "cell_type": "code",
   "execution_count": 45,
   "id": "31105dfa-efc4-4a41-b3cc-0e7497a7e9a1",
   "metadata": {},
   "outputs": [
    {
     "data": {
      "text/plain": [
       "3×3 Matrix{Float64}:\n",
       " -1.39003  -0.741818  -0.786719\n",
       "  0.0       0.281451  -0.00415733\n",
       "  0.0       0.0        1.05137"
      ]
     },
     "execution_count": 45,
     "metadata": {},
     "output_type": "execute_result"
    }
   ],
   "source": [
    "# Матрица Q:\n",
    "Aqr.Q\n",
    "# Матрица R:\n",
    "Aqr.R"
   ]
  },
  {
   "cell_type": "code",
   "execution_count": 46,
   "id": "1654e390-31c9-40bd-91c9-0a6909f5dec7",
   "metadata": {},
   "outputs": [
    {
     "data": {
      "text/plain": [
       "3×3 Matrix{Float64}:\n",
       " 1.0  2.22045e-16  -5.55112e-17\n",
       " 0.0  1.0           5.55112e-17\n",
       " 0.0  1.11022e-16   1.0"
      ]
     },
     "execution_count": 46,
     "metadata": {},
     "output_type": "execute_result"
    }
   ],
   "source": [
    "# Проверка, что матрица Q - ортогональная:\n",
    "Aqr.Q'*Aqr.Q"
   ]
  },
  {
   "cell_type": "code",
   "execution_count": 47,
   "id": "0b41f760-218c-4582-b1ea-6c90d83b069a",
   "metadata": {},
   "outputs": [
    {
     "name": "stdout",
     "output_type": "stream",
     "text": [
      "[-0.7573078033156504, 1.6942896755170211, 3.5207115987978415]\n",
      "[0.47804116299291866 -0.5733501442154171 -0.6653918083449313; -0.8086923256831721 0.008332038195838706 -0.5881728483368179; 0.3427730573798355 0.8192680814407841 -0.4596808043271076]\n"
     ]
    }
   ],
   "source": [
    "# Симметризация матрицы A:\n",
    "Asym = A + A'\n",
    "# Спектральное разложение симметризованной матрицы:\n",
    "AsymEig = eigen(Asym)\n",
    "# Собственные значения:\n",
    "println(AsymEig.values)\n",
    "#Собственные векторы:\n",
    "println(AsymEig.vectors)"
   ]
  },
  {
   "cell_type": "code",
   "execution_count": 48,
   "id": "1b33a5de-c297-4103-ad7a-0b75766877e8",
   "metadata": {},
   "outputs": [
    {
     "data": {
      "text/plain": [
       "3×3 Matrix{Float64}:\n",
       "  1.0          -2.22045e-16   2.33147e-15\n",
       " -2.91434e-16   1.0          -2.44249e-15\n",
       "  4.64906e-16   4.44089e-16   1.0"
      ]
     },
     "execution_count": 48,
     "metadata": {},
     "output_type": "execute_result"
    }
   ],
   "source": [
    "# Проверяем, что получится единичная матрица:\n",
    "inv(AsymEig)*Asym"
   ]
  },
  {
   "cell_type": "code",
   "execution_count": 49,
   "id": "4ef77313-7872-4ace-933f-4bf1a40278fa",
   "metadata": {},
   "outputs": [
    {
     "data": {
      "text/plain": [
       "true"
      ]
     },
     "execution_count": 49,
     "metadata": {},
     "output_type": "execute_result"
    }
   ],
   "source": [
    "# Матрица 1000 х 1000:\n",
    "n = 1000\n",
    "A = randn(n,n)\n",
    "# Симметризация матрицы:\n",
    "Asym = A + A'\n",
    "# Проверка, является ли матрица симметричной:\n",
    "issymmetric(Asym)"
   ]
  },
  {
   "cell_type": "code",
   "execution_count": 50,
   "id": "257d68c3-85a8-45af-8930-05ee58ae26e4",
   "metadata": {},
   "outputs": [
    {
     "data": {
      "text/plain": [
       "false"
      ]
     },
     "execution_count": 50,
     "metadata": {},
     "output_type": "execute_result"
    }
   ],
   "source": [
    "# Добавление шума:\n",
    "Asym_noisy = copy(Asym)\n",
    "Asym_noisy[1,2] += 5eps()\n",
    "# Проверка, является ли матрица симметричной:\n",
    "issymmetric(Asym_noisy)"
   ]
  },
  {
   "cell_type": "code",
   "execution_count": 51,
   "id": "d02f9ce9-8847-4547-b862-538a054b4d68",
   "metadata": {},
   "outputs": [
    {
     "data": {
      "text/plain": [
       "1000×1000 Symmetric{Float64, Matrix{Float64}}:\n",
       "  2.33259     1.24608   -0.832214   …   2.19706    -0.126905   -2.48381\n",
       "  1.24608     0.497223   1.22765       -1.45947    -0.209887   -2.44809\n",
       " -0.832214    1.22765   -0.202109       2.08392     0.238723   -0.304849\n",
       "  1.07963     0.194836  -1.22967        3.51239    -2.61566     1.33111\n",
       " -1.88183    -0.208622   0.796256       1.39145    -1.82287    -0.811982\n",
       " -1.62107    -0.864373  -0.0431974  …   0.215726   -1.99076     0.0682212\n",
       "  0.0156327  -1.1294     1.4299         0.280924   -1.16165     1.42649\n",
       " -3.62033    -2.77724    2.01887       -0.419585    3.40777     1.14429\n",
       "  0.140673    0.584869  -2.88876        2.03199     2.01124    -0.956388\n",
       "  0.229501   -1.12723   -0.356529       0.357365    0.859083   -2.06559\n",
       " -0.964592   -0.866007  -2.54939    …   1.49075     1.54792    -1.11999\n",
       " -2.68168    -1.2316    -0.0251803     -0.605191    1.12469     0.951216\n",
       " -2.60726    -0.237948   0.13153       -2.56382    -0.571761    1.43782\n",
       "  ⋮                                 ⋱                          \n",
       "  0.132468    1.0246     1.55858        0.289815   -0.696562    1.21215\n",
       " -0.630479   -2.45445    0.258772      -0.149342    2.21765     0.995838\n",
       "  0.956589    2.09688    1.45505    …   1.18223     0.0122287  -1.96421\n",
       "  2.38518     0.105071   0.372853      -0.0539422   0.770733    0.494775\n",
       " -0.586917    1.98849    2.60135       -0.887283   -1.65823    -0.29482\n",
       "  1.14281     0.163372   1.27151       -2.50126    -0.482884   -0.50683\n",
       " -0.0857353   1.16581   -1.89584       -1.46112     1.71972    -1.87896\n",
       " -1.15658    -0.764952   1.68947    …  -0.9035      1.60396     1.1329\n",
       " -0.146946   -0.18181   -2.03273       -0.583098    1.91558    -0.333168\n",
       "  2.19706    -1.45947    2.08392       -1.49542    -2.35513    -0.39197\n",
       " -0.126905   -0.209887   0.238723      -2.35513     0.941389   -1.82285\n",
       " -2.48381    -2.44809   -0.304849      -0.39197    -1.82285     3.02901"
      ]
     },
     "execution_count": 51,
     "metadata": {},
     "output_type": "execute_result"
    }
   ],
   "source": [
    "# Явно указываем, что матрица является симметричной:\n",
    "Asym_explicit = Symmetric(Asym_noisy)"
   ]
  },
  {
   "cell_type": "code",
   "execution_count": 52,
   "id": "a618ff0f-a631-4a44-9e07-936bae28c9a5",
   "metadata": {},
   "outputs": [
    {
     "name": "stderr",
     "output_type": "stream",
     "text": [
      "\u001b[32m\u001b[1m   Resolving\u001b[22m\u001b[39m package versions...\n",
      "\u001b[32m\u001b[1m   Installed\u001b[22m\u001b[39m BenchmarkTools ─ v1.3.2\n",
      "\u001b[32m\u001b[1m    Updating\u001b[22m\u001b[39m `C:\\Users\\Meric\\.julia\\environments\\v1.9\\Project.toml`\n",
      "  \u001b[90m[6e4b80f9] \u001b[39m\u001b[92m+ BenchmarkTools v1.3.2\u001b[39m\n",
      "\u001b[32m\u001b[1m    Updating\u001b[22m\u001b[39m `C:\\Users\\Meric\\.julia\\environments\\v1.9\\Manifest.toml`\n",
      "  \u001b[90m[6e4b80f9] \u001b[39m\u001b[92m+ BenchmarkTools v1.3.2\u001b[39m\n",
      "  \u001b[90m[9abbd945] \u001b[39m\u001b[92m+ Profile\u001b[39m\n",
      "\u001b[32m\u001b[1mPrecompiling\u001b[22m\u001b[39m project...\n",
      "\u001b[32m  ✓ \u001b[39mBenchmarkTools\n",
      "  1 dependency successfully precompiled in 3 seconds. 37 already precompiled."
     ]
    },
    {
     "name": "stdout",
     "output_type": "stream",
     "text": [
      "  616.109 ms (11 allocations: 7.99 MiB)\n"
     ]
    },
    {
     "name": "stderr",
     "output_type": "stream",
     "text": [
      "\n"
     ]
    }
   ],
   "source": [
    "import Pkg\n",
    "Pkg.add(\"BenchmarkTools\")\n",
    "using BenchmarkTools\n",
    "# Оценка эффективности выполнения операции по нахождению\n",
    "# собственных значений симметризованной матрицы:\n",
    "@btime eigvals(Asym);"
   ]
  },
  {
   "cell_type": "code",
   "execution_count": 53,
   "id": "193f19c3-a80d-4273-ba68-dbaaff7fbfaa",
   "metadata": {},
   "outputs": [
    {
     "name": "stdout",
     "output_type": "stream",
     "text": [
      "  1.381 s (14 allocations: 7.93 MiB)\n"
     ]
    }
   ],
   "source": [
    "# Оценка эффективности выполнения операции по нахождению\n",
    "# собственных значений зашумлённой матрицы:\n",
    "@btime eigvals(Asym_noisy);"
   ]
  },
  {
   "cell_type": "code",
   "execution_count": 54,
   "id": "4dc4760e-7d17-47ef-b000-7946f6f8203e",
   "metadata": {},
   "outputs": [
    {
     "name": "stdout",
     "output_type": "stream",
     "text": [
      "  379.913 ms (11 allocations: 7.99 MiB)\n"
     ]
    }
   ],
   "source": [
    "# Оценка эффективности выполнения операции по нахождению\n",
    "# собственных значений зашумлённой матрицы,\n",
    "# для которой явно указано, что она симметричная:\n",
    "@btime eigvals(Asym_explicit);"
   ]
  },
  {
   "cell_type": "code",
   "execution_count": 55,
   "id": "5d247f9c-0ee8-49b6-864e-352f045992a6",
   "metadata": {},
   "outputs": [
    {
     "name": "stdout",
     "output_type": "stream",
     "text": [
      "  996.960 ms (17 allocations: 183.11 MiB)\n"
     ]
    },
    {
     "data": {
      "text/plain": [
       "6.128380710256792"
      ]
     },
     "execution_count": 55,
     "metadata": {},
     "output_type": "execute_result"
    }
   ],
   "source": [
    "# Трёхдиагональная матрица 1000000 х 1000000:\n",
    "n = 1000000;\n",
    "A = SymTridiagonal(randn(n), randn(n-1))\n",
    "# Оценка эффективности выполнения операции по нахождению\n",
    "# собственных значений:\n",
    "@btime eigmax(A)"
   ]
  },
  {
   "cell_type": "markdown",
   "id": "84bddf85-2f9d-4fee-95d5-f83039758010",
   "metadata": {},
   "source": [
    "## 4.2.6. Общая линейная алгебра"
   ]
  },
  {
   "cell_type": "code",
   "execution_count": 56,
   "id": "c471f436-805e-426e-86b9-40b12c606ec4",
   "metadata": {},
   "outputs": [
    {
     "data": {
      "text/plain": [
       "LU{Rational{BigInt}, Matrix{Rational{BigInt}}, Vector{Int64}}\n",
       "L factor:\n",
       "3×3 Matrix{Rational{BigInt}}:\n",
       " 1//1  0//1   0//1\n",
       " 1//5  1//1   0//1\n",
       " 4//5  4//31  1//1\n",
       "U factor:\n",
       "3×3 Matrix{Rational{BigInt}}:\n",
       " 1//1   9//10   2//5\n",
       " 0//1  31//50  41//50\n",
       " 0//1   0//1   23//310"
      ]
     },
     "execution_count": 56,
     "metadata": {},
     "output_type": "execute_result"
    }
   ],
   "source": [
    "# Матрица с рациональными элементами:\n",
    "Arational = Matrix{Rational{BigInt}}(rand(1:10, 3, 3))/10\n",
    "# Единичный вектор:\n",
    "x = fill(1, 3)\n",
    "# Задаём вектор b:\n",
    "b = Arational*x\n",
    "# Решение исходного уравнения получаем с помощью функции \\\n",
    "# (убеждаемся, что x - единичный вектор):\n",
    "Arational\\b\n",
    "# LU-разложение:\n",
    "lu(Arational)"
   ]
  },
  {
   "cell_type": "markdown",
   "id": "98bb09a4-c37e-4b88-80b4-0afbe2545379",
   "metadata": {},
   "source": [
    "## 4.3. Задание\n",
    "1. Используя Jupyter Lab, повторите примеры из раздела 4.2.\n",
    "2. Выполните задания для самостоятельной работы (раздел 4.4).\n",
    "### 4.4. Задания для самостоятельного выполнения"
   ]
  },
  {
   "cell_type": "markdown",
   "id": "aecfc634-f9c7-45dd-bde6-6483c0aabc5c",
   "metadata": {},
   "source": [
    "**4.4.1. Произведение векторов**\n",
    "1. Задайте вектор v. Умножьте вектор v скалярно сам на себя и сохраните результат\n",
    "в dot_v.\n",
    "2. Умножьте v матрично на себя (внешнее произведение), присвоив результат перемен-\n",
    "ной outer_v."
   ]
  },
  {
   "cell_type": "code",
   "execution_count": 57,
   "id": "ea81a389-cd19-4e26-a230-3ece6b508a2e",
   "metadata": {},
   "outputs": [
    {
     "data": {
      "text/plain": [
       "129"
      ]
     },
     "execution_count": 57,
     "metadata": {},
     "output_type": "execute_result"
    }
   ],
   "source": [
    "v = [4, 2, -10, 3]\n",
    "dot_v = dot(v, v)"
   ]
  },
  {
   "cell_type": "code",
   "execution_count": 58,
   "id": "83c1163d-29c7-4c2a-baf1-cd96505b3bf9",
   "metadata": {},
   "outputs": [
    {
     "data": {
      "text/plain": [
       "4×4 Matrix{Int64}:\n",
       "  16    8  -40   12\n",
       "   8    4  -20    6\n",
       " -40  -20  100  -30\n",
       "  12    6  -30    9"
      ]
     },
     "execution_count": 58,
     "metadata": {},
     "output_type": "execute_result"
    }
   ],
   "source": [
    "outer_v = v * v'"
   ]
  },
  {
   "cell_type": "markdown",
   "id": "a14e8ed1-a040-4f16-afa7-066a2ab5fcc0",
   "metadata": {},
   "source": [
    "**4.4.2. Системы линейных уравнений**\n",
    "1. Решить СЛАУ с двумя неизвестными."
   ]
  },
  {
   "cell_type": "code",
   "execution_count": 66,
   "id": "4d13daa3-bdb2-49d8-a793-39000a661348",
   "metadata": {},
   "outputs": [
    {
     "data": {
      "text/plain": [
       "2-element Vector{Float64}:\n",
       "  2.5\n",
       " -0.5"
      ]
     },
     "execution_count": 66,
     "metadata": {},
     "output_type": "execute_result"
    }
   ],
   "source": [
    "A_1 = [1 1; 1 -1]\n",
    "B_1 = [2; 3]\n",
    "try\n",
    "    A_1\\B_1\n",
    "catch err\n",
    "    print(err)\n",
    "end"
   ]
  },
  {
   "cell_type": "code",
   "execution_count": 65,
   "id": "1d581264-2943-47dd-aa64-303d8c7752e1",
   "metadata": {},
   "outputs": [
    {
     "name": "stdout",
     "output_type": "stream",
     "text": [
      "SingularException(2)"
     ]
    }
   ],
   "source": [
    "A_2 = [1 1; 2 2]\n",
    "B_2 = [2; 4]\n",
    "try\n",
    "    A_2\\B_2\n",
    "catch err\n",
    "    print(err)\n",
    "end"
   ]
  },
  {
   "cell_type": "code",
   "execution_count": 67,
   "id": "a25506c3-a636-4596-939b-b050306df599",
   "metadata": {},
   "outputs": [
    {
     "name": "stdout",
     "output_type": "stream",
     "text": [
      "SingularException(2)"
     ]
    }
   ],
   "source": [
    "A_3 = [1 1; 2 2]\n",
    "B_3 = [2; 5]\n",
    "try\n",
    "    A_3\\B_3\n",
    "catch err\n",
    "    print(err)\n",
    "end"
   ]
  },
  {
   "cell_type": "code",
   "execution_count": 68,
   "id": "4ac0810f-052f-4220-93ce-1c6319a814cc",
   "metadata": {},
   "outputs": [
    {
     "data": {
      "text/plain": [
       "2-element Vector{Float64}:\n",
       " 0.4999999999999999\n",
       " 0.5"
      ]
     },
     "execution_count": 68,
     "metadata": {},
     "output_type": "execute_result"
    }
   ],
   "source": [
    "A_4 = [1 1; 2 2; 3 3]\n",
    "B_4 = [1; 2; 3]\n",
    "try\n",
    "    A_4\\B_4\n",
    "catch err\n",
    "    print(err)\n",
    "end"
   ]
  },
  {
   "cell_type": "code",
   "execution_count": 69,
   "id": "8ee6d549-beb0-4c15-97a0-179c68932f2a",
   "metadata": {},
   "outputs": [
    {
     "data": {
      "text/plain": [
       "2-element Vector{Float64}:\n",
       "  1.5000000000000004\n",
       " -0.9999999999999997"
      ]
     },
     "execution_count": 69,
     "metadata": {},
     "output_type": "execute_result"
    }
   ],
   "source": [
    "A_5 = [1 1; 2 1; 1 -1]\n",
    "B_5 = [2; 1; 3]\n",
    "try\n",
    "    A_5\\B_5\n",
    "catch err\n",
    "    print(err)\n",
    "end"
   ]
  },
  {
   "cell_type": "code",
   "execution_count": 70,
   "id": "e2a6d771-8a31-4dc4-84ee-ba28847086ec",
   "metadata": {},
   "outputs": [
    {
     "data": {
      "text/plain": [
       "2-element Vector{Float64}:\n",
       " -0.9999999999999989\n",
       "  2.9999999999999982"
      ]
     },
     "execution_count": 70,
     "metadata": {},
     "output_type": "execute_result"
    }
   ],
   "source": [
    "A_6 = [1 1; 2 1; 3 2]\n",
    "B_6 = [2; 1; 3]\n",
    "try\n",
    "    A_6\\B_6\n",
    "catch err\n",
    "    print(err)\n",
    "end"
   ]
  },
  {
   "cell_type": "markdown",
   "id": "104c005e-79d9-415a-acd4-725e9bf53ba7",
   "metadata": {},
   "source": [
    "2. Решить СЛАУ с тремя неизвестными."
   ]
  },
  {
   "cell_type": "code",
   "execution_count": 71,
   "id": "91cda278-559e-4341-aa61-46b985835740",
   "metadata": {},
   "outputs": [
    {
     "data": {
      "text/plain": [
       "3-element Vector{Float64}:\n",
       "  2.2142857142857144\n",
       "  0.35714285714285704\n",
       " -0.5714285714285712"
      ]
     },
     "execution_count": 71,
     "metadata": {},
     "output_type": "execute_result"
    }
   ],
   "source": [
    "A_7 = [1 1 1; 1 -1 -2]\n",
    "B_7 = [2; 3]\n",
    "try\n",
    "    A_7\\B_7\n",
    "catch err\n",
    "    print(err)\n",
    "end"
   ]
  },
  {
   "cell_type": "code",
   "execution_count": 75,
   "id": "08aac0cc-65ee-41cd-9a91-90fe57a42cb5",
   "metadata": {},
   "outputs": [
    {
     "data": {
      "text/plain": [
       "3-element Vector{Float64}:\n",
       " -0.5\n",
       "  2.5\n",
       "  0.0"
      ]
     },
     "execution_count": 75,
     "metadata": {},
     "output_type": "execute_result"
    }
   ],
   "source": [
    "A_8 = [1 1 1; 2 2 -3; 3 1 1]\n",
    "B_8 = [2; 4; 1]\n",
    "try\n",
    "    A_8\\B_8\n",
    "catch err\n",
    "    print(err)\n",
    "end"
   ]
  },
  {
   "cell_type": "code",
   "execution_count": 76,
   "id": "a4352992-3647-47c4-9b43-6ec264e1bcf8",
   "metadata": {},
   "outputs": [
    {
     "name": "stdout",
     "output_type": "stream",
     "text": [
      "SingularException(2)"
     ]
    }
   ],
   "source": [
    "A_9 = [1 1 1; 1 1 2; 2 2 3]\n",
    "B_9 = [1; 0; 1]\n",
    "try\n",
    "    A_9\\B_9\n",
    "catch err\n",
    "    print(err)\n",
    "end"
   ]
  },
  {
   "cell_type": "code",
   "execution_count": 77,
   "id": "fb8cbea9-9ee5-4e5b-b0c9-e6e1e1f57d61",
   "metadata": {},
   "outputs": [
    {
     "name": "stdout",
     "output_type": "stream",
     "text": [
      "SingularException(2)"
     ]
    }
   ],
   "source": [
    "A_10 = [1 1 1; 1 1 2; 2 2 3]\n",
    "B_10 = [1; 0; 0]\n",
    "try\n",
    "    A_10\\B_10\n",
    "catch err\n",
    "    print(err)\n",
    "end"
   ]
  },
  {
   "cell_type": "markdown",
   "id": "c18b45e1-6f4b-4bac-af0f-3f484bd28a74",
   "metadata": {},
   "source": [
    "**4.4.3. Операции с матрицами**\n",
    "1. Приведите приведённые ниже матрицы к диагональному виду"
   ]
  },
  {
   "cell_type": "code",
   "execution_count": 78,
   "id": "df4f854d-f953-481c-b96c-6ff17d8c351d",
   "metadata": {},
   "outputs": [
    {
     "data": {
      "text/plain": [
       "diagonal_matrices (generic function with 1 method)"
      ]
     },
     "execution_count": 78,
     "metadata": {},
     "output_type": "execute_result"
    }
   ],
   "source": [
    "function diagonal_matrices(matrix)\n",
    "    Asym = matrix + matrix'\n",
    "    AsymEig = eigen(Asym)\n",
    "    return inv(AsymEig.vectors) * matrix * AsymEig.vectors\n",
    "end"
   ]
  },
  {
   "cell_type": "code",
   "execution_count": 80,
   "id": "eeb2d157-430d-49be-bd2e-971d9cbce612",
   "metadata": {},
   "outputs": [
    {
     "data": {
      "text/plain": [
       "2×2 Matrix{Float64}:\n",
       " -1.0  0.0\n",
       "  0.0  3.0"
      ]
     },
     "execution_count": 80,
     "metadata": {},
     "output_type": "execute_result"
    }
   ],
   "source": [
    "matrix_1 = [1 -2; -2 1]\n",
    "diagonal_matrices(matrix_1)"
   ]
  },
  {
   "cell_type": "code",
   "execution_count": 81,
   "id": "7bc41262-3d97-43ba-8f69-1f24eb630a2d",
   "metadata": {},
   "outputs": [
    {
     "data": {
      "text/plain": [
       "2×2 Matrix{Float64}:\n",
       " -0.236068     3.46945e-16\n",
       "  4.44089e-16  4.23607"
      ]
     },
     "execution_count": 81,
     "metadata": {},
     "output_type": "execute_result"
    }
   ],
   "source": [
    "matrix_2 = [1 -2; -2 3]\n",
    "diagonal_matrices(matrix_2)"
   ]
  },
  {
   "cell_type": "code",
   "execution_count": 82,
   "id": "b0cbd6df-b56f-4d9f-9992-565ad212d004",
   "metadata": {},
   "outputs": [
    {
     "data": {
      "text/plain": [
       "3×3 Matrix{Float64}:\n",
       " -2.14134       3.55271e-15  -1.9984e-15\n",
       "  3.38618e-15   0.515138      1.11022e-16\n",
       " -6.66134e-16  -4.44089e-16   3.6262"
      ]
     },
     "execution_count": 82,
     "metadata": {},
     "output_type": "execute_result"
    }
   ],
   "source": [
    "matrix_3 = [1 -2 0; -2 1 2; 0 2 0]\n",
    "diagonal_matrices(matrix_3)"
   ]
  },
  {
   "cell_type": "markdown",
   "id": "9002441e-01e9-4a28-a2a1-86d8aef1e479",
   "metadata": {},
   "source": [
    "2. Вычислите"
   ]
  },
  {
   "cell_type": "code",
   "execution_count": 83,
   "id": "88d701c6-868f-4da0-b0b3-3ee19280bb1f",
   "metadata": {},
   "outputs": [
    {
     "data": {
      "text/plain": [
       "2×2 Matrix{Int64}:\n",
       "  29525  -29524\n",
       " -29524   29525"
      ]
     },
     "execution_count": 83,
     "metadata": {},
     "output_type": "execute_result"
    }
   ],
   "source": [
    "([1 -2; -2 1])^10"
   ]
  },
  {
   "cell_type": "code",
   "execution_count": 84,
   "id": "d8cf08de-3a0b-48e2-adba-59d180ab58e1",
   "metadata": {},
   "outputs": [
    {
     "data": {
      "text/plain": [
       "2×2 Matrix{Float64}:\n",
       "  2.1889   -0.45685\n",
       " -0.45685   2.1889"
      ]
     },
     "execution_count": 84,
     "metadata": {},
     "output_type": "execute_result"
    }
   ],
   "source": [
    "sqrt([5 -2; -2 5])"
   ]
  },
  {
   "cell_type": "code",
   "execution_count": 85,
   "id": "eba05c40-8c75-4e3c-997e-22edd8897032",
   "metadata": {},
   "outputs": [
    {
     "data": {
      "text/plain": [
       "2×2 Symmetric{ComplexF64, Matrix{ComplexF64}}:\n",
       "  0.971125+0.433013im  -0.471125+0.433013im\n",
       " -0.471125+0.433013im   0.971125+0.433013im"
      ]
     },
     "execution_count": 85,
     "metadata": {},
     "output_type": "execute_result"
    }
   ],
   "source": [
    "([1 -2; -2 1])^(1/3)"
   ]
  },
  {
   "cell_type": "code",
   "execution_count": 86,
   "id": "e9047cbd-c726-46b0-81cb-c79bb29e4ec3",
   "metadata": {},
   "outputs": [
    {
     "data": {
      "text/plain": [
       "2×2 Matrix{ComplexF64}:\n",
       " 0.568864+0.351578im  0.920442-0.217287im\n",
       " 0.920442-0.217287im   1.48931+0.134291im"
      ]
     },
     "execution_count": 86,
     "metadata": {},
     "output_type": "execute_result"
    }
   ],
   "source": [
    "sqrt([1 2; 2 3])"
   ]
  },
  {
   "cell_type": "markdown",
   "id": "82825438-29af-4a79-99b9-2ebe04453389",
   "metadata": {},
   "source": [
    "3. Найдите собственные значения матрицы 𝐴, если"
   ]
  },
  {
   "cell_type": "code",
   "execution_count": 88,
   "id": "3e19eb61-4d82-4bfb-9a80-bb8776865e42",
   "metadata": {},
   "outputs": [
    {
     "data": {
      "text/plain": [
       "5-element Vector{Float64}:\n",
       " -128.49322764802145\n",
       "  -55.887784553056875\n",
       "   42.7521672793189\n",
       "   87.16111477514521\n",
       "  542.4677301466143"
      ]
     },
     "execution_count": 88,
     "metadata": {},
     "output_type": "execute_result"
    }
   ],
   "source": [
    "A = [140 97 74 168 131;\n",
    "97 106 89 131 36;\n",
    "74 89 152 144 71;\n",
    "168 131 144 54 142;\n",
    "131 36 71 142 36]\n",
    "eigenvalues = eigvals(A)"
   ]
  },
  {
   "cell_type": "code",
   "execution_count": 89,
   "id": "ff135d58-1f33-4f79-aeb2-ac1816f0c9af",
   "metadata": {},
   "outputs": [
    {
     "name": "stdout",
     "output_type": "stream",
     "text": [
      "  2.611 μs (10 allocations: 2.59 KiB)\n"
     ]
    },
    {
     "data": {
      "text/plain": [
       "5-element Vector{Float64}:\n",
       " -128.49322764802145\n",
       "  -55.887784553056875\n",
       "   42.7521672793189\n",
       "   87.16111477514521\n",
       "  542.4677301466143"
      ]
     },
     "execution_count": 89,
     "metadata": {},
     "output_type": "execute_result"
    }
   ],
   "source": [
    "@btime eigvals(A)"
   ]
  },
  {
   "cell_type": "markdown",
   "id": "19b5fa4c-f6b2-4491-b0a2-52bb09894ad0",
   "metadata": {},
   "source": [
    "- Создайте диагональную матрицу из собственных значений матрицы 𝐴. Создайте\n",
    "нижнедиагональную матрицу из матрица 𝐴. Оцените эффективность выполняемых\n",
    "операций."
   ]
  },
  {
   "cell_type": "code",
   "execution_count": 90,
   "id": "f142237a-ef37-48bb-88b5-5d43644a8a2b",
   "metadata": {},
   "outputs": [
    {
     "name": "stdout",
     "output_type": "stream",
     "text": [
      "  422.500 ns (5 allocations: 80 bytes)\n"
     ]
    },
    {
     "data": {
      "text/plain": [
       "5×5 Matrix{Float64}:\n",
       " -128.493    0.0      0.0      0.0       0.0\n",
       "    0.0    -55.8878   0.0      0.0       0.0\n",
       "    0.0      0.0     42.7522   0.0       0.0\n",
       "    0.0      0.0      0.0     87.1611    0.0\n",
       "    0.0      0.0      0.0      0.0     542.468"
      ]
     },
     "execution_count": 90,
     "metadata": {},
     "output_type": "execute_result"
    }
   ],
   "source": [
    "B = zeros(5, 5)\n",
    "@btime for i in 1:1:5\n",
    "    B[i, i] = eigenvalues[i]\n",
    "end\n",
    "B"
   ]
  },
  {
   "cell_type": "code",
   "execution_count": 91,
   "id": "da8c9a1b-4de9-474a-a265-c7b3d06d5ddb",
   "metadata": {},
   "outputs": [
    {
     "name": "stdout",
     "output_type": "stream",
     "text": [
      "  110.345 ns (1 allocation: 256 bytes)\n"
     ]
    },
    {
     "data": {
      "text/plain": [
       "5×5 Matrix{Float64}:\n",
       " 1.0        0.0        0.0       0.0       0.0\n",
       " 0.779762   1.0        0.0       0.0       0.0\n",
       " 0.440476  -0.47314    1.0       0.0       0.0\n",
       " 0.833333   0.183929  -0.556312  1.0       0.0\n",
       " 0.577381  -0.459012  -0.189658  0.897068  1.0"
      ]
     },
     "execution_count": 91,
     "metadata": {},
     "output_type": "execute_result"
    }
   ],
   "source": [
    "Alu = lu(A)\n",
    "@btime Alu.L"
   ]
  },
  {
   "cell_type": "markdown",
   "id": "46055f2d-97f9-4f83-8b51-9114e48668f7",
   "metadata": {},
   "source": [
    "## 4.4.4. Линейные модели экономики\n",
    "Линейная модель экономики может быть записана как СЛАУ\n",
    "𝑥 − 𝐴𝑥 = 𝑦,\n",
    "где элементы матрицы 𝐴 и столбца 𝑦 — неотрицательные числа. По своему смыслу в экономике элементы матрицы 𝐴 и столбцов 𝑥, 𝑦 не могут быть отрицательными числами."
   ]
  },
  {
   "cell_type": "markdown",
   "id": "e6648c04-53e7-4ddf-9d0c-3f0e20fa5d5f",
   "metadata": {},
   "source": [
    "1. Матрица 𝐴 называется продуктивной, если решение 𝑥 системы при любой неотрица-\n",
    "тельной правой части 𝑦 имеет только неотрицательные элементы 𝑥𝑖. Используя это\n",
    "определение, проверьте, являются ли матрицы продуктивными."
   ]
  },
  {
   "cell_type": "code",
   "execution_count": 92,
   "id": "512876d9-419b-4eb2-a42b-3c553ff19580",
   "metadata": {},
   "outputs": [
    {
     "data": {
      "text/plain": [
       "pro_mat (generic function with 1 method)"
      ]
     },
     "execution_count": 92,
     "metadata": {},
     "output_type": "execute_result"
    }
   ],
   "source": [
    "function pro_mat(matrix, size)\n",
    "    ans=\"\"\n",
    "    E = [1 0; 0 1]\n",
    "    Y = rand(0:1000, size)\n",
    "    S = E - matrix\n",
    "    X = S\\Y\n",
    "    for i in 1:1:size\n",
    "        if X[i] < 0\n",
    "            ans = \"matrix neproduktivno\"\n",
    "            break\n",
    "        else\n",
    "            ans = \"matrix produktivno\"\n",
    "        end\n",
    "    end\n",
    "    return ans\n",
    "end"
   ]
  },
  {
   "cell_type": "code",
   "execution_count": 93,
   "id": "5db0408c-21dd-49e9-a9b9-3fa3df891ac3",
   "metadata": {},
   "outputs": [
    {
     "data": {
      "text/plain": [
       "\"matrix neproduktivno\""
      ]
     },
     "execution_count": 93,
     "metadata": {},
     "output_type": "execute_result"
    }
   ],
   "source": [
    "matrix_1 = [1 2; 3 4]\n",
    "pro_mat(matrix_1, 2)"
   ]
  },
  {
   "cell_type": "code",
   "execution_count": 94,
   "id": "453e66a8-99b8-4050-9de7-0da03dbfb7e7",
   "metadata": {},
   "outputs": [
    {
     "data": {
      "text/plain": [
       "\"matrix neproduktivno\""
      ]
     },
     "execution_count": 94,
     "metadata": {},
     "output_type": "execute_result"
    }
   ],
   "source": [
    "matrix_2 = ([1 2; 3 4])*(1/2)\n",
    "pro_mat(matrix_2, 2)"
   ]
  },
  {
   "cell_type": "code",
   "execution_count": 95,
   "id": "9c2c29ac-dddc-46f4-b91a-0d5d00e062e0",
   "metadata": {},
   "outputs": [
    {
     "data": {
      "text/plain": [
       "\"matrix produktivno\""
      ]
     },
     "execution_count": 95,
     "metadata": {},
     "output_type": "execute_result"
    }
   ],
   "source": [
    "matrix_3 = ([1 2; 3 4])*(1/10)\n",
    "pro_mat(matrix_3, 2)"
   ]
  },
  {
   "cell_type": "markdown",
   "id": "12c18247-e0c8-4ab3-a168-a5e602ec9e8b",
   "metadata": {},
   "source": [
    "2. Критерий продуктивности: матрица 𝐴 является продуктивной тогда и только тогда,\n",
    "когда все элементы матрица\n",
    "(𝐸 − 𝐴)−1\n",
    "являются неотрицательными числами. Используя этот критерий, проверьте, являются\n",
    "ли матрицы продуктивными."
   ]
  },
  {
   "cell_type": "code",
   "execution_count": 96,
   "id": "1b7f9465-f4dc-42f8-ad8b-a5bbb052204a",
   "metadata": {},
   "outputs": [
    {
     "data": {
      "text/plain": [
       "pro_mat_2 (generic function with 1 method)"
      ]
     },
     "execution_count": 96,
     "metadata": {},
     "output_type": "execute_result"
    }
   ],
   "source": [
    "function pro_mat_2(matrix, size)\n",
    "    ans = \"\"\n",
    "    E = [1 0; 0 1]\n",
    "    matrix_n = E - matrix\n",
    "    inv_matrix_n = inv(matrix_n)\n",
    "    for i in 1:1:size\n",
    "        for j in 1:1:size\n",
    "            if inv_matrix_n[i, j] < 0\n",
    "                ans = \"matrix neproduktivno\"\n",
    "            break\n",
    "            else\n",
    "                ans = \"matrix produktivno\"\n",
    "            end\n",
    "        end\n",
    "    end\n",
    "    return ans\n",
    "end"
   ]
  },
  {
   "cell_type": "code",
   "execution_count": 97,
   "id": "a68309ea-6ac1-4652-8c52-3a40b3c0d772",
   "metadata": {},
   "outputs": [
    {
     "data": {
      "text/plain": [
       "\"matrix neproduktivno\""
      ]
     },
     "execution_count": 97,
     "metadata": {},
     "output_type": "execute_result"
    }
   ],
   "source": [
    "matrix_1 = [1 2; 3 1]\n",
    "pro_mat_2(matrix_1, 2)"
   ]
  },
  {
   "cell_type": "code",
   "execution_count": 99,
   "id": "88870019-ad9d-49f2-9969-4ce111d2faab",
   "metadata": {},
   "outputs": [
    {
     "data": {
      "text/plain": [
       "\"matrix neproduktivno\""
      ]
     },
     "execution_count": 99,
     "metadata": {},
     "output_type": "execute_result"
    }
   ],
   "source": [
    "matrix_2 = ([1 2; 3 1])*(1/2)\n",
    "pro_mat_2(matrix_2, 2)"
   ]
  },
  {
   "cell_type": "code",
   "execution_count": 100,
   "id": "5dc64f73-689f-481d-bdea-ace58fb085ae",
   "metadata": {},
   "outputs": [
    {
     "data": {
      "text/plain": [
       "\"matrix produktivno\""
      ]
     },
     "execution_count": 100,
     "metadata": {},
     "output_type": "execute_result"
    }
   ],
   "source": [
    "matrix_3 = ([1 2; 3 1])*(1/10)\n",
    "pro_mat_2(matrix_3, 2)"
   ]
  },
  {
   "cell_type": "markdown",
   "id": "2bb9dc6f-950d-48c3-9ee9-91a0b3389dc6",
   "metadata": {},
   "source": [
    "3. Спектральный критерий продуктивности: матрица 𝐴 является продуктивной тогда\n",
    "и только тогда, когда все её собственные значения по модулю меньше 1. Используя\n",
    "этот критерий, проверьте, являются ли матрицы продуктивными."
   ]
  },
  {
   "cell_type": "code",
   "execution_count": 101,
   "id": "fd87bd64-18ff-46e2-97d9-68f665ac1441",
   "metadata": {},
   "outputs": [
    {
     "data": {
      "text/plain": [
       "pro_mat_3 (generic function with 1 method)"
      ]
     },
     "execution_count": 101,
     "metadata": {},
     "output_type": "execute_result"
    }
   ],
   "source": [
    "function pro_mat_3(matrix, size)\n",
    "    ans = \"\"\n",
    "    eigenvalues = eigvals(matrix)\n",
    "    for i in 1:1:size\n",
    "        if abs(eigenvalues[i]) > 1\n",
    "            ans = \"matrix neproduktivno\"\n",
    "            break\n",
    "        else\n",
    "            ans = \"matrix produktivno\"\n",
    "        end\n",
    "    end\n",
    "    return ans\n",
    "end"
   ]
  },
  {
   "cell_type": "code",
   "execution_count": 102,
   "id": "2cfaf21d-6fbf-4d61-b60a-94e88a4e4a46",
   "metadata": {},
   "outputs": [
    {
     "data": {
      "text/plain": [
       "\"matrix neproduktivno\""
      ]
     },
     "execution_count": 102,
     "metadata": {},
     "output_type": "execute_result"
    }
   ],
   "source": [
    "matrix_1 = [1 2; 3 1]\n",
    "pro_mat_3(matrix_1, 2)"
   ]
  },
  {
   "cell_type": "code",
   "execution_count": 106,
   "id": "a988600e-94f6-4000-b671-7da2c68fdcc1",
   "metadata": {},
   "outputs": [
    {
     "data": {
      "text/plain": [
       "\"matrix neproduktivno\""
      ]
     },
     "execution_count": 106,
     "metadata": {},
     "output_type": "execute_result"
    }
   ],
   "source": [
    "matrix_2 = ([1 2; 3 1])*(1/2)\n",
    "pro_mat_3(matrix_2, 2)"
   ]
  },
  {
   "cell_type": "code",
   "execution_count": 107,
   "id": "b132359c-2fdd-48f1-83fa-74ef265d03cb",
   "metadata": {},
   "outputs": [
    {
     "data": {
      "text/plain": [
       "\"matrix produktivno\""
      ]
     },
     "execution_count": 107,
     "metadata": {},
     "output_type": "execute_result"
    }
   ],
   "source": [
    "matrix_3 = ([1 2; 3 1])*(1/10)\n",
    "pro_mat_3(matrix_3, 2)"
   ]
  },
  {
   "cell_type": "code",
   "execution_count": 108,
   "id": "1b4277b1-7809-4458-a95e-24ab4a98a5f6",
   "metadata": {},
   "outputs": [
    {
     "data": {
      "text/plain": [
       "\"matrix produktivno\""
      ]
     },
     "execution_count": 108,
     "metadata": {},
     "output_type": "execute_result"
    }
   ],
   "source": [
    "matrix_4 = [0.1 0.2 0.3;\n",
    "0 0.1 0.2;\n",
    "0 0.1 0.3]\n",
    "pro_mat_3(matrix_4, 2)"
   ]
  },
  {
   "cell_type": "code",
   "execution_count": null,
   "id": "65c9c012-b2a6-4f98-a7cb-ba100633329b",
   "metadata": {},
   "outputs": [],
   "source": []
  }
 ],
 "metadata": {
  "kernelspec": {
   "display_name": "Julia 1.9.3",
   "language": "julia",
   "name": "julia-1.9"
  },
  "language_info": {
   "file_extension": ".jl",
   "mimetype": "application/julia",
   "name": "julia",
   "version": "1.9.3"
  }
 },
 "nbformat": 4,
 "nbformat_minor": 5
}
