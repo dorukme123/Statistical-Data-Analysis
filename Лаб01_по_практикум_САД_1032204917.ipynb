{
 "cells": [
  {
   "cell_type": "markdown",
   "id": "65d97120-ac3d-4bea-89d1-8e09c8ae4b4f",
   "metadata": {},
   "source": [
    "# Лабораторная работа № 1. Julia. Установка и настройка. Основные принципы."
   ]
  },
  {
   "cell_type": "code",
   "execution_count": 2,
   "id": "fb3eb746-2d76-428d-b330-618833b27821",
   "metadata": {},
   "outputs": [
    {
     "name": "stdout",
     "output_type": "stream",
     "text": [
      "desktop-9ulgep1\\meric\n"
     ]
    }
   ],
   "source": [
    ";whoami"
   ]
  },
  {
   "cell_type": "code",
   "execution_count": 2,
   "id": "3942296a-d346-4417-9eb3-8319672ea3f1",
   "metadata": {},
   "outputs": [
    {
     "data": {
      "text/plain": [
       "2023-11-10T23:03:01.130"
      ]
     },
     "execution_count": 2,
     "metadata": {},
     "output_type": "execute_result"
    }
   ],
   "source": [
    "using Dates\n",
    "datetimenow = Dates.now()"
   ]
  },
  {
   "cell_type": "code",
   "execution_count": 3,
   "id": "081acab5-1508-4c34-86f9-8cb2da5a5dc9",
   "metadata": {},
   "outputs": [
    {
     "data": {
      "text/plain": [
       "5"
      ]
     },
     "execution_count": 3,
     "metadata": {},
     "output_type": "execute_result"
    }
   ],
   "source": [
    "2+3"
   ]
  },
  {
   "cell_type": "code",
   "execution_count": 4,
   "id": "bd191dd5-d836-47dc-a9c2-afe795735934",
   "metadata": {},
   "outputs": [
    {
     "name": "stdout",
     "output_type": "stream",
     "text": [
      "hello world"
     ]
    }
   ],
   "source": [
    "print(\"hello world\")"
   ]
  },
  {
   "cell_type": "code",
   "execution_count": 5,
   "id": "bf001e22-eeaa-44a9-8b1d-61a0ff85c612",
   "metadata": {},
   "outputs": [
    {
     "name": "stdout",
     "output_type": "stream",
     "text": [
      "search: \u001b[0m\u001b[1mp\u001b[22m\u001b[0m\u001b[1mr\u001b[22m\u001b[0m\u001b[1mi\u001b[22m\u001b[0m\u001b[1mn\u001b[22m\u001b[0m\u001b[1mt\u001b[22m\u001b[0m\u001b[1ml\u001b[22m\u001b[0m\u001b[1mn\u001b[22m \u001b[0m\u001b[1mp\u001b[22m\u001b[0m\u001b[1mr\u001b[22m\u001b[0m\u001b[1mi\u001b[22m\u001b[0m\u001b[1mn\u001b[22m\u001b[0m\u001b[1mt\u001b[22msty\u001b[0m\u001b[1ml\u001b[22med \u001b[0m\u001b[1mp\u001b[22m\u001b[0m\u001b[1mr\u001b[22m\u001b[0m\u001b[1mi\u001b[22m\u001b[0m\u001b[1mn\u001b[22m\u001b[0m\u001b[1mt\u001b[22m s\u001b[0m\u001b[1mp\u001b[22m\u001b[0m\u001b[1mr\u001b[22m\u001b[0m\u001b[1mi\u001b[22m\u001b[0m\u001b[1mn\u001b[22m\u001b[0m\u001b[1mt\u001b[22m is\u001b[0m\u001b[1mp\u001b[22m\u001b[0m\u001b[1mr\u001b[22m\u001b[0m\u001b[1mi\u001b[22m\u001b[0m\u001b[1mn\u001b[22m\u001b[0m\u001b[1mt\u001b[22m\n",
      "\n"
     ]
    },
    {
     "data": {
      "text/latex": [
       "\\begin{verbatim}\n",
       "println([io::IO], xs...)\n",
       "\\end{verbatim}\n",
       "Print (using \\href{@ref}{\\texttt{print}}) \\texttt{xs} to \\texttt{io} followed by a newline. If \\texttt{io} is not supplied, prints to the default output stream \\href{@ref}{\\texttt{stdout}}.\n",
       "\n",
       "See also \\href{@ref}{\\texttt{printstyled}} to add colors etc.\n",
       "\n",
       "\\section{Examples}\n",
       "\\begin{verbatim}\n",
       "julia> println(\"Hello, world\")\n",
       "Hello, world\n",
       "\n",
       "julia> io = IOBuffer();\n",
       "\n",
       "julia> println(io, \"Hello\", ',', \" world.\")\n",
       "\n",
       "julia> String(take!(io))\n",
       "\"Hello, world.\\n\"\n",
       "\\end{verbatim}\n"
      ],
      "text/markdown": [
       "```\n",
       "println([io::IO], xs...)\n",
       "```\n",
       "\n",
       "Print (using [`print`](@ref)) `xs` to `io` followed by a newline. If `io` is not supplied, prints to the default output stream [`stdout`](@ref).\n",
       "\n",
       "See also [`printstyled`](@ref) to add colors etc.\n",
       "\n",
       "# Examples\n",
       "\n",
       "```jldoctest\n",
       "julia> println(\"Hello, world\")\n",
       "Hello, world\n",
       "\n",
       "julia> io = IOBuffer();\n",
       "\n",
       "julia> println(io, \"Hello\", ',', \" world.\")\n",
       "\n",
       "julia> String(take!(io))\n",
       "\"Hello, world.\\n\"\n",
       "```\n"
      ],
      "text/plain": [
       "\u001b[36m  println([io::IO], xs...)\u001b[39m\n",
       "\n",
       "  Print (using \u001b[36mprint\u001b[39m) \u001b[36mxs\u001b[39m to \u001b[36mio\u001b[39m followed by a newline. If \u001b[36mio\u001b[39m is not supplied,\n",
       "  prints to the default output stream \u001b[36mstdout\u001b[39m.\n",
       "\n",
       "  See also \u001b[36mprintstyled\u001b[39m to add colors etc.\n",
       "\n",
       "\u001b[1m  Examples\u001b[22m\n",
       "\u001b[1m  ≡≡≡≡≡≡≡≡≡≡\u001b[22m\n",
       "\n",
       "\u001b[36m  julia> println(\"Hello, world\")\u001b[39m\n",
       "\u001b[36m  Hello, world\u001b[39m\n",
       "\u001b[36m  \u001b[39m\n",
       "\u001b[36m  julia> io = IOBuffer();\u001b[39m\n",
       "\u001b[36m  \u001b[39m\n",
       "\u001b[36m  julia> println(io, \"Hello\", ',', \" world.\")\u001b[39m\n",
       "\u001b[36m  \u001b[39m\n",
       "\u001b[36m  julia> String(take!(io))\u001b[39m\n",
       "\u001b[36m  \"Hello, world.\\n\"\u001b[39m"
      ]
     },
     "execution_count": 5,
     "metadata": {},
     "output_type": "execute_result"
    }
   ],
   "source": [
    "?println"
   ]
  },
  {
   "cell_type": "markdown",
   "id": "d7208849-4310-4ce4-b184-4f54e40808ba",
   "metadata": {},
   "source": [
    "## part 2 ---------------------------------------------"
   ]
  },
  {
   "cell_type": "markdown",
   "id": "3f63907e-7011-46bd-9a30-c61ef764882b",
   "metadata": {},
   "source": [
    "## "
   ]
  },
  {
   "cell_type": "code",
   "execution_count": 7,
   "id": "b9db224a-9719-487e-adde-3ab0255f10bd",
   "metadata": {},
   "outputs": [
    {
     "data": {
      "text/plain": [
       "(Int64, Float64, Float64, ComplexF64, Irrational{:π})"
      ]
     },
     "execution_count": 7,
     "metadata": {},
     "output_type": "execute_result"
    }
   ],
   "source": [
    "typeof(3), typeof(3.5), typeof(3/3.55), typeof(sqrt(3+4im)), typeof(pi)"
   ]
  },
  {
   "cell_type": "code",
   "execution_count": 8,
   "id": "33152bc1-8f94-4c26-a83b-9d2043bb8b24",
   "metadata": {},
   "outputs": [
    {
     "data": {
      "text/plain": [
       "(Inf, -Inf, NaN)"
      ]
     },
     "execution_count": 8,
     "metadata": {},
     "output_type": "execute_result"
    }
   ],
   "source": [
    "1.0/0.0, 1.0/(-0.0), 0.0/0.0"
   ]
  },
  {
   "cell_type": "code",
   "execution_count": 9,
   "id": "e24f92ba-dbfb-499f-a2e9-4a805b58db11",
   "metadata": {},
   "outputs": [
    {
     "data": {
      "text/plain": [
       "(Float64, Float64, Float64)"
      ]
     },
     "execution_count": 9,
     "metadata": {},
     "output_type": "execute_result"
    }
   ],
   "source": [
    "typeof(1.0/0.0), typeof(1.0/-0.0), typeof(0.0/0.0)"
   ]
  },
  {
   "cell_type": "code",
   "execution_count": 10,
   "id": "919047c1-abe4-44f5-8224-294545edb656",
   "metadata": {},
   "outputs": [
    {
     "name": "stdout",
     "output_type": "stream",
     "text": [
      "   Int8: [-128, 127]\n",
      "  Int16: [-32768, 32767]\n",
      "  Int32: [-2147483648, 2147483647]\n",
      "  Int64: [-9223372036854775808, 9223372036854775807]\n",
      " Int128: [-170141183460469231731687303715884105728, 170141183460469231731687303715884105727]\n",
      " UInt16: [0, 65535]\n",
      " UInt32: [0, 4294967295]\n",
      " UInt64: [0, 18446744073709551615]\n",
      "UInt128: [0, 340282366920938463463374607431768211455]\n"
     ]
    }
   ],
   "source": [
    "for T in [Int8, Int16, Int32, Int64, Int128, UInt16, UInt32, UInt64, UInt128]\n",
    "    println(\"$(lpad(T, 7)): [$(typemin(T)), $(typemax(T))]\")\n",
    "end"
   ]
  },
  {
   "cell_type": "code",
   "execution_count": 11,
   "id": "b9bad79a-69dd-49f9-bf6a-b55763a72327",
   "metadata": {},
   "outputs": [
    {
     "data": {
      "text/plain": [
       "(2, '\\x02', Char)"
      ]
     },
     "execution_count": 11,
     "metadata": {},
     "output_type": "execute_result"
    }
   ],
   "source": [
    "Int64(2.0), Char(2), typeof(Char(2))"
   ]
  },
  {
   "cell_type": "code",
   "execution_count": 12,
   "id": "bd568a74-8c3c-433f-857a-b1a7d034adcf",
   "metadata": {},
   "outputs": [
    {
     "data": {
      "text/plain": [
       "(2, '\\x02')"
      ]
     },
     "execution_count": 12,
     "metadata": {},
     "output_type": "execute_result"
    }
   ],
   "source": [
    "convert(Int64, 2.0), convert(Char, 2)"
   ]
  },
  {
   "cell_type": "code",
   "execution_count": 14,
   "id": "3b05bb38-4171-42cb-8619-2f06ea9b8bdb",
   "metadata": {},
   "outputs": [
    {
     "data": {
      "text/plain": [
       "Tuple{Float32, Float32, Float32}"
      ]
     },
     "execution_count": 14,
     "metadata": {},
     "output_type": "execute_result"
    }
   ],
   "source": [
    "typeof(promote(Int8(1), Float16(4.5), Float32(4.1)))"
   ]
  },
  {
   "cell_type": "markdown",
   "id": "5c4a83fb-a07c-4625-bc19-92ad0bb7e315",
   "metadata": {},
   "source": [
    "## part 3 ---------------------------------------------"
   ]
  },
  {
   "cell_type": "code",
   "execution_count": 17,
   "id": "d4a2b4e9-5fb5-4300-8983-0ba4c217f399",
   "metadata": {},
   "outputs": [
    {
     "data": {
      "text/plain": [
       "f (generic function with 1 method)"
      ]
     },
     "execution_count": 17,
     "metadata": {},
     "output_type": "execute_result"
    }
   ],
   "source": [
    "function f(x)\n",
    "    x^2\n",
    "end"
   ]
  },
  {
   "cell_type": "code",
   "execution_count": 18,
   "id": "62364479-9c08-4039-b6f3-d175dfcfb400",
   "metadata": {},
   "outputs": [
    {
     "data": {
      "text/plain": [
       "16"
      ]
     },
     "execution_count": 18,
     "metadata": {},
     "output_type": "execute_result"
    }
   ],
   "source": [
    "f(4)"
   ]
  },
  {
   "cell_type": "code",
   "execution_count": 19,
   "id": "d51ae025-861c-4b9c-bba3-9f6c9049fd2d",
   "metadata": {},
   "outputs": [
    {
     "data": {
      "text/plain": [
       "g (generic function with 1 method)"
      ]
     },
     "execution_count": 19,
     "metadata": {},
     "output_type": "execute_result"
    }
   ],
   "source": [
    "g(x) = x^2"
   ]
  },
  {
   "cell_type": "code",
   "execution_count": 20,
   "id": "4d56e3ff-7d5e-41d9-b56f-4511b2bb35a3",
   "metadata": {},
   "outputs": [
    {
     "data": {
      "text/plain": [
       "64"
      ]
     },
     "execution_count": 20,
     "metadata": {},
     "output_type": "execute_result"
    }
   ],
   "source": [
    "g(8)"
   ]
  },
  {
   "cell_type": "code",
   "execution_count": 21,
   "id": "38c01183-faad-4457-a8eb-136fd37d33b9",
   "metadata": {},
   "outputs": [
    {
     "data": {
      "text/plain": [
       "(7, 2)"
      ]
     },
     "execution_count": 21,
     "metadata": {},
     "output_type": "execute_result"
    }
   ],
   "source": [
    "a = [4 7 6]\n",
    "b = [1, 2, 3]\n",
    "a[2], b[2]"
   ]
  },
  {
   "cell_type": "code",
   "execution_count": 23,
   "id": "7b0e51d0-3457-4d81-948c-c9eb4a4ff9f6",
   "metadata": {},
   "outputs": [
    {
     "data": {
      "text/plain": [
       "2×2 Matrix{Int64}:\n",
       " 1  2\n",
       " 3  4"
      ]
     },
     "execution_count": 23,
     "metadata": {},
     "output_type": "execute_result"
    }
   ],
   "source": [
    "a = 1; b = 2; c = 3; d = 4\n",
    "Am = [a b; c d]"
   ]
  },
  {
   "cell_type": "code",
   "execution_count": 24,
   "id": "6eeb390a-82af-4f82-b83b-eebee9a5a7f8",
   "metadata": {},
   "outputs": [
    {
     "data": {
      "text/plain": [
       "(1, 2, 3, 4)"
      ]
     },
     "execution_count": 24,
     "metadata": {},
     "output_type": "execute_result"
    }
   ],
   "source": [
    "Am[1, 1], Am[1, 2], Am[2, 1], Am[2, 2]"
   ]
  },
  {
   "cell_type": "code",
   "execution_count": 26,
   "id": "423d0579-d9d4-4b2a-8697-34b7d2a9a3cc",
   "metadata": {},
   "outputs": [
    {
     "data": {
      "text/plain": [
       "1×1 Matrix{Int64}:\n",
       " 27"
      ]
     },
     "execution_count": 26,
     "metadata": {},
     "output_type": "execute_result"
    }
   ],
   "source": [
    "aa = [1 2]\n",
    "AA = [1 2; 3 4]\n",
    "aa*AA*aa'"
   ]
  },
  {
   "cell_type": "code",
   "execution_count": 27,
   "id": "048cccf8-0e6c-4a17-a94d-f9643e754d56",
   "metadata": {},
   "outputs": [
    {
     "data": {
      "text/plain": [
       "([1 2], [1 2; 3 4], [1; 2;;])"
      ]
     },
     "execution_count": 27,
     "metadata": {},
     "output_type": "execute_result"
    }
   ],
   "source": [
    "aa, AA, aa'"
   ]
  },
  {
   "cell_type": "markdown",
   "id": "89e56fc0-3830-43d2-a9e1-a8cba90b1109",
   "metadata": {},
   "source": [
    "# Задания для самостоятельной работы"
   ]
  },
  {
   "cell_type": "markdown",
   "id": "a58be70f-8cd2-4998-b907-9e637fb83382",
   "metadata": {},
   "source": [
    "1. Изучите документацию по основным функциям Julia для чтения / записи / выво-\n",
    "да информации на экран: read(), readline(), readlines(), readdlm(), print(),\n",
    "println(), show(), write(). Приведите свои примеры их использования, поясняя\n",
    "особенности их применения."
   ]
  },
  {
   "cell_type": "code",
   "execution_count": 29,
   "id": "9759c2b7-018c-4663-bbd5-5c67be06d2c3",
   "metadata": {},
   "outputs": [
    {
     "data": {
      "text/latex": [
       "\\begin{verbatim}\n",
       "read(io::IO, T)\n",
       "\\end{verbatim}\n",
       "Read a single value of type \\texttt{T} from \\texttt{io}, in canonical binary representation.\n",
       "\n",
       "Note that Julia does not convert the endianness for you. Use \\href{@ref}{\\texttt{ntoh}} or \\href{@ref}{\\texttt{ltoh}} for this purpose.\n",
       "\n",
       "\\begin{verbatim}\n",
       "read(io::IO, String)\n",
       "\\end{verbatim}\n",
       "Read the entirety of \\texttt{io}, as a \\texttt{String} (see also \\href{@ref}{\\texttt{readchomp}}).\n",
       "\n",
       "\\section{Examples}\n",
       "\\begin{verbatim}\n",
       "julia> io = IOBuffer(\"JuliaLang is a GitHub organization\");\n",
       "\n",
       "julia> read(io, Char)\n",
       "'J': ASCII/Unicode U+004A (category Lu: Letter, uppercase)\n",
       "\n",
       "julia> io = IOBuffer(\"JuliaLang is a GitHub organization\");\n",
       "\n",
       "julia> read(io, String)\n",
       "\"JuliaLang is a GitHub organization\"\n",
       "\\end{verbatim}\n",
       "\\rule{\\textwidth}{1pt}\n",
       "\\begin{verbatim}\n",
       "read(filename::AbstractString, args...)\n",
       "\\end{verbatim}\n",
       "Open a file and read its contents. \\texttt{args} is passed to \\texttt{read}: this is equivalent to \\texttt{open(io->read(io, args...), filename)}.\n",
       "\n",
       "\\begin{verbatim}\n",
       "read(filename::AbstractString, String)\n",
       "\\end{verbatim}\n",
       "Read the entire contents of a file as a string.\n",
       "\n",
       "\\rule{\\textwidth}{1pt}\n",
       "\\begin{verbatim}\n",
       "read(s::IO, nb=typemax(Int))\n",
       "\\end{verbatim}\n",
       "Read at most \\texttt{nb} bytes from \\texttt{s}, returning a \\texttt{Vector\\{UInt8\\}} of the bytes read.\n",
       "\n",
       "\\rule{\\textwidth}{1pt}\n",
       "\\begin{verbatim}\n",
       "read(s::IOStream, nb::Integer; all=true)\n",
       "\\end{verbatim}\n",
       "Read at most \\texttt{nb} bytes from \\texttt{s}, returning a \\texttt{Vector\\{UInt8\\}} of the bytes read.\n",
       "\n",
       "If \\texttt{all} is \\texttt{true} (the default), this function will block repeatedly trying to read all requested bytes, until an error or end-of-file occurs. If \\texttt{all} is \\texttt{false}, at most one \\texttt{read} call is performed, and the amount of data returned is device-dependent. Note that not all stream types support the \\texttt{all} option.\n",
       "\n",
       "\\rule{\\textwidth}{1pt}\n",
       "\\begin{verbatim}\n",
       "read(command::Cmd)\n",
       "\\end{verbatim}\n",
       "Run \\texttt{command} and return the resulting output as an array of bytes.\n",
       "\n",
       "\\rule{\\textwidth}{1pt}\n",
       "\\begin{verbatim}\n",
       "read(command::Cmd, String)\n",
       "\\end{verbatim}\n",
       "Run \\texttt{command} and return the resulting output as a \\texttt{String}.\n",
       "\n"
      ],
      "text/markdown": [
       "```\n",
       "read(io::IO, T)\n",
       "```\n",
       "\n",
       "Read a single value of type `T` from `io`, in canonical binary representation.\n",
       "\n",
       "Note that Julia does not convert the endianness for you. Use [`ntoh`](@ref) or [`ltoh`](@ref) for this purpose.\n",
       "\n",
       "```\n",
       "read(io::IO, String)\n",
       "```\n",
       "\n",
       "Read the entirety of `io`, as a `String` (see also [`readchomp`](@ref)).\n",
       "\n",
       "# Examples\n",
       "\n",
       "```jldoctest\n",
       "julia> io = IOBuffer(\"JuliaLang is a GitHub organization\");\n",
       "\n",
       "julia> read(io, Char)\n",
       "'J': ASCII/Unicode U+004A (category Lu: Letter, uppercase)\n",
       "\n",
       "julia> io = IOBuffer(\"JuliaLang is a GitHub organization\");\n",
       "\n",
       "julia> read(io, String)\n",
       "\"JuliaLang is a GitHub organization\"\n",
       "```\n",
       "\n",
       "---\n",
       "\n",
       "```\n",
       "read(filename::AbstractString, args...)\n",
       "```\n",
       "\n",
       "Open a file and read its contents. `args` is passed to `read`: this is equivalent to `open(io->read(io, args...), filename)`.\n",
       "\n",
       "```\n",
       "read(filename::AbstractString, String)\n",
       "```\n",
       "\n",
       "Read the entire contents of a file as a string.\n",
       "\n",
       "---\n",
       "\n",
       "```\n",
       "read(s::IO, nb=typemax(Int))\n",
       "```\n",
       "\n",
       "Read at most `nb` bytes from `s`, returning a `Vector{UInt8}` of the bytes read.\n",
       "\n",
       "---\n",
       "\n",
       "```\n",
       "read(s::IOStream, nb::Integer; all=true)\n",
       "```\n",
       "\n",
       "Read at most `nb` bytes from `s`, returning a `Vector{UInt8}` of the bytes read.\n",
       "\n",
       "If `all` is `true` (the default), this function will block repeatedly trying to read all requested bytes, until an error or end-of-file occurs. If `all` is `false`, at most one `read` call is performed, and the amount of data returned is device-dependent. Note that not all stream types support the `all` option.\n",
       "\n",
       "---\n",
       "\n",
       "```\n",
       "read(command::Cmd)\n",
       "```\n",
       "\n",
       "Run `command` and return the resulting output as an array of bytes.\n",
       "\n",
       "---\n",
       "\n",
       "```\n",
       "read(command::Cmd, String)\n",
       "```\n",
       "\n",
       "Run `command` and return the resulting output as a `String`.\n"
      ],
      "text/plain": [
       "\u001b[36m  read(io::IO, T)\u001b[39m\n",
       "\n",
       "  Read a single value of type \u001b[36mT\u001b[39m from \u001b[36mio\u001b[39m, in canonical binary representation.\n",
       "\n",
       "  Note that Julia does not convert the endianness for you. Use \u001b[36mntoh\u001b[39m or \u001b[36mltoh\u001b[39m\n",
       "  for this purpose.\n",
       "\n",
       "\u001b[36m  read(io::IO, String)\u001b[39m\n",
       "\n",
       "  Read the entirety of \u001b[36mio\u001b[39m, as a \u001b[36mString\u001b[39m (see also \u001b[36mreadchomp\u001b[39m).\n",
       "\n",
       "\u001b[1m  Examples\u001b[22m\n",
       "\u001b[1m  ≡≡≡≡≡≡≡≡≡≡\u001b[22m\n",
       "\n",
       "\u001b[36m  julia> io = IOBuffer(\"JuliaLang is a GitHub organization\");\u001b[39m\n",
       "\u001b[36m  \u001b[39m\n",
       "\u001b[36m  julia> read(io, Char)\u001b[39m\n",
       "\u001b[36m  'J': ASCII/Unicode U+004A (category Lu: Letter, uppercase)\u001b[39m\n",
       "\u001b[36m  \u001b[39m\n",
       "\u001b[36m  julia> io = IOBuffer(\"JuliaLang is a GitHub organization\");\u001b[39m\n",
       "\u001b[36m  \u001b[39m\n",
       "\u001b[36m  julia> read(io, String)\u001b[39m\n",
       "\u001b[36m  \"JuliaLang is a GitHub organization\"\u001b[39m\n",
       "\n",
       "  ────────────────────────────────────────────────────────────────────────────\n",
       "\n",
       "\u001b[36m  read(filename::AbstractString, args...)\u001b[39m\n",
       "\n",
       "  Open a file and read its contents. \u001b[36margs\u001b[39m is passed to \u001b[36mread\u001b[39m: this is\n",
       "  equivalent to \u001b[36mopen(io->read(io, args...), filename)\u001b[39m.\n",
       "\n",
       "\u001b[36m  read(filename::AbstractString, String)\u001b[39m\n",
       "\n",
       "  Read the entire contents of a file as a string.\n",
       "\n",
       "  ────────────────────────────────────────────────────────────────────────────\n",
       "\n",
       "\u001b[36m  read(s::IO, nb=typemax(Int))\u001b[39m\n",
       "\n",
       "  Read at most \u001b[36mnb\u001b[39m bytes from \u001b[36ms\u001b[39m, returning a \u001b[36mVector{UInt8}\u001b[39m of the bytes read.\n",
       "\n",
       "  ────────────────────────────────────────────────────────────────────────────\n",
       "\n",
       "\u001b[36m  read(s::IOStream, nb::Integer; all=true)\u001b[39m\n",
       "\n",
       "  Read at most \u001b[36mnb\u001b[39m bytes from \u001b[36ms\u001b[39m, returning a \u001b[36mVector{UInt8}\u001b[39m of the bytes read.\n",
       "\n",
       "  If \u001b[36mall\u001b[39m is \u001b[36mtrue\u001b[39m (the default), this function will block repeatedly trying to\n",
       "  read all requested bytes, until an error or end-of-file occurs. If \u001b[36mall\u001b[39m is\n",
       "  \u001b[36mfalse\u001b[39m, at most one \u001b[36mread\u001b[39m call is performed, and the amount of data returned\n",
       "  is device-dependent. Note that not all stream types support the \u001b[36mall\u001b[39m option.\n",
       "\n",
       "  ────────────────────────────────────────────────────────────────────────────\n",
       "\n",
       "\u001b[36m  read(command::Cmd)\u001b[39m\n",
       "\n",
       "  Run \u001b[36mcommand\u001b[39m and return the resulting output as an array of bytes.\n",
       "\n",
       "  ────────────────────────────────────────────────────────────────────────────\n",
       "\n",
       "\u001b[36m  read(command::Cmd, String)\u001b[39m\n",
       "\n",
       "  Run \u001b[36mcommand\u001b[39m and return the resulting output as a \u001b[36mString\u001b[39m."
      ]
     },
     "execution_count": 29,
     "metadata": {},
     "output_type": "execute_result"
    }
   ],
   "source": [
    "?read()"
   ]
  },
  {
   "cell_type": "code",
   "execution_count": 30,
   "id": "2d833406-355f-4303-a4b2-bdad461bdf83",
   "metadata": {},
   "outputs": [],
   "source": [
    "str_hello = IOBuffer(\"hello world!\");"
   ]
  },
  {
   "cell_type": "code",
   "execution_count": 31,
   "id": "130ce61f-73be-498f-b2dc-e781538a80a6",
   "metadata": {},
   "outputs": [
    {
     "data": {
      "text/plain": [
       "\"hello world!\""
      ]
     },
     "execution_count": 31,
     "metadata": {},
     "output_type": "execute_result"
    }
   ],
   "source": [
    "read(str_hello, String)"
   ]
  },
  {
   "cell_type": "code",
   "execution_count": 32,
   "id": "5e2c7d88-f51c-4e20-bb0f-2bdedec7d604",
   "metadata": {},
   "outputs": [
    {
     "data": {
      "text/plain": [
       "12"
      ]
     },
     "execution_count": 32,
     "metadata": {},
     "output_type": "execute_result"
    }
   ],
   "source": [
    "open(\"lab01_file1.txt\", \"w\") do io\n",
    "    write(io, \"hello world\\n\");\n",
    "end"
   ]
  },
  {
   "cell_type": "code",
   "execution_count": 36,
   "id": "86dfc684-7117-4e5a-a912-76e93db6a63a",
   "metadata": {},
   "outputs": [
    {
     "data": {
      "text/plain": [
       "(\"hello world\", \"hello world\\n\")"
      ]
     },
     "execution_count": 36,
     "metadata": {},
     "output_type": "execute_result"
    }
   ],
   "source": [
    "readline(\"lab01_file1.txt\"), readline(\"lab01_file1.txt\", keep=true)"
   ]
  },
  {
   "cell_type": "code",
   "execution_count": 37,
   "id": "7297a75a-3c79-4296-91d7-ef42a2a4c2b1",
   "metadata": {},
   "outputs": [
    {
     "data": {
      "text/plain": [
       "101"
      ]
     },
     "execution_count": 37,
     "metadata": {},
     "output_type": "execute_result"
    }
   ],
   "source": [
    "open(\"lab01_file2.txt\", \"w\") do io\n",
    "    write(io, \"ashdsha ajsjdjsad ahshah ajsjdahsd\\nashdashdhasdh ahsdhasdhsahadhash\\n ahsdhadhsaahsdhasdh ashdashdhas\\n\");\n",
    "end"
   ]
  },
  {
   "cell_type": "code",
   "execution_count": 38,
   "id": "a7e91306-a991-4cf2-aef3-733966f81f62",
   "metadata": {},
   "outputs": [
    {
     "data": {
      "text/plain": [
       "3-element Vector{String}:\n",
       " \"ashdsha ajsjdjsad ahshah ajsjdahsd\"\n",
       " \"ashdashdhasdh ahsdhasdhsahadhash\"\n",
       " \" ahsdhadhsaahsdhasdh ashdashdhas\""
      ]
     },
     "execution_count": 38,
     "metadata": {},
     "output_type": "execute_result"
    }
   ],
   "source": [
    "readlines(\"lab01_file2.txt\")"
   ]
  },
  {
   "cell_type": "code",
   "execution_count": 39,
   "id": "d0c0c3ee-caf5-4c0c-bcab-6894570850fe",
   "metadata": {},
   "outputs": [
    {
     "data": {
      "text/plain": [
       "3-element Vector{String}:\n",
       " \"ashdsha ajsjdjsad ahshah ajsjdahsd\\n\"\n",
       " \"ashdashdhasdh ahsdhasdhsahadhash\\n\"\n",
       " \" ahsdhadhsaahsdhasdh ashdashdhas\\n\""
      ]
     },
     "execution_count": 39,
     "metadata": {},
     "output_type": "execute_result"
    }
   ],
   "source": [
    "readlines(\"lab01_file2.txt\", keep=true)"
   ]
  },
  {
   "cell_type": "code",
   "execution_count": 43,
   "id": "d6e9a198-b8f9-47b6-b920-0231343157db",
   "metadata": {},
   "outputs": [
    {
     "data": {
      "text/plain": [
       "(Int32[1 6; 2 7; … ; 4 9; 5 10], Float32[1.0 6.0; 2.0 7.0; … ; 4.0 9.0; 5.0 10.0])"
      ]
     },
     "execution_count": 43,
     "metadata": {},
     "output_type": "execute_result"
    }
   ],
   "source": [
    "using DelimitedFiles\n",
    "number_x = [1; 2; 3; 4; 5];\n",
    "number_y = [6; 7; 8; 9; 10];\n",
    "open(\"lab01_file3.txt\", \"w\") do io\n",
    "    writedlm(io, [number_x number_y])\n",
    "end;\n",
    "readdlm(\"lab01_file3.txt\", Int32), readdlm(\"lab01_file3.txt\", Float32)"
   ]
  },
  {
   "cell_type": "code",
   "execution_count": 44,
   "id": "86799ee7-35d6-4d9f-9eda-66a9b72b2a38",
   "metadata": {},
   "outputs": [
    {
     "name": "stdout",
     "output_type": "stream",
     "text": [
      "asjdasjdjs asjdjasdjasj asjsdjasdjsajd.asjdsajdjas akkwidjajaowodwaokakaskdw."
     ]
    }
   ],
   "source": [
    "print(\"asjdasjdjs asjdjasdjasj asjsdjasdjsajd.\")\n",
    "print(\"asjdsajdjas akkwidjajaowodwaokakaskdw.\")"
   ]
  },
  {
   "cell_type": "code",
   "execution_count": 45,
   "id": "ed4dc4d0-b5a4-40b1-8c63-d9b25e312368",
   "metadata": {},
   "outputs": [
    {
     "name": "stdout",
     "output_type": "stream",
     "text": [
      "hi there general kenobi!\n",
      "hey thereidk at this point"
     ]
    }
   ],
   "source": [
    "println(\"hi there general kenobi!\")\n",
    "print(\"hey there\")\n",
    "print(\"idk at this point\")"
   ]
  },
  {
   "cell_type": "code",
   "execution_count": 46,
   "id": "2eee56e9-b1eb-4f4a-9c59-7ac74b741f40",
   "metadata": {},
   "outputs": [
    {
     "name": "stdout",
     "output_type": "stream",
     "text": [
      "\"LAB01: asjdjsadja, ajsajda\""
     ]
    }
   ],
   "source": [
    "show(\"LAB01: asjdjsadja, ajsajda\")"
   ]
  },
  {
   "cell_type": "code",
   "execution_count": 47,
   "id": "4406ae11-d688-4999-a928-ee617c1fc42d",
   "metadata": {},
   "outputs": [
    {
     "data": {
      "text/plain": [
       "99"
      ]
     },
     "execution_count": 47,
     "metadata": {},
     "output_type": "execute_result"
    }
   ],
   "source": [
    "io = IOBuffer();\n",
    "write(io, \"sajdasjdsja, sjdsadjsajdas. jasdjsajdjwdiwidwakdsdjw.skdaskdksakdwkadisidjafwd adjdjwadiaisdjajd kw\")"
   ]
  },
  {
   "cell_type": "markdown",
   "id": "f9bff9c1-8236-4ab3-a1cb-e888b8125ff5",
   "metadata": {},
   "source": [
    "2. Изучите документацию по функции parse(). Приведите свои примеры её использо-\n",
    "вания, поясняя особенности её применения."
   ]
  },
  {
   "cell_type": "code",
   "execution_count": 50,
   "id": "100c7c4d-d2d2-48fa-80d8-76746a55912d",
   "metadata": {},
   "outputs": [
    {
     "name": "stdout",
     "output_type": "stream",
     "text": [
      "74334332327\n",
      "6.245 + 10.98im"
     ]
    }
   ],
   "source": [
    "println(parse(Int, \"74334332327\"))\n",
    "print(parse(Complex{Float64}, \"62.45e-1 + 10.98im\"))"
   ]
  },
  {
   "cell_type": "markdown",
   "id": "e3363fb2-a8d9-4da6-8a50-29efa2951265",
   "metadata": {},
   "source": [
    "3. Изучите синтаксис Julia для базовых математических операций с разным типом пере-\n",
    "менных: сложение, вычитание, умножение, деление, возведение в степень, извлечение\n",
    "корня, сравнение, логические операции. Приведите свои примеры с пояснениями по\n",
    "особенностям их применения."
   ]
  },
  {
   "cell_type": "code",
   "execution_count": 55,
   "id": "c0c6446e-b42d-410e-9308-bebefcdf7ba6",
   "metadata": {},
   "outputs": [
    {
     "name": "stdout",
     "output_type": "stream",
     "text": [
      "addition: 19\n",
      "substration-9\n",
      "division0.35714285714285715\n",
      "multiuplication70\n",
      "x to the power of y6103515625\n",
      "square root14.866068747318506\n",
      "unary plus5\n",
      "unary minus-5\n",
      "logical operations:\n",
      "false\n",
      "true\n",
      "true\n",
      "false\n",
      "bitewise operations:\n",
      "-6\n",
      "4\n",
      "15\n",
      "bit slide to right 0\n",
      "bit slide to left 81920\n",
      "Сдвиг вправо без учета знака0\n"
     ]
    }
   ],
   "source": [
    "x = 5; y = 14\n",
    "println(\"addition: \", (x + y))\n",
    "println(\"substration\", (x - y))\n",
    "println(\"division\", (x / y))\n",
    "println(\"multiuplication\", (x * y))\n",
    "println(\"x to the power of y\", (x^y))\n",
    "println(\"square root\", sqrt(x^2+y^2))\n",
    "println(\"unary plus\", +x)\n",
    "println(\"unary minus\", -x)\n",
    "println(\"logical operations:\")\n",
    "println(x == y)\n",
    "println(x !== y)\n",
    "println(x < y)\n",
    "println(x > y)\n",
    "println(\"bitewise operations:\")\n",
    "println(~x)\n",
    "println(x & y)\n",
    "println(x | y)\n",
    "println(\"bit slide to right \", x >> y)\n",
    "println(\"bit slide to left \", x << y)\n",
    "println(\"Сдвиг вправо без учета знака\", x >>> y)"
   ]
  },
  {
   "cell_type": "markdown",
   "id": "fcd7e712-0c73-48d3-9c7a-bf232bd5f590",
   "metadata": {},
   "source": [
    "4. Приведите несколько своих примеров с пояснениями с операциями над матрицами\n",
    "и векторами: сложение, вычитание, скалярное произведение, транспонирование,\n",
    "умножение на скаляр"
   ]
  },
  {
   "cell_type": "code",
   "execution_count": 57,
   "id": "cbefdf28-113d-4a71-af91-301a6468ab0c",
   "metadata": {},
   "outputs": [
    {
     "data": {
      "text/plain": [
       "3×3 Matrix{Int64}:\n",
       " 1  2  3\n",
       " 4  5  6\n",
       " 7  8  9"
      ]
     },
     "execution_count": 57,
     "metadata": {},
     "output_type": "execute_result"
    }
   ],
   "source": [
    "L = [1 2 3;4 5 6;7 8 9]"
   ]
  },
  {
   "cell_type": "code",
   "execution_count": 58,
   "id": "7d4cd78f-90c0-4e40-887c-f476ff2b5a33",
   "metadata": {},
   "outputs": [
    {
     "data": {
      "text/plain": [
       "3×3 Matrix{Int64}:\n",
       " 3  4  7\n",
       " 1  2  3\n",
       " 9  8  7"
      ]
     },
     "execution_count": 58,
     "metadata": {},
     "output_type": "execute_result"
    }
   ],
   "source": [
    "R = [3 4 7;1 2 3;9 8 7]"
   ]
  },
  {
   "cell_type": "code",
   "execution_count": 59,
   "id": "4020afd5-123f-4a77-bd79-ea36ce4022a3",
   "metadata": {},
   "outputs": [
    {
     "data": {
      "text/plain": [
       "3×3 Matrix{Int64}:\n",
       "  4   6  10\n",
       "  5   7   9\n",
       " 16  16  16"
      ]
     },
     "execution_count": 59,
     "metadata": {},
     "output_type": "execute_result"
    }
   ],
   "source": [
    "L + R"
   ]
  },
  {
   "cell_type": "code",
   "execution_count": 60,
   "id": "04389aa6-7205-4095-8c77-4d0c4bf101d2",
   "metadata": {},
   "outputs": [
    {
     "data": {
      "text/plain": [
       "3×3 Matrix{Int64}:\n",
       "  2   2   4\n",
       " -3  -3  -3\n",
       "  2   0  -2"
      ]
     },
     "execution_count": 60,
     "metadata": {},
     "output_type": "execute_result"
    }
   ],
   "source": [
    "R - L"
   ]
  },
  {
   "cell_type": "code",
   "execution_count": 61,
   "id": "daeedd56-2bd7-4150-86d1-6ac43e24dfeb",
   "metadata": {},
   "outputs": [
    {
     "data": {
      "text/plain": [
       "3×3 Matrix{Int64}:\n",
       " 68   82   96\n",
       " 30   36   42\n",
       " 90  114  138"
      ]
     },
     "execution_count": 61,
     "metadata": {},
     "output_type": "execute_result"
    }
   ],
   "source": [
    "R * L"
   ]
  },
  {
   "cell_type": "code",
   "execution_count": 62,
   "id": "31b94433-2339-43a4-8543-a2ef32c093e4",
   "metadata": {},
   "outputs": [
    {
     "data": {
      "text/plain": [
       "3×3 adjoint(::Matrix{Int64}) with eltype Int64:\n",
       " 3  1  9\n",
       " 4  2  8\n",
       " 7  3  7"
      ]
     },
     "execution_count": 62,
     "metadata": {},
     "output_type": "execute_result"
    }
   ],
   "source": [
    "R'"
   ]
  },
  {
   "cell_type": "code",
   "execution_count": 63,
   "id": "b952dafa-6d44-46d5-b851-e989afeadaab",
   "metadata": {},
   "outputs": [
    {
     "data": {
      "text/plain": [
       "3"
      ]
     },
     "execution_count": 63,
     "metadata": {},
     "output_type": "execute_result"
    }
   ],
   "source": [
    "Q = 3"
   ]
  },
  {
   "cell_type": "code",
   "execution_count": 64,
   "id": "7bbc9d3e-755e-4560-83ef-2fae47987ec0",
   "metadata": {},
   "outputs": [
    {
     "data": {
      "text/plain": [
       "3×3 Matrix{Int64}:\n",
       "  9  12  21\n",
       "  3   6   9\n",
       " 27  24  21"
      ]
     },
     "execution_count": 64,
     "metadata": {},
     "output_type": "execute_result"
    }
   ],
   "source": [
    "R * Q"
   ]
  },
  {
   "cell_type": "code",
   "execution_count": null,
   "id": "6299b206-d27f-40b8-96d6-1b810fd01e54",
   "metadata": {},
   "outputs": [],
   "source": []
  },
  {
   "cell_type": "code",
   "execution_count": null,
   "id": "4705118d-cdfd-435c-9d54-6f81471921a7",
   "metadata": {},
   "outputs": [],
   "source": []
  }
 ],
 "metadata": {
  "kernelspec": {
   "display_name": "Julia 1.9.3",
   "language": "julia",
   "name": "julia-1.9"
  },
  "language_info": {
   "file_extension": ".jl",
   "mimetype": "application/julia",
   "name": "julia",
   "version": "1.9.3"
  }
 },
 "nbformat": 4,
 "nbformat_minor": 5
}
