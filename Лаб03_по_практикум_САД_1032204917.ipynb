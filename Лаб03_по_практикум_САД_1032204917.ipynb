{
 "cells": [
  {
   "cell_type": "code",
   "execution_count": 2,
   "id": "59356f17-ed3d-47c7-bb88-553c49dd0699",
   "metadata": {},
   "outputs": [
    {
     "name": "stdout",
     "output_type": "stream",
     "text": [
      "desktop-9ulgep1\\meric\n"
     ]
    }
   ],
   "source": [
    ";whoami"
   ]
  },
  {
   "cell_type": "code",
   "execution_count": 1,
   "id": "41213df8-ae6d-4a94-b101-6eb557ea65ce",
   "metadata": {},
   "outputs": [
    {
     "data": {
      "text/plain": [
       "2023-11-25T16:01:37.205"
      ]
     },
     "execution_count": 1,
     "metadata": {},
     "output_type": "execute_result"
    }
   ],
   "source": [
    "using Dates\n",
    "datetimenow = Dates.now()"
   ]
  },
  {
   "cell_type": "markdown",
   "id": "ada3a6c5-d7c4-437e-96c0-e0d5c344a6fb",
   "metadata": {},
   "source": [
    "## 3.2.1 Циклы while и for"
   ]
  },
  {
   "cell_type": "code",
   "execution_count": 2,
   "id": "1844a9fa-a343-4d0d-938d-794cac8ed408",
   "metadata": {},
   "outputs": [
    {
     "name": "stdout",
     "output_type": "stream",
     "text": [
      "1 2 3 4 5 6 7 8 9 10 "
     ]
    }
   ],
   "source": [
    "n = 0\n",
    "while n < 10\n",
    "    n += 1\n",
    "    print(n, \" \")\n",
    "end"
   ]
  },
  {
   "cell_type": "code",
   "execution_count": 3,
   "id": "6ffbc317-283d-4749-a308-dc7ec714691b",
   "metadata": {},
   "outputs": [
    {
     "name": "stdout",
     "output_type": "stream",
     "text": [
      "hi Ted, its great to see you!\n",
      "hi Robyn, its great to see you!\n",
      "hi Yeho, its great to see you!\n",
      "hi Heyo, its great to see you!\n",
      "hi Teyo, its great to see you!\n"
     ]
    }
   ],
   "source": [
    "friends = [\"Ted\", \"Robyn\", \"Yeho\", \"Heyo\", \"Teyo\"]\n",
    "i = 1\n",
    "while i <= length(friends)\n",
    "    friend = friends[i]\n",
    "    println(\"hi $friend, its great to see you!\")\n",
    "    i += 1\n",
    "end"
   ]
  },
  {
   "cell_type": "code",
   "execution_count": 4,
   "id": "39c49908-af3f-41b4-bc1e-9bd079d22062",
   "metadata": {},
   "outputs": [
    {
     "name": "stdout",
     "output_type": "stream",
     "text": [
      "1\n",
      "3\n",
      "5\n",
      "7\n",
      "9\n"
     ]
    }
   ],
   "source": [
    "for n in 1:2:10\n",
    "    println(n)\n",
    "end"
   ]
  },
  {
   "cell_type": "code",
   "execution_count": 5,
   "id": "82f84b68-49f9-44db-9e1a-d2d2938bd9cc",
   "metadata": {},
   "outputs": [
    {
     "name": "stdout",
     "output_type": "stream",
     "text": [
      "hi Ted, its great to see you!\n",
      "hi Robyn, its great to see you!\n",
      "hi Yeho, its great to see you!\n",
      "hi Heyo, its great to see you!\n",
      "hi Teyo, its great to see you!\n"
     ]
    }
   ],
   "source": [
    "friends = [\"Ted\", \"Robyn\", \"Yeho\", \"Heyo\", \"Teyo\"]\n",
    "i = 1\n",
    "for friend in friends\n",
    "    println(\"hi $friend, its great to see you!\")\n",
    "end"
   ]
  },
  {
   "cell_type": "code",
   "execution_count": 7,
   "id": "26ae4077-7650-4b9a-b8e3-743646e4af46",
   "metadata": {},
   "outputs": [
    {
     "data": {
      "text/plain": [
       "5×5 Matrix{Int64}:\n",
       " 2  3  4  5   6\n",
       " 3  4  5  6   7\n",
       " 4  5  6  7   8\n",
       " 5  6  7  8   9\n",
       " 6  7  8  9  10"
      ]
     },
     "execution_count": 7,
     "metadata": {},
     "output_type": "execute_result"
    }
   ],
   "source": [
    "m, n = 5, 5\n",
    "A = fill(0, (m, n))\n",
    "\n",
    "for i in 1:m\n",
    "    for j in 1:n\n",
    "        A[i,j] = i + j\n",
    "    end\n",
    "end\n",
    "A"
   ]
  },
  {
   "cell_type": "code",
   "execution_count": 8,
   "id": "074af44d-b79e-4d35-82c9-4fa48336a010",
   "metadata": {},
   "outputs": [
    {
     "data": {
      "text/plain": [
       "5×5 Matrix{Int64}:\n",
       " 2  3  4  5   6\n",
       " 3  4  5  6   7\n",
       " 4  5  6  7   8\n",
       " 5  6  7  8   9\n",
       " 6  7  8  9  10"
      ]
     },
     "execution_count": 8,
     "metadata": {},
     "output_type": "execute_result"
    }
   ],
   "source": [
    "B = fill(0, (m ,n))\n",
    "for i in 1:m, j in 1:n\n",
    "    B[i, j] = i + j\n",
    "end\n",
    "B"
   ]
  },
  {
   "cell_type": "code",
   "execution_count": 9,
   "id": "488e5faf-9c29-4398-bbd4-b48635f949a2",
   "metadata": {},
   "outputs": [
    {
     "data": {
      "text/plain": [
       "5×5 Matrix{Int64}:\n",
       " 2  3  4  5   6\n",
       " 3  4  5  6   7\n",
       " 4  5  6  7   8\n",
       " 5  6  7  8   9\n",
       " 6  7  8  9  10"
      ]
     },
     "execution_count": 9,
     "metadata": {},
     "output_type": "execute_result"
    }
   ],
   "source": [
    "C = [i + j for i in 1:m, j in 1:n]\n",
    "C"
   ]
  },
  {
   "cell_type": "markdown",
   "id": "f6ce40af-ea64-41c2-a6bd-c6929f1ef38f",
   "metadata": {},
   "source": [
    "## 3.2.2. Условные выражения"
   ]
  },
  {
   "cell_type": "code",
   "execution_count": 10,
   "id": "3bb6b4d4-58c5-44f6-98a8-3a994a623f1c",
   "metadata": {},
   "outputs": [
    {
     "name": "stdout",
     "output_type": "stream",
     "text": [
      "Buzz\n"
     ]
    }
   ],
   "source": [
    "N = 5\n",
    "\n",
    "if (N % 3 == 0) && (N % 5 == 0)\n",
    "    println(\"Fizzbuzz\")\n",
    "elseif N % 3 == 0\n",
    "    println(\"Fizz\")\n",
    "elseif N % 5 == 0\n",
    "    println(\"Buzz\")\n",
    "else\n",
    "    println(N)\n",
    "end"
   ]
  },
  {
   "cell_type": "code",
   "execution_count": 11,
   "id": "7d5efe93-450a-4ec0-a38c-a846934ddb74",
   "metadata": {},
   "outputs": [
    {
     "data": {
      "text/plain": [
       "10"
      ]
     },
     "execution_count": 11,
     "metadata": {},
     "output_type": "execute_result"
    }
   ],
   "source": [
    "x = 5\n",
    "y = 10\n",
    "(x > y) ? x : y"
   ]
  },
  {
   "cell_type": "markdown",
   "id": "b796b4e6-0356-42c1-8863-07829393ee36",
   "metadata": {},
   "source": [
    "## 3.2.3. Функции"
   ]
  },
  {
   "cell_type": "code",
   "execution_count": 12,
   "id": "3f5fbddf-fd7e-4bf7-a233-ef52a6deab45",
   "metadata": {},
   "outputs": [
    {
     "name": "stdout",
     "output_type": "stream",
     "text": [
      "hi ok, its great!\n"
     ]
    }
   ],
   "source": [
    "function sayhi(name)\n",
    "    println(\"hi $name, its great!\")\n",
    "end\n",
    "sayhi(\"ok\")"
   ]
  },
  {
   "cell_type": "code",
   "execution_count": 13,
   "id": "88b8c587-c64d-4e9c-ae79-14ef21814188",
   "metadata": {},
   "outputs": [
    {
     "data": {
      "text/plain": [
       "16"
      ]
     },
     "execution_count": 13,
     "metadata": {},
     "output_type": "execute_result"
    }
   ],
   "source": [
    "function f(x)\n",
    "    x^2\n",
    "end\n",
    "f(4)"
   ]
  },
  {
   "cell_type": "code",
   "execution_count": 15,
   "id": "28917691-b5c0-4bd4-925e-ef592786b035",
   "metadata": {},
   "outputs": [
    {
     "name": "stdout",
     "output_type": "stream",
     "text": [
      "hi ok, its great!\n"
     ]
    }
   ],
   "source": [
    "sayhi2(name) = println(\"hi $name, its great!\")\n",
    "sayhi2(\"ok\")"
   ]
  },
  {
   "cell_type": "code",
   "execution_count": 16,
   "id": "18dc56ba-59cc-4e6d-b441-c9fbed123569",
   "metadata": {},
   "outputs": [
    {
     "data": {
      "text/plain": [
       "16"
      ]
     },
     "execution_count": 16,
     "metadata": {},
     "output_type": "execute_result"
    }
   ],
   "source": [
    "f2(x) = x^2\n",
    "f2(4)"
   ]
  },
  {
   "cell_type": "code",
   "execution_count": 18,
   "id": "6130768b-ad8e-4754-b5ae-189703077ac2",
   "metadata": {},
   "outputs": [
    {
     "name": "stdout",
     "output_type": "stream",
     "text": [
      "hi bernard, its great!\n"
     ]
    }
   ],
   "source": [
    "sayhi3 = name -> println(\"hi $name, its great!\")\n",
    "sayhi3(\"bernard\")"
   ]
  },
  {
   "cell_type": "code",
   "execution_count": 19,
   "id": "49ac8115-b5a8-4536-bf15-13e1f446b305",
   "metadata": {},
   "outputs": [
    {
     "data": {
      "text/plain": [
       "1681"
      ]
     },
     "execution_count": 19,
     "metadata": {},
     "output_type": "execute_result"
    }
   ],
   "source": [
    "f3 = x -> x^2\n",
    "f3(41)"
   ]
  },
  {
   "cell_type": "code",
   "execution_count": 20,
   "id": "2e6b4d69-66ce-4bfe-bc8b-6cc30e3b11b7",
   "metadata": {},
   "outputs": [
    {
     "data": {
      "text/plain": [
       "3-element Vector{Int64}:\n",
       " 3\n",
       " 5\n",
       " 2"
      ]
     },
     "execution_count": 20,
     "metadata": {},
     "output_type": "execute_result"
    }
   ],
   "source": [
    "v = [3, 5, 2]\n",
    "sort(v)\n",
    "v"
   ]
  },
  {
   "cell_type": "code",
   "execution_count": 21,
   "id": "efabf308-c630-4f69-b7a6-3c7ce428e777",
   "metadata": {},
   "outputs": [
    {
     "data": {
      "text/plain": [
       "3-element Vector{Int64}:\n",
       " 2\n",
       " 3\n",
       " 5"
      ]
     },
     "execution_count": 21,
     "metadata": {},
     "output_type": "execute_result"
    }
   ],
   "source": [
    "sort!(v)\n",
    "v"
   ]
  },
  {
   "cell_type": "code",
   "execution_count": 22,
   "id": "5499e324-a821-4256-b3eb-3d2f9d196a99",
   "metadata": {},
   "outputs": [
    {
     "data": {
      "text/plain": [
       "3-element Vector{Int64}:\n",
       " 1\n",
       " 4\n",
       " 9"
      ]
     },
     "execution_count": 22,
     "metadata": {},
     "output_type": "execute_result"
    }
   ],
   "source": [
    "f(x) = x^2\n",
    "map(f, [1, 2, 3])"
   ]
  },
  {
   "cell_type": "code",
   "execution_count": 23,
   "id": "c439a285-cdfb-4944-ae79-5b01570266dd",
   "metadata": {},
   "outputs": [
    {
     "data": {
      "text/plain": [
       "3-element Vector{Int64}:\n",
       "  1\n",
       "  8\n",
       " 27"
      ]
     },
     "execution_count": 23,
     "metadata": {},
     "output_type": "execute_result"
    }
   ],
   "source": [
    "map(x -> x^3, [1, 2, 3])"
   ]
  },
  {
   "cell_type": "code",
   "execution_count": 24,
   "id": "723a1ac3-6bb4-41b3-8015-adda58ca929a",
   "metadata": {},
   "outputs": [
    {
     "data": {
      "text/plain": [
       "3-element Vector{Int64}:\n",
       " 1\n",
       " 4\n",
       " 9"
      ]
     },
     "execution_count": 24,
     "metadata": {},
     "output_type": "execute_result"
    }
   ],
   "source": [
    "broadcast(f, [1, 2, 3])"
   ]
  },
  {
   "cell_type": "code",
   "execution_count": 25,
   "id": "5eef1b31-00f8-41a5-849d-3e958dcd6620",
   "metadata": {},
   "outputs": [
    {
     "data": {
      "text/plain": [
       "3×3 Matrix{Int64}:\n",
       " 1  2  3\n",
       " 4  5  6\n",
       " 7  8  9"
      ]
     },
     "execution_count": 25,
     "metadata": {},
     "output_type": "execute_result"
    }
   ],
   "source": [
    "A = [i + 3*j for j in 0:2, i in 1:3]"
   ]
  },
  {
   "cell_type": "code",
   "execution_count": 26,
   "id": "4d88b2fc-e960-4a9b-94bb-41c25421dc08",
   "metadata": {},
   "outputs": [
    {
     "data": {
      "text/plain": [
       "3×3 Matrix{Int64}:\n",
       "  30   36   42\n",
       "  66   81   96\n",
       " 102  126  150"
      ]
     },
     "execution_count": 26,
     "metadata": {},
     "output_type": "execute_result"
    }
   ],
   "source": [
    "f(A)"
   ]
  },
  {
   "cell_type": "code",
   "execution_count": 27,
   "id": "13e69de7-6155-44e9-8ebb-70313bfe4137",
   "metadata": {},
   "outputs": [
    {
     "data": {
      "text/plain": [
       "3×3 Matrix{Int64}:\n",
       "  1   4   9\n",
       " 16  25  36\n",
       " 49  64  81"
      ]
     },
     "execution_count": 27,
     "metadata": {},
     "output_type": "execute_result"
    }
   ],
   "source": [
    "B = f.(A)"
   ]
  },
  {
   "cell_type": "code",
   "execution_count": 28,
   "id": "1aa973c8-4a02-4db8-90ef-c4ab8f897333",
   "metadata": {},
   "outputs": [
    {
     "data": {
      "text/plain": [
       "3×3 Matrix{Float64}:\n",
       "  3.0   6.0   9.0\n",
       " 12.0  15.0  18.0\n",
       " 21.0  24.0  27.0"
      ]
     },
     "execution_count": 28,
     "metadata": {},
     "output_type": "execute_result"
    }
   ],
   "source": [
    "A .+ 2 .* f.(A) ./ A"
   ]
  },
  {
   "cell_type": "code",
   "execution_count": 29,
   "id": "785886c8-6aa7-4eb9-890a-821704c94eca",
   "metadata": {},
   "outputs": [
    {
     "data": {
      "text/plain": [
       "3×3 Matrix{Float64}:\n",
       "  3.0   6.0   9.0\n",
       " 12.0  15.0  18.0\n",
       " 21.0  24.0  27.0"
      ]
     },
     "execution_count": 29,
     "metadata": {},
     "output_type": "execute_result"
    }
   ],
   "source": [
    "broadcast(x -> x + 2 * f(x) / x, A)"
   ]
  },
  {
   "cell_type": "markdown",
   "id": "20dfda28-d050-417f-9654-e0636dda91fd",
   "metadata": {},
   "source": [
    "## 3.2.4. Сторонние библиотеки (пакеты) в Julia"
   ]
  },
  {
   "cell_type": "code",
   "execution_count": 31,
   "id": "e460cc98-9bd8-4864-96e8-248ffaa0cd90",
   "metadata": {},
   "outputs": [
    {
     "data": {
      "image/svg+xml": [
       "<?xml version=\"1.0\" encoding=\"UTF-8\"?>\n",
       "<!DOCTYPE svg PUBLIC \"-//W3C//DTD SVG 1.1//EN\"\n",
       " \"http://www.w3.org/Graphics/SVG/1.1/DTD/svg11.dtd\">\n",
       "<svg xmlns=\"http://www.w3.org/2000/svg\" version=\"1.1\"\n",
       "     width=\"180mm\" height=\"25mm\"\n",
       "     viewBox=\"0 0 100 1\" preserveAspectRatio=\"none\"\n",
       "     shape-rendering=\"crispEdges\" stroke=\"none\">\n",
       "<rect width=\"1\" height=\".96\" x=\"0\" y=\"0\" fill=\"#000000\" />\n",
       "<rect width=\"1\" height=\".96\" x=\"1\" y=\"0\" fill=\"#FFFF74\" />\n",
       "<rect width=\"1\" height=\".96\" x=\"2\" y=\"0\" fill=\"#FF9BFF\" />\n",
       "<rect width=\"1\" height=\".96\" x=\"3\" y=\"0\" fill=\"#00D3FF\" />\n",
       "<rect width=\"1\" height=\".96\" x=\"4\" y=\"0\" fill=\"#E2630D\" />\n",
       "<rect width=\"1\" height=\".96\" x=\"5\" y=\"0\" fill=\"#007E00\" />\n",
       "<rect width=\"1\" height=\".96\" x=\"6\" y=\"0\" fill=\"#0050E6\" />\n",
       "<rect width=\"1\" height=\".96\" x=\"7\" y=\"0\" fill=\"#AC0047\" />\n",
       "<rect width=\"1\" height=\".96\" x=\"8\" y=\"0\" fill=\"#00FFC8\" />\n",
       "<rect width=\"1\" height=\".96\" x=\"9\" y=\"0\" fill=\"#006468\" />\n",
       "<rect width=\"1\" height=\".96\" x=\"10\" y=\"0\" fill=\"#FFD5C4\" />\n",
       "<rect width=\"1\" height=\".96\" x=\"11\" y=\"0\" fill=\"#6C5200\" />\n",
       "<rect width=\"1\" height=\".96\" x=\"12\" y=\"0\" fill=\"#7A7581\" />\n",
       "<rect width=\"1\" height=\".96\" x=\"13\" y=\"0\" fill=\"#44005C\" />\n",
       "<rect width=\"1\" height=\".96\" x=\"14\" y=\"0\" fill=\"#9E9E77\" />\n",
       "<rect width=\"1\" height=\".96\" x=\"15\" y=\"0\" fill=\"#FF5C78\" />\n",
       "<rect width=\"1\" height=\".96\" x=\"16\" y=\"0\" fill=\"#8197F1\" />\n",
       "<rect width=\"1\" height=\".96\" x=\"17\" y=\"0\" fill=\"#003200\" />\n",
       "<rect width=\"1\" height=\".96\" x=\"18\" y=\"0\" fill=\"#C721DD\" />\n",
       "<rect width=\"1\" height=\".96\" x=\"19\" y=\"0\" fill=\"#FFAD07\" />\n",
       "<rect width=\"1\" height=\".96\" x=\"20\" y=\"0\" fill=\"#611C00\" />\n",
       "<rect width=\"1\" height=\".96\" x=\"21\" y=\"0\" fill=\"#F3FFFA\" />\n",
       "<rect width=\"1\" height=\".96\" x=\"22\" y=\"0\" fill=\"#009E88\" />\n",
       "<rect width=\"1\" height=\".96\" x=\"23\" y=\"0\" fill=\"#5EC700\" />\n",
       "<rect width=\"1\" height=\".96\" x=\"24\" y=\"0\" fill=\"#002D54\" />\n",
       "<rect width=\"1\" height=\".96\" x=\"25\" y=\"0\" fill=\"#553C4A\" />\n",
       "<rect width=\"1\" height=\".96\" x=\"26\" y=\"0\" fill=\"#444439\" />\n",
       "<rect width=\"1\" height=\".96\" x=\"27\" y=\"0\" fill=\"#008FB6\" />\n",
       "<rect width=\"1\" height=\".96\" x=\"28\" y=\"0\" fill=\"#CFD4FD\" />\n",
       "<rect width=\"1\" height=\".96\" x=\"29\" y=\"0\" fill=\"#C40000\" />\n",
       "<rect width=\"1\" height=\".96\" x=\"30\" y=\"0\" fill=\"#A4675C\" />\n",
       "<rect width=\"1\" height=\".96\" x=\"31\" y=\"0\" fill=\"#BB8FA8\" />\n",
       "<rect width=\"1\" height=\".96\" x=\"32\" y=\"0\" fill=\"#290001\" />\n",
       "<rect width=\"1\" height=\".96\" x=\"33\" y=\"0\" fill=\"#A78600\" />\n",
       "<rect width=\"1\" height=\".96\" x=\"34\" y=\"0\" fill=\"#002D30\" />\n",
       "<rect width=\"1\" height=\".96\" x=\"35\" y=\"0\" fill=\"#C7DEAA\" />\n",
       "<rect width=\"1\" height=\".96\" x=\"36\" y=\"0\" fill=\"#8D9FA3\" />\n",
       "<rect width=\"1\" height=\".96\" x=\"37\" y=\"0\" fill=\"#6F5B95\" />\n",
       "<rect width=\"1\" height=\".96\" x=\"38\" y=\"0\" fill=\"#A1FFFF\" />\n",
       "<rect width=\"1\" height=\".96\" x=\"39\" y=\"0\" fill=\"#B39688\" />\n",
       "<rect width=\"1\" height=\".96\" x=\"40\" y=\"0\" fill=\"#4E6D50\" />\n",
       "<rect width=\"1\" height=\".96\" x=\"41\" y=\"0\" fill=\"#FF977B\" />\n",
       "<rect width=\"1\" height=\".96\" x=\"42\" y=\"0\" fill=\"#FFD1EC\" />\n",
       "<rect width=\"1\" height=\".96\" x=\"43\" y=\"0\" fill=\"#9E5100\" />\n",
       "<rect width=\"1\" height=\".96\" x=\"44\" y=\"0\" fill=\"#AE5B8E\" />\n",
       "<rect width=\"1\" height=\".96\" x=\"45\" y=\"0\" fill=\"#799400\" />\n",
       "<rect width=\"1\" height=\".96\" x=\"46\" y=\"0\" fill=\"#362200\" />\n",
       "<rect width=\"1\" height=\".96\" x=\"47\" y=\"0\" fill=\"#0E0026\" />\n",
       "<rect width=\"1\" height=\".96\" x=\"48\" y=\"0\" fill=\"#80765F\" />\n",
       "<rect width=\"1\" height=\".96\" x=\"49\" y=\"0\" fill=\"#485C00\" />\n",
       "<rect width=\"1\" height=\".96\" x=\"50\" y=\"0\" fill=\"#C8C2B5\" />\n",
       "<rect width=\"1\" height=\".96\" x=\"51\" y=\"0\" fill=\"#8800A1\" />\n",
       "<rect width=\"1\" height=\".96\" x=\"52\" y=\"0\" fill=\"#00A853\" />\n",
       "<rect width=\"1\" height=\".96\" x=\"53\" y=\"0\" fill=\"#FFE1AA\" />\n",
       "<rect width=\"1\" height=\".96\" x=\"54\" y=\"0\" fill=\"#674F42\" />\n",
       "<rect width=\"1\" height=\".96\" x=\"55\" y=\"0\" fill=\"#FF342D\" />\n",
       "<rect width=\"1\" height=\".96\" x=\"56\" y=\"0\" fill=\"#6B0041\" />\n",
       "<rect width=\"1\" height=\".96\" x=\"57\" y=\"0\" fill=\"#0806B1\" />\n",
       "<rect width=\"1\" height=\".96\" x=\"58\" y=\"0\" fill=\"#986DFF\" />\n",
       "<rect width=\"1\" height=\".96\" x=\"59\" y=\"0\" fill=\"#FF4EC7\" />\n",
       "<rect width=\"1\" height=\".96\" x=\"60\" y=\"0\" fill=\"#8AB9A2\" />\n",
       "<rect width=\"1\" height=\".96\" x=\"61\" y=\"0\" fill=\"#2EFF71\" />\n",
       "<rect width=\"1\" height=\".96\" x=\"62\" y=\"0\" fill=\"#005577\" />\n",
       "<rect width=\"1\" height=\".96\" x=\"63\" y=\"0\" fill=\"#0078E3\" />\n",
       "<rect width=\"1\" height=\".96\" x=\"64\" y=\"0\" fill=\"#B2ADB9\" />\n",
       "<rect width=\"1\" height=\".96\" x=\"65\" y=\"0\" fill=\"#00C3C6\" />\n",
       "<rect width=\"1\" height=\".96\" x=\"66\" y=\"0\" fill=\"#00AEFF\" />\n",
       "<rect width=\"1\" height=\".96\" x=\"67\" y=\"0\" fill=\"#4E545F\" />\n",
       "<rect width=\"1\" height=\".96\" x=\"68\" y=\"0\" fill=\"#FF9BB0\" />\n",
       "<rect width=\"1\" height=\".96\" x=\"69\" y=\"0\" fill=\"#FED206\" />\n",
       "<rect width=\"1\" height=\".96\" x=\"70\" y=\"0\" fill=\"#687B7A\" />\n",
       "<rect width=\"1\" height=\".96\" x=\"71\" y=\"0\" fill=\"#B1DCFC\" />\n",
       "<rect width=\"1\" height=\".96\" x=\"72\" y=\"0\" fill=\"#FFF6FF\" />\n",
       "<rect width=\"1\" height=\".96\" x=\"73\" y=\"0\" fill=\"#620019\" />\n",
       "<rect width=\"1\" height=\".96\" x=\"74\" y=\"0\" fill=\"#C79253\" />\n",
       "<rect width=\"1\" height=\".96\" x=\"75\" y=\"0\" fill=\"#A891CF\" />\n",
       "<rect width=\"1\" height=\".96\" x=\"76\" y=\"0\" fill=\"#EF007A\" />\n",
       "<rect width=\"1\" height=\".96\" x=\"77\" y=\"0\" fill=\"#B8CE00\" />\n",
       "<rect width=\"1\" height=\".96\" x=\"78\" y=\"0\" fill=\"#001700\" />\n",
       "<rect width=\"1\" height=\".96\" x=\"79\" y=\"0\" fill=\"#204B39\" />\n",
       "<rect width=\"1\" height=\".96\" x=\"80\" y=\"0\" fill=\"#875866\" />\n",
       "<rect width=\"1\" height=\".96\" x=\"81\" y=\"0\" fill=\"#B5FF4E\" />\n",
       "<rect width=\"1\" height=\".96\" x=\"82\" y=\"0\" fill=\"#B40080\" />\n",
       "<rect width=\"1\" height=\".96\" x=\"83\" y=\"0\" fill=\"#853F34\" />\n",
       "<rect width=\"1\" height=\".96\" x=\"84\" y=\"0\" fill=\"#69936B\" />\n",
       "<rect width=\"1\" height=\".96\" x=\"85\" y=\"0\" fill=\"#FFBC80\" />\n",
       "<rect width=\"1\" height=\".96\" x=\"86\" y=\"0\" fill=\"#4C3779\" />\n",
       "<rect width=\"1\" height=\".96\" x=\"87\" y=\"0\" fill=\"#323606\" />\n",
       "<rect width=\"1\" height=\".96\" x=\"88\" y=\"0\" fill=\"#008E94\" />\n",
       "<rect width=\"1\" height=\".96\" x=\"89\" y=\"0\" fill=\"#CAAC51\" />\n",
       "<rect width=\"1\" height=\".96\" x=\"90\" y=\"0\" fill=\"#787B3B\" />\n",
       "<rect width=\"1\" height=\".96\" x=\"91\" y=\"0\" fill=\"#B6F9D9\" />\n",
       "<rect width=\"1\" height=\".96\" x=\"92\" y=\"0\" fill=\"#DA003F\" />\n",
       "<rect width=\"1\" height=\".96\" x=\"93\" y=\"0\" fill=\"#2E2124\" />\n",
       "<rect width=\"1\" height=\".96\" x=\"94\" y=\"0\" fill=\"#005815\" />\n",
       "<rect width=\"1\" height=\".96\" x=\"95\" y=\"0\" fill=\"#FF8E1D\" />\n",
       "<rect width=\"1\" height=\".96\" x=\"96\" y=\"0\" fill=\"#6674B1\" />\n",
       "<rect width=\"1\" height=\".96\" x=\"97\" y=\"0\" fill=\"#00CDAD\" />\n",
       "<rect width=\"1\" height=\".96\" x=\"98\" y=\"0\" fill=\"#007F63\" />\n",
       "<rect width=\"1\" height=\".96\" x=\"99\" y=\"0\" fill=\"#996F3D\" />\n",
       "</svg>"
      ],
      "text/plain": [
       "100-element Array{RGB{N0f8},1} with eltype RGB{FixedPointNumbers.N0f8}:\n",
       " RGB{N0f8}(0.0,0.0,0.0)\n",
       " RGB{N0f8}(1.0,1.0,0.455)\n",
       " RGB{N0f8}(1.0,0.608,1.0)\n",
       " RGB{N0f8}(0.0,0.827,1.0)\n",
       " RGB{N0f8}(0.886,0.388,0.051)\n",
       " RGB{N0f8}(0.0,0.494,0.0)\n",
       " RGB{N0f8}(0.0,0.314,0.902)\n",
       " RGB{N0f8}(0.675,0.0,0.278)\n",
       " RGB{N0f8}(0.0,1.0,0.784)\n",
       " RGB{N0f8}(0.0,0.392,0.408)\n",
       " RGB{N0f8}(1.0,0.835,0.769)\n",
       " RGB{N0f8}(0.424,0.322,0.0)\n",
       " RGB{N0f8}(0.478,0.459,0.506)\n",
       " ⋮\n",
       " RGB{N0f8}(0.0,0.557,0.58)\n",
       " RGB{N0f8}(0.792,0.675,0.318)\n",
       " RGB{N0f8}(0.471,0.482,0.231)\n",
       " RGB{N0f8}(0.714,0.976,0.851)\n",
       " RGB{N0f8}(0.855,0.0,0.247)\n",
       " RGB{N0f8}(0.18,0.129,0.141)\n",
       " RGB{N0f8}(0.0,0.345,0.082)\n",
       " RGB{N0f8}(1.0,0.557,0.114)\n",
       " RGB{N0f8}(0.4,0.455,0.694)\n",
       " RGB{N0f8}(0.0,0.804,0.678)\n",
       " RGB{N0f8}(0.0,0.498,0.388)\n",
       " RGB{N0f8}(0.6,0.435,0.239)"
      ]
     },
     "execution_count": 31,
     "metadata": {},
     "output_type": "execute_result"
    }
   ],
   "source": [
    "using Colors\n",
    "palette = distinguishable_colors(100)"
   ]
  },
  {
   "cell_type": "code",
   "execution_count": 32,
   "id": "bb4023c0-8a1f-4d53-803e-08605a7fb45d",
   "metadata": {},
   "outputs": [
    {
     "data": {
      "image/svg+xml": [
       "<?xml version=\"1.0\" encoding=\"UTF-8\"?>\n",
       "<!DOCTYPE svg PUBLIC \"-//W3C//DTD SVG 1.1//EN\"\n",
       " \"http://www.w3.org/Graphics/SVG/1.1/DTD/svg11.dtd\">\n",
       "<svg xmlns=\"http://www.w3.org/2000/svg\" version=\"1.1\"\n",
       "     width=\"75mm\" height=\"75mm\"\n",
       "     viewBox=\"0 0 3 3\" preserveAspectRatio=\"none\"\n",
       "     shape-rendering=\"crispEdges\" stroke=\"none\">\n",
       "<rect width=\".96\" height=\".96\" x=\"0\" y=\"0\" fill=\"#008E94\" />\n",
       "<rect width=\".96\" height=\".96\" x=\"1\" y=\"0\" fill=\"#4E6D50\" />\n",
       "<rect width=\".96\" height=\".96\" x=\"2\" y=\"0\" fill=\"#F3FFFA\" />\n",
       "<rect width=\".96\" height=\".96\" x=\"0\" y=\"1\" fill=\"#B39688\" />\n",
       "<rect width=\".96\" height=\".96\" x=\"1\" y=\"1\" fill=\"#687B7A\" />\n",
       "<rect width=\".96\" height=\".96\" x=\"2\" y=\"1\" fill=\"#FF5C78\" />\n",
       "<rect width=\".96\" height=\".96\" x=\"0\" y=\"2\" fill=\"#FF342D\" />\n",
       "<rect width=\".96\" height=\".96\" x=\"1\" y=\"2\" fill=\"#00D3FF\" />\n",
       "<rect width=\".96\" height=\".96\" x=\"2\" y=\"2\" fill=\"#007E00\" />\n",
       "</svg>"
      ],
      "text/plain": [
       "3×3 Array{RGB{N0f8},2} with eltype RGB{FixedPointNumbers.N0f8}:\n",
       " RGB{N0f8}(0.0,0.557,0.58)     …  RGB{N0f8}(0.953,1.0,0.98)\n",
       " RGB{N0f8}(0.702,0.588,0.533)     RGB{N0f8}(1.0,0.361,0.471)\n",
       " RGB{N0f8}(1.0,0.204,0.176)       RGB{N0f8}(0.0,0.494,0.0)"
      ]
     },
     "execution_count": 32,
     "metadata": {},
     "output_type": "execute_result"
    }
   ],
   "source": [
    "rand(palette, 3, 3)"
   ]
  },
  {
   "cell_type": "markdown",
   "id": "c2a60699-e8dd-441c-950e-6ca3231a84d9",
   "metadata": {},
   "source": [
    "## Задания для самостоятельного выполнения"
   ]
  },
  {
   "cell_type": "markdown",
   "id": "fbf53c70-1063-4a20-bc4e-228ca026fb28",
   "metadata": {},
   "source": [
    "**1- Используя циклы while и for:**\n",
    "- выведите на экран целые числа от 1 до 100 и напечатайте их квадраты;"
   ]
  },
  {
   "cell_type": "code",
   "execution_count": 36,
   "id": "055a5ce1-cedd-48f9-87c1-590cc9f87471",
   "metadata": {},
   "outputs": [
    {
     "name": "stdout",
     "output_type": "stream",
     "text": [
      "123456789101112131415161718192021222324252627282930313233343536373839404142434445464748495051525354555657585960616263646566676869707172737475767778798081828384858687888990919293949596979899100"
     ]
    }
   ],
   "source": [
    "for i in 1:1:100\n",
    "    print(i)\n",
    "end"
   ]
  },
  {
   "cell_type": "code",
   "execution_count": 37,
   "id": "ae5f151f-848e-49cf-af01-30cd1d1ee7c9",
   "metadata": {},
   "outputs": [
    {
     "name": "stdout",
     "output_type": "stream",
     "text": [
      "1491625364964811001211441691962252562893243614004414845295766256767297848419009611024108911561225129613691444152116001681176418491936202521162209230424012500260127042809291630253136324933643481360037213844396940964225435644894624476149005041518453295476562557765929608462416400656167246889705672257396756977447921810082818464864988369025921694099604980110000"
     ]
    }
   ],
   "source": [
    "i = 1\n",
    "while i <= 100\n",
    "    print(i^2)\n",
    "    i += 1\n",
    "end"
   ]
  },
  {
   "cell_type": "markdown",
   "id": "3a1f15dd-8c71-449e-83fc-a0677408a8f9",
   "metadata": {},
   "source": [
    "- •\tсоздайте словарь squares, который будет содержать целые числа в качестве ключей и квадраты в качестве их пар-значений;"
   ]
  },
  {
   "cell_type": "code",
   "execution_count": 38,
   "id": "b35bb564-6113-4e4b-8fe2-878f8eb77cc5",
   "metadata": {},
   "outputs": [
    {
     "data": {
      "text/plain": [
       "Dict{Int64, Int64} with 100 entries:\n",
       "  5  => 25\n",
       "  56 => 3136\n",
       "  35 => 1225\n",
       "  55 => 3025\n",
       "  60 => 3600\n",
       "  30 => 900\n",
       "  32 => 1024\n",
       "  6  => 36\n",
       "  67 => 4489\n",
       "  45 => 2025\n",
       "  73 => 5329\n",
       "  64 => 4096\n",
       "  90 => 8100\n",
       "  4  => 16\n",
       "  13 => 169\n",
       "  54 => 2916\n",
       "  63 => 3969\n",
       "  86 => 7396\n",
       "  91 => 8281\n",
       "  62 => 3844\n",
       "  58 => 3364\n",
       "  52 => 2704\n",
       "  12 => 144\n",
       "  28 => 784\n",
       "  75 => 5625\n",
       "  ⋮  => ⋮"
      ]
     },
     "execution_count": 38,
     "metadata": {},
     "output_type": "execute_result"
    }
   ],
   "source": [
    "squares = Dict{Int64, Int64}()\n",
    "for i in 1:1:100\n",
    "    push!(squares, i => i^2)\n",
    "end\n",
    "pairs(squares)"
   ]
  },
  {
   "cell_type": "markdown",
   "id": "67432329-bc86-4120-a951-faedac4d32f0",
   "metadata": {},
   "source": [
    "- создайте массив squares_arr, содержащий квадраты всех чисел от 1 до 100.\n",
    "\n"
   ]
  },
  {
   "cell_type": "code",
   "execution_count": 40,
   "id": "d2337652-46e3-45db-8c46-bff754f8e25e",
   "metadata": {},
   "outputs": [
    {
     "data": {
      "text/plain": [
       "100-element Vector{Any}:\n",
       "     1\n",
       "     4\n",
       "     9\n",
       "    16\n",
       "    25\n",
       "    36\n",
       "    49\n",
       "    64\n",
       "    81\n",
       "   100\n",
       "   121\n",
       "   144\n",
       "   169\n",
       "     ⋮\n",
       "  7921\n",
       "  8100\n",
       "  8281\n",
       "  8464\n",
       "  8649\n",
       "  8836\n",
       "  9025\n",
       "  9216\n",
       "  9409\n",
       "  9604\n",
       "  9801\n",
       " 10000"
      ]
     },
     "execution_count": 40,
     "metadata": {},
     "output_type": "execute_result"
    }
   ],
   "source": [
    "numbers = []\n",
    "for i in 1:1:100\n",
    "    append!(numbers, i)\n",
    "end\n",
    "\n",
    "squares_arr = []\n",
    "i = 1\n",
    "while i <= length(numbers)\n",
    "    append!(squares_arr, numbers[i]^2)\n",
    "    i += 1\n",
    "end\n",
    "squares_arr"
   ]
  },
  {
   "cell_type": "markdown",
   "id": "00ccf788-af66-45af-a92c-d2829cc5de80",
   "metadata": {},
   "source": [
    "**2.\tНапишите условный оператор, который печатает число, если число чётное, и строку «нечётное», если число нечётное. Перепишите код, используя тернарный оператор.**"
   ]
  },
  {
   "cell_type": "code",
   "execution_count": 41,
   "id": "f89356bf-c73a-46ef-b29d-49dc4f6980a0",
   "metadata": {},
   "outputs": [
    {
     "name": "stdout",
     "output_type": "stream",
     "text": [
      "нечётное\n"
     ]
    }
   ],
   "source": [
    "N = 5\n",
    "if N % 2 == 0\n",
    "    println(\"чётное\")\n",
    "else \n",
    "    println(\"нечётное\")\n",
    "end"
   ]
  },
  {
   "cell_type": "code",
   "execution_count": 42,
   "id": "82adeae1-592d-4dc2-91a8-a00eee045d75",
   "metadata": {},
   "outputs": [
    {
     "name": "stdout",
     "output_type": "stream",
     "text": [
      "чётное\n"
     ]
    }
   ],
   "source": [
    "N = 4\n",
    "(N % 2 == 0) ? println(\"чётное\") : println(\"нечётное\")"
   ]
  },
  {
   "cell_type": "markdown",
   "id": "9e0df887-cd61-420c-b41a-9129d978bc95",
   "metadata": {},
   "source": [
    "**3. Напишите функцию add_one, которая добавляет 1 к своему входу.**"
   ]
  },
  {
   "cell_type": "code",
   "execution_count": 43,
   "id": "b5b949f6-2472-49e6-a220-f4184e1575bf",
   "metadata": {},
   "outputs": [
    {
     "data": {
      "text/plain": [
       "6"
      ]
     },
     "execution_count": 43,
     "metadata": {},
     "output_type": "execute_result"
    }
   ],
   "source": [
    "function add_one(X)\n",
    "    X + 1\n",
    "end\n",
    "add_one(5)"
   ]
  },
  {
   "cell_type": "markdown",
   "id": "e945f52f-7153-4721-8d01-65abb18de8e1",
   "metadata": {},
   "source": [
    "**4. Используйте  map()  или  broadcast()  для  задания  матрицы  𝐴,   каждый элемент которой увеличивается на единицу по сравнению с предыдущим.**"
   ]
  },
  {
   "cell_type": "code",
   "execution_count": 44,
   "id": "f34836a3-9743-4246-ae53-ae8933f957b2",
   "metadata": {},
   "outputs": [
    {
     "data": {
      "text/plain": [
       "4×4 Matrix{Int64}:\n",
       " 1  5   9  13\n",
       " 2  6  10  14\n",
       " 3  7  11  15\n",
       " 4  8  12  16"
      ]
     },
     "execution_count": 44,
     "metadata": {},
     "output_type": "execute_result"
    }
   ],
   "source": [
    "X = fill(1, 4 * 4)\n",
    "Y = collect(0:(length(X) - 1))\n",
    "X = reshape(map(+, X, Y), (4, 4))"
   ]
  },
  {
   "cell_type": "markdown",
   "id": "26bdc2f5-ae39-43c3-8791-0a4fbdf50a9a",
   "metadata": {},
   "source": [
    "**5. Задайте матрицу 𝐴 следующего вида**"
   ]
  },
  {
   "cell_type": "code",
   "execution_count": 45,
   "id": "548946f8-2593-4412-b8ee-4b5a8fdf0f4e",
   "metadata": {},
   "outputs": [
    {
     "data": {
      "text/plain": [
       "3×3 Matrix{Int64}:\n",
       "  1   1   3\n",
       "  5   2   6\n",
       " -2  -1  -3"
      ]
     },
     "execution_count": 45,
     "metadata": {},
     "output_type": "execute_result"
    }
   ],
   "source": [
    "A = [1 1 3; 5 2 6; -2 -1 -3]"
   ]
  },
  {
   "cell_type": "code",
   "execution_count": 46,
   "id": "5faedc46-3544-41f0-ae7e-845c3a9460ad",
   "metadata": {},
   "outputs": [
    {
     "data": {
      "text/plain": [
       "3×3 Matrix{Int64}:\n",
       " 0  0  0\n",
       " 0  0  0\n",
       " 0  0  0"
      ]
     },
     "execution_count": 46,
     "metadata": {},
     "output_type": "execute_result"
    }
   ],
   "source": [
    "# •\tНайдите 𝐴 ^ 3.\n",
    "A^3"
   ]
  },
  {
   "cell_type": "code",
   "execution_count": 47,
   "id": "16d3acba-05d1-4e7d-b6a7-e83d2dce5b91",
   "metadata": {},
   "outputs": [
    {
     "data": {
      "text/plain": [
       "3×3 Matrix{Int64}:\n",
       "  1   1   4\n",
       "  5   2   8\n",
       " -2  -1  -4"
      ]
     },
     "execution_count": 47,
     "metadata": {},
     "output_type": "execute_result"
    }
   ],
   "source": [
    "# •\tЗамените третий столбец матрицы 𝐴 на сумму второго и третьего столбцов.\n",
    "for i in 7:1:9\n",
    "    A[i] += A[i-3]\n",
    "end\n",
    "A"
   ]
  },
  {
   "cell_type": "markdown",
   "id": "1369fcad-de69-416c-9fc2-a5afa776a61a",
   "metadata": {},
   "source": [
    "**6- Создайте матрицу 𝐵 с элементами 𝐵𝑖1 = 10, 𝐵𝑖2 = −10, 𝐵𝑖3 = 10, 𝑖 = 1, 2, … , 15.\n",
    "Вычислите матрицу 𝐶 = 𝐵𝑇𝐵.**"
   ]
  },
  {
   "cell_type": "code",
   "execution_count": 49,
   "id": "fb100fc5-c229-433c-9d54-e1bac4aa4475",
   "metadata": {},
   "outputs": [
    {
     "data": {
      "text/plain": [
       "15×3 Matrix{Int32}:\n",
       " 10  -10  10\n",
       " 10  -10  10\n",
       " 10  -10  10\n",
       " 10  -10  10\n",
       " 10  -10  10\n",
       " 10  -10  10\n",
       " 10  -10  10\n",
       " 10  -10  10\n",
       " 10  -10  10\n",
       " 10  -10  10\n",
       " 10  -10  10\n",
       " 10  -10  10\n",
       " 10  -10  10\n",
       " 10  -10  10\n",
       " 10  -10  10"
      ]
     },
     "execution_count": 49,
     "metadata": {},
     "output_type": "execute_result"
    }
   ],
   "source": [
    "B = Array{Int32, 2}(undef, 15, 3)\n",
    "\n",
    "for i in 1:1:15\n",
    "    B[i, 1] = 10\n",
    "    B[i, 2] = -10\n",
    "    B[i, 3] = 10\n",
    "end\n",
    "B"
   ]
  },
  {
   "cell_type": "code",
   "execution_count": 50,
   "id": "172ff3dd-c165-4701-8cc1-0d09998dab51",
   "metadata": {},
   "outputs": [
    {
     "data": {
      "text/plain": [
       "3×3 Matrix{Int32}:\n",
       "  1500  -1500   1500\n",
       " -1500   1500  -1500\n",
       "  1500  -1500   1500"
      ]
     },
     "execution_count": 50,
     "metadata": {},
     "output_type": "execute_result"
    }
   ],
   "source": [
    "C = (B')*B\n",
    "C"
   ]
  },
  {
   "cell_type": "markdown",
   "id": "2123153d-2a4f-469f-bed8-11708a7df8d4",
   "metadata": {},
   "source": [
    "**7- Создайте матрицу 𝑍 размерности 6 × 6, все элементы которой равны нулю, и матрицу 𝐸, все элементы которой равны 1. Используя  цикл while или for и закономерности расположения элементов, создайте   следующие матрицы размерности 6 × 6.**"
   ]
  },
  {
   "cell_type": "code",
   "execution_count": 54,
   "id": "436b388f-af2d-4bf2-9073-75dabffe1697",
   "metadata": {},
   "outputs": [
    {
     "data": {
      "text/plain": [
       "6×6 Matrix{Int64}:\n",
       " 0  1  0  0  0  0\n",
       " 1  0  1  0  0  0\n",
       " 0  1  0  1  0  0\n",
       " 0  0  1  0  1  0\n",
       " 0  0  0  1  0  1\n",
       " 0  0  0  0  1  0"
      ]
     },
     "execution_count": 54,
     "metadata": {},
     "output_type": "execute_result"
    }
   ],
   "source": [
    "E = ones(Int64, 6, 6)\n",
    "z1 = zeros(Int64, 6, 6)\n",
    "for i in 1:1:6\n",
    "    if i != 1\n",
    "        z1[i, i - 1] = E[i, i - 1]\n",
    "    end\n",
    "    if i != 6\n",
    "        z1[i, i + 1] = E[i, i + 1]\n",
    "    end\n",
    "end\n",
    "z1"
   ]
  },
  {
   "cell_type": "code",
   "execution_count": 55,
   "id": "f872ebbb-1e96-4c51-acba-409ed26acbda",
   "metadata": {},
   "outputs": [
    {
     "data": {
      "text/plain": [
       "6×6 Matrix{Int64}:\n",
       " 1  0  1  0  0  0\n",
       " 0  1  0  1  0  0\n",
       " 1  0  1  0  1  0\n",
       " 0  1  0  1  0  1\n",
       " 0  0  1  0  1  0\n",
       " 0  0  0  1  0  1"
      ]
     },
     "execution_count": 55,
     "metadata": {},
     "output_type": "execute_result"
    }
   ],
   "source": [
    "z2 = zeros(Int64, 6, 6)\n",
    "for i in 1:1:6\n",
    "    z2[i,i] = 1 \n",
    "    if(i+2 <= 6) z2[i, i + 2] = E[i, i + 2] end\n",
    "    if(i-2 >= 1) z2[i, i - 2] = E[i, i - 2] end\n",
    "end\n",
    "z2"
   ]
  },
  {
   "cell_type": "code",
   "execution_count": 56,
   "id": "1f5b8be6-3231-4d4d-bdca-28d71abff822",
   "metadata": {},
   "outputs": [
    {
     "data": {
      "text/plain": [
       "6×6 Matrix{Int64}:\n",
       " 0  0  0  1  0  1\n",
       " 0  0  1  0  1  0\n",
       " 0  1  0  1  0  1\n",
       " 1  0  1  0  1  0\n",
       " 0  1  0  1  0  0\n",
       " 1  0  1  0  0  0"
      ]
     },
     "execution_count": 56,
     "metadata": {},
     "output_type": "execute_result"
    }
   ],
   "source": [
    "z3 = zeros(Int64, 6, 6)\n",
    "for i in 1:1:6\n",
    "    z3[i,7-i] = 1 \n",
    "    if(7-i+2 <= 6) z3[i, 9 - i] = E[i, 9 - i] end\n",
    "    if(7-i-2 >= 1) z3[i, 5 - i] = E[i, 5 - i] end\n",
    "end\n",
    "z3"
   ]
  },
  {
   "cell_type": "code",
   "execution_count": 57,
   "id": "02806d4e-232c-46b7-9225-7859bcbaaffb",
   "metadata": {},
   "outputs": [
    {
     "data": {
      "text/plain": [
       "6×6 Matrix{Int64}:\n",
       " 1  0  1  0  1  0\n",
       " 0  1  0  1  0  1\n",
       " 1  0  1  0  1  0\n",
       " 0  1  0  1  0  1\n",
       " 1  0  1  0  1  0\n",
       " 0  1  0  1  0  1"
      ]
     },
     "execution_count": 57,
     "metadata": {},
     "output_type": "execute_result"
    }
   ],
   "source": [
    "z4 = zeros(Int64, 6, 6)\n",
    "for i in 1:1:6\n",
    "    z4[i,i] = 1 \n",
    "    if(i+2 <= 6) z4[i, i + 2] = E[i, i + 2] end\n",
    "    if(i-2 >= 1) z4[i, i - 2] = E[i, i - 2] end\n",
    "    if(i+4 <= 6) z4[i, i + 4] = E[i, i + 4] end\n",
    "    if(i-4 >= 1) z4[i, i - 4] = E[i, i - 4] end\n",
    "end\n",
    "z4"
   ]
  },
  {
   "cell_type": "markdown",
   "id": "2cc11b39-02f9-4e49-830b-68ba700363d4",
   "metadata": {},
   "source": [
    "**8- В языке R есть функция outer(). Фактически, это матричное умножение с возмож-\n",
    "ностью изменить применяемую операцию (например, заменить произведение на\n",
    "сложение или возведение в степень).**\n",
    "\n",
    "- Напишите свою функцию, аналогичную функции outer() языка R. Функция\n",
    "должна иметь следующий интерфейс: outer(x,y,operation). Таким образом,\n",
    "функция вида outer(A,B,*) должна быть эквивалентна произведению матриц\n",
    "𝐴 и 𝐵 размерностями 𝐿 × 𝑀 и 𝑀 × 𝑁 соответственно, где элементы резуль-\n",
    "тирующей матрицы 𝐶 имеют вид 𝐶𝑖𝑗 =\n",
    "𝑀∑𝑘=1𝐴𝑖𝑘𝐵𝑘𝑗 (или в тензорном виде𝐶𝑗𝑖 = 𝑀∑𝑘=1𝐴𝑖𝑘𝐵𝑘𝑗 )."
   ]
  },
  {
   "cell_type": "code",
   "execution_count": 58,
   "id": "578b103d-d44e-4bc6-af85-21afd36121d8",
   "metadata": {},
   "outputs": [
    {
     "data": {
      "text/plain": [
       "outer (generic function with 1 method)"
      ]
     },
     "execution_count": 58,
     "metadata": {},
     "output_type": "execute_result"
    }
   ],
   "source": [
    "function outer(x, y, operation)\n",
    "    if (ndims(x) == 1) x = reshape(x, (size(x, 1), size(x, 2))) end\n",
    "    if (ndims(y) == 1) y = reshape(y, (size(y, 1), size(y, 2))) end\n",
    "    c = zeros(size(x)[1], size(y)[2])\n",
    "    for i in 1:size(x)[1], j in 1:size(y)[2], k in 1:size(x)[2]\n",
    "        c[i, j] += operation(x[i, k], y[k, j])\n",
    "    end\n",
    "    return c\n",
    "end"
   ]
  },
  {
   "cell_type": "code",
   "execution_count": 65,
   "id": "eedcac4c-4db4-4dd2-bfce-fb0d13353f44",
   "metadata": {},
   "outputs": [
    {
     "data": {
      "text/plain": [
       "3×3 Matrix{Int64}:\n",
       "  1   1   3\n",
       "  5   2   6\n",
       " -2  -1  -3"
      ]
     },
     "execution_count": 65,
     "metadata": {},
     "output_type": "execute_result"
    }
   ],
   "source": [
    "X = [[1 1 3]; [5 2 6]; [-2 -1 -3]]"
   ]
  },
  {
   "cell_type": "code",
   "execution_count": 66,
   "id": "cf5e6cab-2646-4806-805a-d75453ab9388",
   "metadata": {},
   "outputs": [
    {
     "data": {
      "text/plain": [
       "3×3 Matrix{Int64}:\n",
       "  0   0   0\n",
       "  3   3   9\n",
       " -1  -1  -3"
      ]
     },
     "execution_count": 66,
     "metadata": {},
     "output_type": "execute_result"
    }
   ],
   "source": [
    "X * X"
   ]
  },
  {
   "cell_type": "code",
   "execution_count": 67,
   "id": "c3f45603-c0f7-447d-a7e8-63b5aa511ead",
   "metadata": {},
   "outputs": [
    {
     "data": {
      "text/plain": [
       "3×3 Matrix{Float64}:\n",
       "  0.0   0.0   0.0\n",
       "  3.0   3.0   9.0\n",
       " -1.0  -1.0  -3.0"
      ]
     },
     "execution_count": 67,
     "metadata": {},
     "output_type": "execute_result"
    }
   ],
   "source": [
    "outer(X, X, *)"
   ]
  },
  {
   "cell_type": "markdown",
   "id": "a9c7b74a-9f57-48e8-a1b8-2ded26b85a28",
   "metadata": {},
   "source": [
    "- Используя написанную вами функцию outer(), создайте матрицы следующей структуры;"
   ]
  },
  {
   "cell_type": "code",
   "execution_count": 72,
   "id": "32d0a3d8-27eb-481e-a44b-440809625f41",
   "metadata": {},
   "outputs": [
    {
     "data": {
      "text/plain": [
       "5×5 Matrix{Float64}:\n",
       " 0.0  1.0  2.0  3.0  4.0\n",
       " 1.0  2.0  3.0  4.0  5.0\n",
       " 2.0  3.0  4.0  5.0  6.0\n",
       " 3.0  4.0  5.0  6.0  7.0\n",
       " 4.0  5.0  6.0  7.0  8.0"
      ]
     },
     "execution_count": 72,
     "metadata": {},
     "output_type": "execute_result"
    }
   ],
   "source": [
    "A1 = outer(collect(0:4), collect(0:4)', +)"
   ]
  },
  {
   "cell_type": "code",
   "execution_count": 69,
   "id": "6dd36f2e-4166-4098-985a-745b7f42823f",
   "metadata": {},
   "outputs": [
    {
     "data": {
      "text/plain": [
       "5×5 Matrix{Float64}:\n",
       " 0.0   0.0   0.0    0.0     0.0\n",
       " 1.0   1.0   1.0    1.0     1.0\n",
       " 2.0   4.0   8.0   16.0    32.0\n",
       " 3.0   9.0  27.0   81.0   243.0\n",
       " 4.0  16.0  64.0  256.0  1024.0"
      ]
     },
     "execution_count": 69,
     "metadata": {},
     "output_type": "execute_result"
    }
   ],
   "source": [
    "A2= outer(collect(0:4), collect(1:5)', ^)"
   ]
  },
  {
   "cell_type": "code",
   "execution_count": 71,
   "id": "8f4a7f07-9d09-4731-a209-36493d30cdf2",
   "metadata": {},
   "outputs": [
    {
     "data": {
      "text/plain": [
       "5×5 Matrix{Float64}:\n",
       " 0.0  1.0  2.0  3.0  4.0\n",
       " 1.0  2.0  3.0  4.0  0.0\n",
       " 2.0  3.0  4.0  0.0  1.0\n",
       " 3.0  4.0  0.0  1.0  2.0\n",
       " 4.0  0.0  1.0  2.0  3.0"
      ]
     },
     "execution_count": 71,
     "metadata": {},
     "output_type": "execute_result"
    }
   ],
   "source": [
    "A3 = outer(collect(0:4), collect(0:4)', +).%5"
   ]
  },
  {
   "cell_type": "code",
   "execution_count": 73,
   "id": "b793881c-07a2-4e39-b911-a31aba6d308a",
   "metadata": {},
   "outputs": [
    {
     "data": {
      "text/plain": [
       "10×10 Matrix{Float64}:\n",
       " 0.0  1.0  2.0  3.0  4.0  5.0  6.0  7.0  8.0  9.0\n",
       " 1.0  2.0  3.0  4.0  5.0  6.0  7.0  8.0  9.0  0.0\n",
       " 2.0  3.0  4.0  5.0  6.0  7.0  8.0  9.0  0.0  1.0\n",
       " 3.0  4.0  5.0  6.0  7.0  8.0  9.0  0.0  1.0  2.0\n",
       " 4.0  5.0  6.0  7.0  8.0  9.0  0.0  1.0  2.0  3.0\n",
       " 5.0  6.0  7.0  8.0  9.0  0.0  1.0  2.0  3.0  4.0\n",
       " 6.0  7.0  8.0  9.0  0.0  1.0  2.0  3.0  4.0  5.0\n",
       " 7.0  8.0  9.0  0.0  1.0  2.0  3.0  4.0  5.0  6.0\n",
       " 8.0  9.0  0.0  1.0  2.0  3.0  4.0  5.0  6.0  7.0\n",
       " 9.0  0.0  1.0  2.0  3.0  4.0  5.0  6.0  7.0  8.0"
      ]
     },
     "execution_count": 73,
     "metadata": {},
     "output_type": "execute_result"
    }
   ],
   "source": [
    "A4 = outer(collect(0:9), collect(0:9)', +).%10"
   ]
  },
  {
   "cell_type": "code",
   "execution_count": 74,
   "id": "a3c6af3b-0487-4a65-bbf3-1fc13c290f46",
   "metadata": {},
   "outputs": [
    {
     "data": {
      "text/plain": [
       "9×9 Matrix{Float64}:\n",
       " 0.0  8.0  7.0  6.0  5.0  4.0  3.0  2.0  1.0\n",
       " 1.0  0.0  8.0  7.0  6.0  5.0  4.0  3.0  2.0\n",
       " 2.0  1.0  0.0  8.0  7.0  6.0  5.0  4.0  3.0\n",
       " 3.0  2.0  1.0  0.0  8.0  7.0  6.0  5.0  4.0\n",
       " 4.0  3.0  2.0  1.0  0.0  8.0  7.0  6.0  5.0\n",
       " 5.0  4.0  3.0  2.0  1.0  0.0  8.0  7.0  6.0\n",
       " 6.0  5.0  4.0  3.0  2.0  1.0  0.0  8.0  7.0\n",
       " 7.0  6.0  5.0  4.0  3.0  2.0  1.0  0.0  8.0\n",
       " 8.0  7.0  6.0  5.0  4.0  3.0  2.0  1.0  0.0"
      ]
     },
     "execution_count": 74,
     "metadata": {},
     "output_type": "execute_result"
    }
   ],
   "source": [
    "A5 = outer(collect(0:8), collect(-9:-1)', -).%9"
   ]
  },
  {
   "cell_type": "markdown",
   "id": "7cd11ba4-e5e2-4ce1-8dbb-bd88eb14c392",
   "metadata": {},
   "source": [
    "**9- Решите следующую систему линейных уравнений с 5 неизвестными.**\n",
    "\n",
    "- рассмотрев соответствующее матричное уравнение Ax = 𝑦. Обратите внимание на\n",
    "особый вид матрицы 𝐴. Метод, используемый для решения данной системы уравне-\n",
    "ний, должен быть легко обобщаем на случай большего числа уравнений, где матрица\n",
    "𝐴 будет иметь такую же структуру."
   ]
  },
  {
   "cell_type": "code",
   "execution_count": 75,
   "id": "448d41b5-82ec-47ea-964f-0570d4194235",
   "metadata": {},
   "outputs": [
    {
     "name": "stdout",
     "output_type": "stream",
     "text": [
      "Int32[1 2 3 4 5; 2 1 2 3 4; 3 2 1 2 3; 4 3 2 1 2; 5 4 3 2 1]\n"
     ]
    },
    {
     "data": {
      "text/plain": [
       "5-element Vector{Int64}:\n",
       "  7\n",
       " -1\n",
       " -3\n",
       "  5\n",
       " 17"
      ]
     },
     "execution_count": 75,
     "metadata": {},
     "output_type": "execute_result"
    }
   ],
   "source": [
    "as = Array{Int64, 2}(undef, 5, 5)\n",
    "m = 5\n",
    "n = 5\n",
    "\n",
    "for i in 1:1:m\n",
    "    for j in 1:1:n\n",
    "        as[i, j] = 1 + abs(i - j)\n",
    "    end\n",
    "end\n",
    "println(round.(Int32, as))\n",
    "\n",
    "otvet = [7; -1; -3; 5; 17]"
   ]
  },
  {
   "cell_type": "code",
   "execution_count": 76,
   "id": "b2e6eb55-6365-41a3-94f7-47acbfd2491d",
   "metadata": {},
   "outputs": [
    {
     "data": {
      "text/plain": [
       "5-element Vector{Int64}:\n",
       " -2\n",
       "  3\n",
       "  5\n",
       "  2\n",
       " -4"
      ]
     },
     "execution_count": 76,
     "metadata": {},
     "output_type": "execute_result"
    }
   ],
   "source": [
    "as_inv = inv(as)\n",
    "round.(Int, as_inv)\n",
    "x_n = round.(Int, as_inv * otvet)"
   ]
  },
  {
   "cell_type": "markdown",
   "id": "80737979-42be-4295-a4f2-87fd18bf6077",
   "metadata": {},
   "source": [
    "**10- Создайте матрицу 𝑀 размерности 6 × 10, элементами которой являются целые числа, выбранные случайным образом с повторениями из совокупности 1, 2, … , 10.**\n"
   ]
  },
  {
   "cell_type": "code",
   "execution_count": 82,
   "id": "a959d4c0-663d-42e3-9b90-1dbd299827ae",
   "metadata": {},
   "outputs": [
    {
     "data": {
      "text/plain": [
       "6×10 Matrix{Int64}:\n",
       " 1   4  5   3  10  5  9   9   2  8\n",
       " 8  10  8   4   7  1  5  10  10  8\n",
       " 6   1  7   7   8  5  9   1   7  1\n",
       " 6   8  7   7   3  6  2   6   8  2\n",
       " 3   2  4  10   6  8  1   8   9  8\n",
       " 5   1  7  10   4  7  5   1  10  2"
      ]
     },
     "execution_count": 82,
     "metadata": {},
     "output_type": "execute_result"
    }
   ],
   "source": [
    "M = rand(1:10, 6, 10)"
   ]
  },
  {
   "cell_type": "markdown",
   "id": "f838dc69-c361-451e-afa9-7e8015cb0037",
   "metadata": {},
   "source": [
    "- Найдите число элементов в каждой строке матрицы 𝑀, которые больше числа 𝑁\n",
    "(например, 𝑁 = 4)."
   ]
  },
  {
   "cell_type": "code",
   "execution_count": 80,
   "id": "a347c9fa-ba3f-41a0-84fc-931eceea97f5",
   "metadata": {},
   "outputs": [
    {
     "name": "stdout",
     "output_type": "stream",
     "text": [
      "Bigger elements: 4 in the line: 1 equals: 8\n",
      "Bigger elements: 4 in the line: 2 equals: 6\n",
      "Bigger elements: 4 in the line: 3 equals: 7\n",
      "Bigger elements: 4 in the line: 4 equals: 5\n",
      "Bigger elements: 4 in the line: 5 equals: 6\n",
      "Bigger elements: 4 in the line: 6 equals: 6\n"
     ]
    }
   ],
   "source": [
    "N = 4\n",
    "for i in 1:1:6\n",
    "    count = 0\n",
    "    for j in 1:1:10\n",
    "        if M[i, j] > N\n",
    "            count += 1\n",
    "        end\n",
    "    end\n",
    "    println(\"Bigger elements: \", N, \" in the line: \", i, \" equals: \", count)\n",
    "end"
   ]
  },
  {
   "cell_type": "markdown",
   "id": "b8f3b5bc-be08-49da-8e32-65b0efdf3b2a",
   "metadata": {},
   "source": [
    "- Определите, в каких строках матрицы 𝑀 число 𝑀 (например, 𝑀 = 7) встречается\n",
    "ровно 2 раза?"
   ]
  },
  {
   "cell_type": "code",
   "execution_count": 84,
   "id": "644d0db6-c1ca-4e93-adef-e526092b1dee",
   "metadata": {},
   "outputs": [
    {
     "name": "stdout",
     "output_type": "stream",
     "text": [
      "the number: 7 Occur at the line: 4, 2 times\n",
      "the number: 7 Occur at the line: 6, 2 times\n"
     ]
    }
   ],
   "source": [
    "M_ = 7\n",
    "for i in 1:1:6\n",
    "    count = 0\n",
    "    for j in 1:1:10\n",
    "        if M[i, j] == M_\n",
    "            count += 1\n",
    "        end\n",
    "    end\n",
    "    if count == 2\n",
    "        println(\"the number: \", M_, \" Occur at the line: \", i, \", 2 times\")\n",
    "    end\n",
    "end"
   ]
  },
  {
   "cell_type": "markdown",
   "id": "76e6afaf-945f-4388-be3c-ce3fe23e5c2b",
   "metadata": {},
   "source": [
    "- Определите все пары столбцов матрицы 𝑀, сумма элементов которых больше 𝐾\n",
    "(например, 𝐾 = 75)."
   ]
  },
  {
   "cell_type": "code",
   "execution_count": 87,
   "id": "f70892ef-99df-4791-b913-821f792e89cd",
   "metadata": {},
   "outputs": [
    {
     "name": "stdout",
     "output_type": "stream",
     "text": [
      "3 And 4\n",
      "3 And 5\n",
      "3 And 9\n",
      "4 And 5\n",
      "4 And 8\n",
      "4 And 9\n",
      "5 And 9\n",
      "6 And 9\n",
      "7 And 9\n",
      "8 And 9\n"
     ]
    }
   ],
   "source": [
    "function sum75(M, K)\n",
    "    matrix_new = rand(10)\n",
    "    for i in 1:1:10\n",
    "        sum = 0\n",
    "        for j in 1:1:6\n",
    "            sum += M[j, i]\n",
    "        end\n",
    "        matrix_new[i] = sum\n",
    "    end\n",
    "    for i in 1:1:10\n",
    "        for j in i+1:1:10\n",
    "            sum = matrix_new[i] + matrix_new[j]\n",
    "            if sum > K\n",
    "                println(i, \" And \", j)\n",
    "            end\n",
    "        end\n",
    "    end\n",
    "end\n",
    "sum75(M, 75)"
   ]
  },
  {
   "cell_type": "markdown",
   "id": "41b96bbf-d9b3-4547-ad0b-5edd8789073c",
   "metadata": {},
   "source": [
    "**11- Вычислите:**\n",
    "\n",
    "- 20∑𝑖=1 5∑𝑗=1 i^4/(3 + 𝑗),"
   ]
  },
  {
   "cell_type": "code",
   "execution_count": 88,
   "id": "e8be6d42-d63e-400e-a10b-70d7d34d9dc1",
   "metadata": {},
   "outputs": [
    {
     "name": "stdout",
     "output_type": "stream",
     "text": [
      "639215.2833333334\n"
     ]
    }
   ],
   "source": [
    "firstsum = 0\n",
    "for i in 1:1:20\n",
    "    for j in 1:1:5\n",
    "        firstsum += (i^4)/(3+j)\n",
    "    end\n",
    "end\n",
    "println(firstsum)"
   ]
  },
  {
   "cell_type": "markdown",
   "id": "9e42f1f5-d8f0-45d5-bfda-d4bd31f3bfce",
   "metadata": {},
   "source": [
    "- 20∑𝑖=1 5∑𝑗=1 i^4/(3 + i𝑗),"
   ]
  },
  {
   "cell_type": "code",
   "execution_count": 90,
   "id": "5681acf8-ce50-4910-87df-4d71fa134809",
   "metadata": {},
   "outputs": [
    {
     "name": "stdout",
     "output_type": "stream",
     "text": [
      "89912.02146097136\n"
     ]
    }
   ],
   "source": [
    "secondsum = 0\n",
    "for i in 1:1:20\n",
    "    for j in 1:1:5\n",
    "        secondsum += (i^4)/(3+i*j)\n",
    "    end\n",
    "end\n",
    "println(secondsum)"
   ]
  },
  {
   "cell_type": "code",
   "execution_count": null,
   "id": "de814585-7f18-49d0-a275-63fb7573431f",
   "metadata": {},
   "outputs": [],
   "source": []
  }
 ],
 "metadata": {
  "kernelspec": {
   "display_name": "Julia 1.9.3",
   "language": "julia",
   "name": "julia-1.9"
  },
  "language_info": {
   "file_extension": ".jl",
   "mimetype": "application/julia",
   "name": "julia",
   "version": "1.9.3"
  }
 },
 "nbformat": 4,
 "nbformat_minor": 5
}
