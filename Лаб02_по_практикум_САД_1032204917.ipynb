{
 "cells": [
  {
   "cell_type": "markdown",
   "id": "65d97120-ac3d-4bea-89d1-8e09c8ae4b4f",
   "metadata": {},
   "source": [
    "# Лабораторная работа № 2. Структуры данных"
   ]
  },
  {
   "cell_type": "code",
   "execution_count": 6,
   "id": "fb3eb746-2d76-428d-b330-618833b27821",
   "metadata": {},
   "outputs": [
    {
     "name": "stdout",
     "output_type": "stream",
     "text": [
      "desktop-9ulgep1\\meric\n"
     ]
    }
   ],
   "source": [
    ";whoami"
   ]
  },
  {
   "cell_type": "code",
   "execution_count": 2,
   "id": "3942296a-d346-4417-9eb3-8319672ea3f1",
   "metadata": {},
   "outputs": [
    {
     "data": {
      "text/plain": [
       "2023-11-17T18:14:32.754"
      ]
     },
     "execution_count": 2,
     "metadata": {},
     "output_type": "execute_result"
    }
   ],
   "source": [
    "using Dates\n",
    "datetimenow = Dates.now()"
   ]
  },
  {
   "cell_type": "markdown",
   "id": "b474d4af-676d-44ac-822c-b4cb7bd15a53",
   "metadata": {},
   "source": [
    "### 2.2.1 Кортеж (Tuple) — структура данных (контейнер) в виде неизменяемой индексируемой последовательности элементов какого-либо типа (элементы индексируются с единицы)."
   ]
  },
  {
   "cell_type": "code",
   "execution_count": 7,
   "id": "9fc71b36-589e-43b5-9d61-777ade50208a",
   "metadata": {},
   "outputs": [
    {
     "name": "stdout",
     "output_type": "stream",
     "text": [
      "(1, 2, 3)(1, 2.0, \"tmp\")(a = 2, b = 3)(\"Python\", \"Javascript\", \"Typescript\")"
     ]
    }
   ],
   "source": [
    "favoritelang = (\"Python\", \"Javascript\", \"Typescript\")\n",
    "\n",
    "x1 = (1, 2, 3)\n",
    "\n",
    "x2 = (1, 2.0, \"tmp\")\n",
    "\n",
    "x3 = (a=2, b=1+2)\n",
    "\n",
    "print(x1, x2, x3, favoritelang)"
   ]
  },
  {
   "cell_type": "markdown",
   "id": "4a4f11ea-a86f-4c53-b2a8-528404bee996",
   "metadata": {},
   "source": [
    " - Примеры создания кортежей"
   ]
  },
  {
   "cell_type": "code",
   "execution_count": 9,
   "id": "7d538793-9810-4d62-8c25-f42dbd513e4a",
   "metadata": {},
   "outputs": [
    {
     "data": {
      "text/plain": [
       "3"
      ]
     },
     "execution_count": 9,
     "metadata": {},
     "output_type": "execute_result"
    }
   ],
   "source": [
    "length(x2)"
   ]
  },
  {
   "cell_type": "code",
   "execution_count": 10,
   "id": "e5ba5cfc-355f-48a7-a930-544bf4226fb8",
   "metadata": {},
   "outputs": [
    {
     "data": {
      "text/plain": [
       "(1, 2.0, \"tmp\")"
      ]
     },
     "execution_count": 10,
     "metadata": {},
     "output_type": "execute_result"
    }
   ],
   "source": [
    "x2[1], x2[2], x2[3]"
   ]
  },
  {
   "cell_type": "code",
   "execution_count": 11,
   "id": "c62a8e91-efdd-4292-90d9-d6fab73572df",
   "metadata": {},
   "outputs": [
    {
     "data": {
      "text/plain": [
       "5"
      ]
     },
     "execution_count": 11,
     "metadata": {},
     "output_type": "execute_result"
    }
   ],
   "source": [
    "c = x1[2] + x1[3]"
   ]
  },
  {
   "cell_type": "code",
   "execution_count": 12,
   "id": "0b6ce1df-0b20-4960-aca3-81f29230db61",
   "metadata": {},
   "outputs": [
    {
     "data": {
      "text/plain": [
       "(2, 3, 3)"
      ]
     },
     "execution_count": 12,
     "metadata": {},
     "output_type": "execute_result"
    }
   ],
   "source": [
    "x3.a, x3.b, x3[2]"
   ]
  },
  {
   "cell_type": "code",
   "execution_count": 13,
   "id": "4d439bb6-b9ea-4412-9015-bbec36e5b723",
   "metadata": {},
   "outputs": [
    {
     "data": {
      "text/plain": [
       "(true, false)"
      ]
     },
     "execution_count": 13,
     "metadata": {},
     "output_type": "execute_result"
    }
   ],
   "source": [
    "in(\"tmp\", x2), 0 in x2"
   ]
  },
  {
   "cell_type": "markdown",
   "id": "e7231302-f51f-4f1e-8d09-1213dbd514a2",
   "metadata": {},
   "source": [
    "- Примеры операций над кортежами"
   ]
  },
  {
   "cell_type": "markdown",
   "id": "8c18a40f-0198-426c-b9d2-b570f4135a59",
   "metadata": {},
   "source": [
    "### 2.2.2 Словарь — неупорядоченный набор связанных между собой по ключу данных. "
   ]
  },
  {
   "cell_type": "code",
   "execution_count": 15,
   "id": "6225fadb-eb05-4304-a058-b285e8343481",
   "metadata": {},
   "outputs": [
    {
     "data": {
      "text/plain": [
       "Dict{String, Any} with 2 entries:\n",
       "  \"Ivanov i.i\"   => (\"867-2818282\", \"357-22818173\")\n",
       "  \"Buxgalteriya\" => \"273-22828181\""
      ]
     },
     "execution_count": 15,
     "metadata": {},
     "output_type": "execute_result"
    }
   ],
   "source": [
    "phonebook = Dict(\"Ivanov i.i\" => (\"867-2818282\", \"357-22818173\"), \"Buxgalteriya\" => \"273-22828181\")"
   ]
  },
  {
   "cell_type": "code",
   "execution_count": 16,
   "id": "88d86861-4106-4206-9b19-d86d82baa758",
   "metadata": {},
   "outputs": [
    {
     "data": {
      "text/plain": [
       "KeySet for a Dict{String, Any} with 2 entries. Keys:\n",
       "  \"Ivanov i.i\"\n",
       "  \"Buxgalteriya\""
      ]
     },
     "execution_count": 16,
     "metadata": {},
     "output_type": "execute_result"
    }
   ],
   "source": [
    "keys(phonebook)"
   ]
  },
  {
   "cell_type": "code",
   "execution_count": 17,
   "id": "a5b296f2-a11f-469c-b106-86543fccad81",
   "metadata": {},
   "outputs": [
    {
     "data": {
      "text/plain": [
       "ValueIterator for a Dict{String, Any} with 2 entries. Values:\n",
       "  (\"867-2818282\", \"357-22818173\")\n",
       "  \"273-22828181\""
      ]
     },
     "execution_count": 17,
     "metadata": {},
     "output_type": "execute_result"
    }
   ],
   "source": [
    "values(phonebook)"
   ]
  },
  {
   "cell_type": "code",
   "execution_count": 18,
   "id": "c8b7ca92-38d1-4cdf-b503-76ec29c7ac01",
   "metadata": {},
   "outputs": [
    {
     "data": {
      "text/plain": [
       "Dict{String, Any} with 2 entries:\n",
       "  \"Ivanov i.i\"   => (\"867-2818282\", \"357-22818173\")\n",
       "  \"Buxgalteriya\" => \"273-22828181\""
      ]
     },
     "execution_count": 18,
     "metadata": {},
     "output_type": "execute_result"
    }
   ],
   "source": [
    "pairs(phonebook)"
   ]
  },
  {
   "cell_type": "code",
   "execution_count": 19,
   "id": "e00f16a0-5caa-4cb5-a020-6edaf043f895",
   "metadata": {},
   "outputs": [
    {
     "data": {
      "text/plain": [
       "true"
      ]
     },
     "execution_count": 19,
     "metadata": {},
     "output_type": "execute_result"
    }
   ],
   "source": [
    "haskey(phonebook, \"Ivanov i.i\")"
   ]
  },
  {
   "cell_type": "code",
   "execution_count": 21,
   "id": "5833bf4a-1397-4811-8ba6-6aab0e34db1f",
   "metadata": {},
   "outputs": [
    {
     "data": {
      "text/plain": [
       "\"555-28283\""
      ]
     },
     "execution_count": 21,
     "metadata": {},
     "output_type": "execute_result"
    }
   ],
   "source": [
    "phonebook[\"Cidorov p.s\"] = \"555-28283\""
   ]
  },
  {
   "cell_type": "code",
   "execution_count": 22,
   "id": "a48df75a-1ad9-4cb3-9b47-9fb27b12e3c8",
   "metadata": {},
   "outputs": [
    {
     "data": {
      "text/plain": [
       "(\"867-2818282\", \"357-22818173\")"
      ]
     },
     "execution_count": 22,
     "metadata": {},
     "output_type": "execute_result"
    }
   ],
   "source": [
    "pop!(phonebook, \"Ivanov i.i\")"
   ]
  },
  {
   "cell_type": "markdown",
   "id": "f7781b50-f445-4e20-8c5e-a2f98e10a994",
   "metadata": {},
   "source": [
    " - Примеры инициализации и операций над словарями"
   ]
  },
  {
   "cell_type": "code",
   "execution_count": 24,
   "id": "ae81bfbc-fcdb-4147-97cd-38211cfb6339",
   "metadata": {},
   "outputs": [
    {
     "data": {
      "text/plain": [
       "(Dict{String, Real}(\"bar\" => 13.0, \"baz\" => 17, \"foo\" => 0.0), Dict{String, Real}(\"bar\" => 42.0, \"baz\" => 17, \"foo\" => 0.0))"
      ]
     },
     "execution_count": 24,
     "metadata": {},
     "output_type": "execute_result"
    }
   ],
   "source": [
    "a = Dict(\"foo\" => 0.0, \"bar\" => 42.0)\n",
    "b = Dict(\"baz\" => 17, \"bar\" => 13.0)\n",
    "merge(a, b), merge(b, a)"
   ]
  },
  {
   "cell_type": "markdown",
   "id": "d56ca691-532a-4e7a-bc44-e4be2b2e6290",
   "metadata": {},
   "source": [
    "- Объединение словарей"
   ]
  },
  {
   "cell_type": "markdown",
   "id": "355bae6c-4470-441e-8087-ee1836350cab",
   "metadata": {},
   "source": [
    "### 2.2.3 Множество, как структура данных в Julia, соответствует множеству, как математическому объекту, то есть является неупорядоченной совокупностью элементов какого-либо типа. "
   ]
  },
  {
   "cell_type": "markdown",
   "id": "c04bcd7b-05fe-4ea4-b049-50810443dc25",
   "metadata": {},
   "source": [
    "- Синтаксис определения множества: **Set([itr])**, где itr — набор значений, сгенерированных данным итерируемым объектом или пустое множество."
   ]
  },
  {
   "cell_type": "code",
   "execution_count": 27,
   "id": "b4a6e912-4ff2-4767-9894-211f7b5742da",
   "metadata": {},
   "outputs": [
    {
     "data": {
      "text/plain": [
       "Set{Char} with 3 elements:\n",
       "  'e'\n",
       "  'h'\n",
       "  'y'"
      ]
     },
     "execution_count": 27,
     "metadata": {},
     "output_type": "execute_result"
    }
   ],
   "source": [
    "A = Set([1, 3, 4, 5])\n",
    "B = Set(\"heyeyeyeyee\")"
   ]
  },
  {
   "cell_type": "code",
   "execution_count": 28,
   "id": "d61bc95f-c886-4df4-9ec2-d653b735e0c7",
   "metadata": {},
   "outputs": [
    {
     "data": {
      "text/plain": [
       "false"
      ]
     },
     "execution_count": 28,
     "metadata": {},
     "output_type": "execute_result"
    }
   ],
   "source": [
    "S1 = Set([1,2])\n",
    "S2 = Set([3,4])\n",
    "issetequal(S1,S2)"
   ]
  },
  {
   "cell_type": "code",
   "execution_count": 29,
   "id": "6a6a297b-e834-498e-986f-10dd7228a073",
   "metadata": {},
   "outputs": [
    {
     "data": {
      "text/plain": [
       "true"
      ]
     },
     "execution_count": 29,
     "metadata": {},
     "output_type": "execute_result"
    }
   ],
   "source": [
    "S3 = Set([1,2,3,1,2,3,1,2,3,3,2,1])\n",
    "S4 = Set([2,3,1])\n",
    "issetequal(S3,S4)"
   ]
  },
  {
   "cell_type": "code",
   "execution_count": 30,
   "id": "7f2a4e2d-635b-4019-b40e-02a889020c92",
   "metadata": {},
   "outputs": [
    {
     "data": {
      "text/plain": [
       "Set{Int64} with 4 elements:\n",
       "  4\n",
       "  2\n",
       "  3\n",
       "  1"
      ]
     },
     "execution_count": 30,
     "metadata": {},
     "output_type": "execute_result"
    }
   ],
   "source": [
    "C = union(S1,S2)"
   ]
  },
  {
   "cell_type": "code",
   "execution_count": 31,
   "id": "00be51ea-b6e9-4692-a664-2858c79c5a43",
   "metadata": {},
   "outputs": [
    {
     "data": {
      "text/plain": [
       "Set{Int64} with 2 elements:\n",
       "  2\n",
       "  1"
      ]
     },
     "execution_count": 31,
     "metadata": {},
     "output_type": "execute_result"
    }
   ],
   "source": [
    "D = intersect(S1,S3)"
   ]
  },
  {
   "cell_type": "markdown",
   "id": "38b0eba4-1a6b-4d45-a289-9799bbe5c794",
   "metadata": {},
   "source": [
    "- Примеры множеств и операций над ними (Часть 1)"
   ]
  },
  {
   "cell_type": "code",
   "execution_count": 32,
   "id": "c975adbc-29f0-42e3-9540-9c16dfbc9e85",
   "metadata": {},
   "outputs": [
    {
     "data": {
      "text/plain": [
       "Set{Int64} with 1 element:\n",
       "  3"
      ]
     },
     "execution_count": 32,
     "metadata": {},
     "output_type": "execute_result"
    }
   ],
   "source": [
    "E = setdiff(S3,S1)"
   ]
  },
  {
   "cell_type": "code",
   "execution_count": 33,
   "id": "d27d582f-c53d-4077-98ce-a84a19fdaef6",
   "metadata": {},
   "outputs": [
    {
     "data": {
      "text/plain": [
       "true"
      ]
     },
     "execution_count": 33,
     "metadata": {},
     "output_type": "execute_result"
    }
   ],
   "source": [
    "issubset(S1,S4)"
   ]
  },
  {
   "cell_type": "code",
   "execution_count": 34,
   "id": "b1f19569-36ae-4da9-ac90-892d2bf54b9b",
   "metadata": {},
   "outputs": [
    {
     "data": {
      "text/plain": [
       "Set{Int64} with 4 elements:\n",
       "  2\n",
       "  3\n",
       "  1\n",
       "  101"
      ]
     },
     "execution_count": 34,
     "metadata": {},
     "output_type": "execute_result"
    }
   ],
   "source": [
    "push!(S4, 101)"
   ]
  },
  {
   "cell_type": "code",
   "execution_count": 35,
   "id": "644f56e6-3179-4319-8443-24ad41d8135d",
   "metadata": {},
   "outputs": [
    {
     "data": {
      "text/plain": [
       "2"
      ]
     },
     "execution_count": 35,
     "metadata": {},
     "output_type": "execute_result"
    }
   ],
   "source": [
    "pop!(S4)"
   ]
  },
  {
   "cell_type": "markdown",
   "id": "59e094c1-ebf2-46af-9909-a70afaa8f720",
   "metadata": {},
   "source": [
    "- Примеры множеств и операций над ними (Часть 2)"
   ]
  },
  {
   "cell_type": "markdown",
   "id": "58880c2c-e6cb-4f5b-aed5-3e0905104abb",
   "metadata": {},
   "source": [
    "### 2.2.4 Массив — коллекция упорядоченных элементов, размещённая в многомерной сетке. Векторы и матрицы являются частными случаями массивов. Общий синтаксис одномерных массивов: \n"
   ]
  },
  {
   "cell_type": "code",
   "execution_count": 36,
   "id": "861aeb7b-2573-4c0c-8d7e-b3308babbe65",
   "metadata": {},
   "outputs": [
    {
     "data": {
      "text/plain": [
       "Any[]"
      ]
     },
     "execution_count": 36,
     "metadata": {},
     "output_type": "execute_result"
    }
   ],
   "source": [
    "empty_array_1 = []"
   ]
  },
  {
   "cell_type": "code",
   "execution_count": 37,
   "id": "957cd76e-d546-4806-87b5-c66475844c42",
   "metadata": {},
   "outputs": [
    {
     "data": {
      "text/plain": [
       "Integer[]"
      ]
     },
     "execution_count": 37,
     "metadata": {},
     "output_type": "execute_result"
    }
   ],
   "source": [
    "empty_array_2 = (Integer)[]"
   ]
  },
  {
   "cell_type": "code",
   "execution_count": 39,
   "id": "6317939a-1047-421f-ba39-b5123d97030e",
   "metadata": {},
   "outputs": [
    {
     "data": {
      "text/plain": [
       "Float64[]"
      ]
     },
     "execution_count": 39,
     "metadata": {},
     "output_type": "execute_result"
    }
   ],
   "source": [
    "empty_array_2 = (Float64)[]"
   ]
  },
  {
   "cell_type": "markdown",
   "id": "6fd609ed-8039-4517-bf0a-d5b3d9f5fa5c",
   "metadata": {},
   "source": [
    "- Пример объявления массивов (Часть 1)"
   ]
  },
  {
   "cell_type": "code",
   "execution_count": 40,
   "id": "d914d4bf-4112-4780-984b-e4b852115829",
   "metadata": {},
   "outputs": [
    {
     "data": {
      "text/plain": [
       "3-element Vector{Int64}:\n",
       " 1\n",
       " 2\n",
       " 3"
      ]
     },
     "execution_count": 40,
     "metadata": {},
     "output_type": "execute_result"
    }
   ],
   "source": [
    "a = [1, 2, 3]"
   ]
  },
  {
   "cell_type": "code",
   "execution_count": 41,
   "id": "9ad85831-0ab3-4b0a-8666-8de83c5d2a9c",
   "metadata": {},
   "outputs": [
    {
     "data": {
      "text/plain": [
       "1×3 Matrix{Int64}:\n",
       " 1  2  3"
      ]
     },
     "execution_count": 41,
     "metadata": {},
     "output_type": "execute_result"
    }
   ],
   "source": [
    "b = [1 2 3]"
   ]
  },
  {
   "cell_type": "code",
   "execution_count": 42,
   "id": "d5b25f0a-f119-4330-b216-94dec1a73528",
   "metadata": {},
   "outputs": [
    {
     "data": {
      "text/plain": [
       "3×3 Matrix{Int64}:\n",
       " 1  4  7\n",
       " 2  5  8\n",
       " 3  6  9"
      ]
     },
     "execution_count": 42,
     "metadata": {},
     "output_type": "execute_result"
    }
   ],
   "source": [
    "A = [[1,2,3] [4,5,6] [7,8,9]]"
   ]
  },
  {
   "cell_type": "code",
   "execution_count": 43,
   "id": "2455c993-d446-434b-91b4-92d6380aae24",
   "metadata": {},
   "outputs": [
    {
     "data": {
      "text/plain": [
       "3×3 Matrix{Int64}:\n",
       " 1  2  3\n",
       " 4  5  6\n",
       " 7  8  9"
      ]
     },
     "execution_count": 43,
     "metadata": {},
     "output_type": "execute_result"
    }
   ],
   "source": [
    "B = [[1 2 3]; [4 5 6]; [7 8 9]]"
   ]
  },
  {
   "cell_type": "code",
   "execution_count": 47,
   "id": "e480fa3c-1b37-4e1b-aa0d-e6ce620746c1",
   "metadata": {},
   "outputs": [
    {
     "data": {
      "text/plain": [
       "1×8 Matrix{Float64}:\n",
       " 0.737333  0.885844  0.786158  0.895768  …  0.0612309  0.419588  0.998475"
      ]
     },
     "execution_count": 47,
     "metadata": {},
     "output_type": "execute_result"
    }
   ],
   "source": [
    "c = rand(1,8)"
   ]
  },
  {
   "cell_type": "code",
   "execution_count": 48,
   "id": "10d53862-3e87-4cd9-8a8e-53aa654cf150",
   "metadata": {},
   "outputs": [
    {
     "data": {
      "text/plain": [
       "2×3 Matrix{Float64}:\n",
       " 0.572828  0.574703  0.522535\n",
       " 0.108683  0.746987  0.0949106"
      ]
     },
     "execution_count": 48,
     "metadata": {},
     "output_type": "execute_result"
    }
   ],
   "source": [
    "C = rand(2,3)"
   ]
  },
  {
   "cell_type": "markdown",
   "id": "60b6dfb5-df68-4d89-8c68-e79babe9f174",
   "metadata": {},
   "source": [
    "- Пример объявления массивов (Часть 2)"
   ]
  },
  {
   "cell_type": "code",
   "execution_count": 50,
   "id": "5099dad9-fda4-40f4-aed9-316cd2cb7d7a",
   "metadata": {},
   "outputs": [
    {
     "data": {
      "text/plain": [
       "4×3×2 Array{Float64, 3}:\n",
       "[:, :, 1] =\n",
       " 0.766386   0.620515  0.921842\n",
       " 0.0712491  0.370415  0.461737\n",
       " 0.220738   0.665038  0.27332\n",
       " 0.148201   0.728661  0.75453\n",
       "\n",
       "[:, :, 2] =\n",
       " 0.356587  0.95417   0.326633\n",
       " 0.807853  0.996228  0.713011\n",
       " 0.345924  0.828091  0.0751249\n",
       " 0.750026  0.998282  0.265504"
      ]
     },
     "execution_count": 50,
     "metadata": {},
     "output_type": "execute_result"
    }
   ],
   "source": [
    "D = rand(4, 3, 2)"
   ]
  },
  {
   "cell_type": "code",
   "execution_count": 52,
   "id": "d6cd60dc-6b89-430f-8d24-22cc28c8e799",
   "metadata": {},
   "outputs": [
    {
     "data": {
      "text/plain": [
       "10-element Vector{Float64}:\n",
       " 1.0\n",
       " 1.4142135623730951\n",
       " 1.7320508075688772\n",
       " 2.0\n",
       " 2.23606797749979\n",
       " 2.449489742783178\n",
       " 2.6457513110645907\n",
       " 2.8284271247461903\n",
       " 3.0\n",
       " 3.1622776601683795"
      ]
     },
     "execution_count": 52,
     "metadata": {},
     "output_type": "execute_result"
    }
   ],
   "source": [
    "roots = [sqrt(i) for i in 1:10]"
   ]
  },
  {
   "cell_type": "markdown",
   "id": "aad30c06-44b2-4d03-9c6d-a9970afcf395",
   "metadata": {},
   "source": [
    "- Пример объявления массивов (Часть 3)"
   ]
  },
  {
   "cell_type": "code",
   "execution_count": 53,
   "id": "503a3397-ed04-4105-adaf-d85170950e02",
   "metadata": {},
   "outputs": [
    {
     "data": {
      "text/plain": [
       "5-element Vector{Int64}:\n",
       "   3\n",
       "  27\n",
       "  75\n",
       " 147\n",
       " 243"
      ]
     },
     "execution_count": 53,
     "metadata": {},
     "output_type": "execute_result"
    }
   ],
   "source": [
    "ar_1 = [3*i^2 for i in 1:2:9]"
   ]
  },
  {
   "cell_type": "code",
   "execution_count": 54,
   "id": "1ab4cb9d-0317-4b02-8bbd-2999731391d7",
   "metadata": {},
   "outputs": [
    {
     "data": {
      "text/plain": [
       "4-element Vector{Int64}:\n",
       "  1\n",
       "  9\n",
       " 49\n",
       " 81"
      ]
     },
     "execution_count": 54,
     "metadata": {},
     "output_type": "execute_result"
    }
   ],
   "source": [
    "ar_2 = [i^2 for i=1:10 if (i^2%5!=0 && i^2%4!=0)]"
   ]
  },
  {
   "cell_type": "markdown",
   "id": "119b85bb-a2f4-4a22-afe4-2ee0d5eb4898",
   "metadata": {},
   "source": [
    "- Пример объявления массивов (Часть 4)"
   ]
  },
  {
   "cell_type": "markdown",
   "id": "a80334c4-5188-43d7-866d-877c115fd4fa",
   "metadata": {},
   "source": [
    "### Примеры операций над массивами."
   ]
  },
  {
   "cell_type": "code",
   "execution_count": 61,
   "id": "9bd18b74-b674-4441-857a-932cf88c23c7",
   "metadata": {},
   "outputs": [
    {
     "name": "stdout",
     "output_type": "stream",
     "text": [
      "[1.0, 1.0, 1.0, 1.0, 1.0][1.0 1.0 1.0; 1.0 1.0 1.0]\n",
      "[0.0, 0.0, 0.0, 0.0]\n",
      "[3.5 3.5; 3.5 3.5; 3.5 3.5]\n",
      "[1 1 1; 2 2 2; 1 1 1; 2 2 2; 1 1 1; 2 2 2]\n",
      "[1 2 1 2 1 2; 1 2 1 2 1 2; 1 2 1 2 1 2]\n",
      "[1, 2, 3, 4, 5, 6, 7, 8, 9, 10, 11, 12]\n",
      "[1 3 5 7 9 11; 2 4 6 8 10 12]\n",
      "[1 2; 3 4; 5 6; 7 8; 9 10; 11 12]\n",
      "[1 2; 3 4; 5 6; 7 8; 9 10; 11 12]\n",
      "[18 14 16 20 18; 12 16 20 19 16; 19 19 14 11 12; 17 14 18 18 19; 17 14 17 18 12; 20 14 13 14 17; 13 10 14 11 19; 14 12 14 14 18; 11 18 19 20 20; 19 14 17 19 18]\n",
      "[14, 16, 19, 14, 14, 14, 10, 12, 18, 14]\n",
      "[14 18; 16 16; 19 12; 14 19; 14 12; 14 17; 10 19; 12 18; 18 20; 14 18]\n",
      "[14 16 20; 16 20 19; 19 14 11; 14 18 18; 14 17 18; 14 13 14; 10 14 11; 12 14 14; 18 19 20; 14 17 19]\n",
      "[12 16; 17 19; 20 17]\n",
      "[16, 20, 18]\n",
      "[11 10 13 11 12; 12 12 14 11 12; 13 14 14 14 16; 14 14 14 14 17; 17 14 16 18 18; 17 14 17 18 18; 18 14 17 19 18; 19 16 18 19 19; 19 18 19 20 19; 20 19 20 20 20]\n",
      "[14 16 18 18 20; 12 16 16 19 20; 11 12 14 19 19; 14 17 18 18 19; 12 14 17 17 18; 13 14 14 17 20; 10 11 13 14 19; 12 14 14 14 18; 11 18 19 20 20; 14 17 18 19 19]\n",
      "Bool[1 0 1 1 1; 0 1 1 1 1; 1 1 0 0 0; 1 0 1 1 1; 1 0 1 1 0; 1 0 0 0 1; 0 0 0 0 1; 0 0 0 0 1; 0 1 1 1 1; 1 0 1 1 1]\n",
      "CartesianIndex{2}[CartesianIndex(1, 1), CartesianIndex(3, 1), CartesianIndex(4, 1), CartesianIndex(5, 1), CartesianIndex(6, 1), CartesianIndex(10, 1), CartesianIndex(2, 2), CartesianIndex(3, 2), CartesianIndex(9, 2), CartesianIndex(1, 3), CartesianIndex(2, 3), CartesianIndex(4, 3), CartesianIndex(5, 3), CartesianIndex(9, 3), CartesianIndex(10, 3), CartesianIndex(1, 4), CartesianIndex(2, 4), CartesianIndex(4, 4), CartesianIndex(5, 4), CartesianIndex(9, 4), CartesianIndex(10, 4), CartesianIndex(1, 5), CartesianIndex(2, 5), CartesianIndex(4, 5), CartesianIndex(6, 5), CartesianIndex(7, 5), CartesianIndex(8, 5), CartesianIndex(9, 5), CartesianIndex(10, 5)]\n"
     ]
    }
   ],
   "source": [
    "print(ones(5))\n",
    "println(ones(2,3))\n",
    "println(zeros(4))\n",
    "println(fill(3.5,(3,2)))\n",
    "println(repeat([1,2],3,3))\n",
    "println(repeat([1 2],3,3))\n",
    "a= collect(1:12)\n",
    "println(a)\n",
    "b= reshape(a,(2,6))\n",
    "println(b)\n",
    "println(b')\n",
    "c= transpose(b)\n",
    "println(c)\n",
    "ar = rand(10:20, 10, 5)\n",
    "println(ar)\n",
    "println(ar[:, 2])\n",
    "println(ar[:, [2, 5]])\n",
    "println(ar[:, 2:4])\n",
    "println(ar[[2, 4, 6], [1, 5]])\n",
    "println(ar[1, 3:end])\n",
    "println(sort(ar, dims=1))\n",
    "println(sort(ar, dims=2))\n",
    "println(ar .> 14)\n",
    "println(findall(ar .> 14))"
   ]
  },
  {
   "cell_type": "markdown",
   "id": "ca20a586-cfe8-4790-b426-b214d6233b09",
   "metadata": {},
   "source": [
    "## **Задания для самостоятельного выполнения**"
   ]
  },
  {
   "cell_type": "markdown",
   "id": "4b85800b-97e9-43d5-a195-d5032d8e99d8",
   "metadata": {},
   "source": [
    "**1- Даны множества: 𝐴 = {0, 3, 4, 9}, 𝐵 = {1, 3, 4, 7}, 𝐶 = {0, 1, 2, 4, 7, 8, 9}. Найти 𝑃 = 𝐴 ∩ 𝐵 ∪ 𝐴 ∩ 𝐵 ∪ 𝐴 ∩ 𝐶 ∪ 𝐵 ∩ 𝐶.**\n"
   ]
  },
  {
   "cell_type": "code",
   "execution_count": 62,
   "id": "b89f787b-b971-495f-bfce-e4c786c8122e",
   "metadata": {},
   "outputs": [
    {
     "name": "stdout",
     "output_type": "stream",
     "text": [
      "Set([0, 4, 7, 9, 3, 1])"
     ]
    }
   ],
   "source": [
    "A = Set([0, 3, 4, 9])\n",
    "B = Set([1, 3, 4, 7])\n",
    "C = Set([0, 1, 2, 4, 7, 8, 9])\n",
    "\n",
    "P = union(union(union(intersect(A, B), intersect(A, B)), intersect(A, C)), intersect(B, C))\n",
    "print(P)"
   ]
  },
  {
   "cell_type": "markdown",
   "id": "92341a2e-6864-42c0-a8c9-54212078c153",
   "metadata": {},
   "source": [
    "- Решение 1."
   ]
  },
  {
   "cell_type": "markdown",
   "id": "5a235c4a-87a2-46b1-95f4-3861edbf61c1",
   "metadata": {},
   "source": [
    "**2- Приведите свои примеры с выполнением операций над множествами элементов разных типов.**"
   ]
  },
  {
   "cell_type": "code",
   "execution_count": 63,
   "id": "0ae7680d-218f-44b5-9de2-8dfe4cf00d85",
   "metadata": {},
   "outputs": [
    {
     "data": {
      "text/plain": [
       "Set{Any} with 7 elements:\n",
       "  4\n",
       "  \"meric\"\n",
       "  2\n",
       "  \"kymkc\"\n",
       "  3\n",
       "  1\n",
       "  \"doruk\""
      ]
     },
     "execution_count": 63,
     "metadata": {},
     "output_type": "execute_result"
    }
   ],
   "source": [
    "A = Set([1, 2, 3, 4])\n",
    "B = Set([\"meric\", \"doruk\", \"kymkc\"])\n",
    "C = union(A, B)"
   ]
  },
  {
   "cell_type": "code",
   "execution_count": 64,
   "id": "2ad9c45e-4c56-4dc5-9441-4b079fc292b8",
   "metadata": {},
   "outputs": [
    {
     "data": {
      "text/plain": [
       "Set{Any}()"
      ]
     },
     "execution_count": 64,
     "metadata": {},
     "output_type": "execute_result"
    }
   ],
   "source": [
    "D = intersect(A, B)"
   ]
  },
  {
   "cell_type": "code",
   "execution_count": 65,
   "id": "bd37d8b6-fa9f-48e0-a781-042438338a32",
   "metadata": {},
   "outputs": [
    {
     "data": {
      "text/plain": [
       "Set{String} with 3 elements:\n",
       "  \"meric\"\n",
       "  \"kymkc\"\n",
       "  \"doruk\""
      ]
     },
     "execution_count": 65,
     "metadata": {},
     "output_type": "execute_result"
    }
   ],
   "source": [
    "E = setdiff(B, A)"
   ]
  },
  {
   "cell_type": "code",
   "execution_count": 66,
   "id": "2d59ab6a-c7df-4635-997d-418c54ef160d",
   "metadata": {},
   "outputs": [
    {
     "data": {
      "text/plain": [
       "Set{Int64} with 4 elements:\n",
       "  4\n",
       "  2\n",
       "  3\n",
       "  1"
      ]
     },
     "execution_count": 66,
     "metadata": {},
     "output_type": "execute_result"
    }
   ],
   "source": [
    "F = setdiff(A, B)"
   ]
  },
  {
   "cell_type": "code",
   "execution_count": 67,
   "id": "da48948e-393c-47b0-8bf8-6ce5d1185656",
   "metadata": {},
   "outputs": [
    {
     "data": {
      "text/plain": [
       "false"
      ]
     },
     "execution_count": 67,
     "metadata": {},
     "output_type": "execute_result"
    }
   ],
   "source": [
    "issubset(A, B)"
   ]
  },
  {
   "cell_type": "code",
   "execution_count": 68,
   "id": "e7fae657-850b-4492-aba2-eaf92f32713d",
   "metadata": {},
   "outputs": [
    {
     "data": {
      "text/plain": [
       "Set{Int64} with 5 elements:\n",
       "  4\n",
       "  2\n",
       "  12\n",
       "  3\n",
       "  1"
      ]
     },
     "execution_count": 68,
     "metadata": {},
     "output_type": "execute_result"
    }
   ],
   "source": [
    "push!(A, 12)"
   ]
  },
  {
   "cell_type": "code",
   "execution_count": 69,
   "id": "c30b6ee9-68a7-4cc0-9038-07f9051c3222",
   "metadata": {},
   "outputs": [
    {
     "data": {
      "text/plain": [
       "4"
      ]
     },
     "execution_count": 69,
     "metadata": {},
     "output_type": "execute_result"
    }
   ],
   "source": [
    "pop!(A)"
   ]
  },
  {
   "cell_type": "markdown",
   "id": "873ba969-fae3-414e-9070-c648cbd6574a",
   "metadata": {},
   "source": [
    "- Примеры операций над множествами разных типов "
   ]
  },
  {
   "cell_type": "markdown",
   "id": "98580a90-bc92-4344-8c1a-47a600aa2db4",
   "metadata": {},
   "source": [
    "**3- Создайте разными способами:**\n",
    "   - массив (1, 2, 3, … 𝑁 − 1, 𝑁 ), 𝑁 выберите больше 20;\n"
   ]
  },
  {
   "cell_type": "code",
   "execution_count": 70,
   "id": "8807ac34-12d0-4425-bbfb-6687560f856d",
   "metadata": {},
   "outputs": [
    {
     "name": "stdout",
     "output_type": "stream",
     "text": [
      "[1, 2, 3, 4, 5, 6, 7, 8, 9, 10, 11, 12, 13, 14, 15, 16, 17, 18, 19, 20, 21, 22, 23, 24, 25, 26, 27, 28, 29, 30]"
     ]
    }
   ],
   "source": [
    "N = 30\n",
    "A = collect(1:N)\n",
    "print(A)"
   ]
  },
  {
   "cell_type": "markdown",
   "id": "52d665a6-a335-4235-b89f-c86c8d1ec1df",
   "metadata": {},
   "source": [
    "- 3.2 массив (𝑁, 𝑁 − 1 … , 2, 1), 𝑁 выберите больше 20;"
   ]
  },
  {
   "cell_type": "code",
   "execution_count": 71,
   "id": "a12539e4-0f0b-4f6d-baa8-2d7e79e32320",
   "metadata": {},
   "outputs": [
    {
     "name": "stdout",
     "output_type": "stream",
     "text": [
      "[30, 29, 28, 27, 26, 25, 24, 23, 22, 21, 20, 19, 18, 17, 16, 15, 14, 13, 12, 11, 10, 9, 8, 7, 6, 5, 4, 3, 2, 1, 0]"
     ]
    }
   ],
   "source": [
    "B = [i for i in N:-1:0]\n",
    "print(B)"
   ]
  },
  {
   "cell_type": "markdown",
   "id": "7e305787-bd4a-4a62-a83b-d70d944c7b4f",
   "metadata": {},
   "source": [
    "- 3.3 массив (1, 2, 3, … , 𝑁 − 1, 𝑁, 𝑁 − 1, … , 2, 1), 𝑁 выберите больше 20;"
   ]
  },
  {
   "cell_type": "code",
   "execution_count": 77,
   "id": "e8722244-8b18-4934-9100-b60e484b092c",
   "metadata": {},
   "outputs": [
    {
     "name": "stdout",
     "output_type": "stream",
     "text": [
      "[1, 2, 3, 4, 5, 6, 7, 8, 9, 10, 11, 12, 13, 14, 15, 16, 17, 18, 19, 20, 21, 22, 23, 24, 25, 26, 27, 28, 29, 30, 29, 28, 27, 26, 25, 24, 23, 22, 21, 20, 19, 18, 17, 16, 15, 14, 13, 12, 11, 10, 9, 8, 7, 6, 5, 4, 3, 2, 1]"
     ]
    }
   ],
   "source": [
    "C = [i for i in 1:N]\n",
    "for i in N-1:-1:1\n",
    "    push!(C, i)\n",
    "end\n",
    "print(C)"
   ]
  },
  {
   "cell_type": "markdown",
   "id": "ac48ba43-f443-4e4a-831b-ecd28868888e",
   "metadata": {},
   "source": [
    "- 3.4 массив с именем tmp вида (4, 6, 3)"
   ]
  },
  {
   "cell_type": "code",
   "execution_count": 73,
   "id": "0b81e4c4-9685-4149-95b3-56c8d3a507ba",
   "metadata": {},
   "outputs": [
    {
     "name": "stdout",
     "output_type": "stream",
     "text": [
      "[4, 6, 3]"
     ]
    }
   ],
   "source": [
    "tmp = [4, 6, 3]\n",
    "print(tmp)"
   ]
  },
  {
   "cell_type": "markdown",
   "id": "5c79b6fd-7b2e-4ba1-ad57-c5a3f15aac03",
   "metadata": {},
   "source": [
    "- 3.5 массив, в котором первый элемент массива tmp повторяется 10 раз"
   ]
  },
  {
   "cell_type": "code",
   "execution_count": 74,
   "id": "cf34f965-e98b-4915-b964-7569c7e29dff",
   "metadata": {},
   "outputs": [
    {
     "name": "stdout",
     "output_type": "stream",
     "text": [
      "[4, 4, 4, 4, 4, 4, 4, 4, 4, 4, 6, 3]"
     ]
    }
   ],
   "source": [
    "for i in 1:1:9\n",
    "    pushfirst!(tmp, tmp[1])\n",
    "end\n",
    "print(tmp)"
   ]
  },
  {
   "cell_type": "markdown",
   "id": "b4aa08d0-a3ad-41cf-9900-3044a18c4037",
   "metadata": {},
   "source": [
    "- 3.6 массив, в котором все элементы массива tmp повторяются 10 раз"
   ]
  },
  {
   "cell_type": "code",
   "execution_count": 75,
   "id": "5cfa09a1-c55a-41ce-8e2f-08826fd40565",
   "metadata": {},
   "outputs": [
    {
     "name": "stdout",
     "output_type": "stream",
     "text": [
      "[4, 6, 3, 4, 6, 3, 4, 6, 3, 4, 6, 3, 4, 6, 3, 4, 6, 3, 4, 6, 3, 4, 6, 3, 4, 6, 3, 4, 6, 3]"
     ]
    }
   ],
   "source": [
    "tmp = [4, 6, 3]\n",
    "tmp = repeat(tmp, 10)\n",
    "print(tmp)"
   ]
  },
  {
   "cell_type": "markdown",
   "id": "d21f1064-7fef-4da7-b613-78094d388b3a",
   "metadata": {},
   "source": [
    "- 3.7 массив, в котором первый элемент массива tmp встречается 11 раз, второй элемент — 10 раз, третий элемент — 10 раз"
   ]
  },
  {
   "cell_type": "code",
   "execution_count": 78,
   "id": "0b0cfc89-6404-4c0c-869d-880b7247e22b",
   "metadata": {},
   "outputs": [
    {
     "name": "stdout",
     "output_type": "stream",
     "text": [
      "[4, 4, 4, 4, 4, 4, 4, 4, 4, 4, 4, 6, 3, 6, 3, 6, 3, 6, 3, 6, 3, 6, 3, 6, 3, 6, 3, 6, 3, 6, 3]"
     ]
    }
   ],
   "source": [
    "tmp = [4, 6, 3]\n",
    "arr = [fill(tmp[1], 11); repeat(tmp[2:end], 10)]\n",
    "print(arr)"
   ]
  },
  {
   "cell_type": "markdown",
   "id": "7a491d74-a052-4ad1-85b2-d13b1e7154c8",
   "metadata": {},
   "source": [
    "- 3.8 массив, в котором первый элемент массива tmp встречается 10 раз подряд, второй элемент — 20 раз подряд, третий элемент — 30 раз подряд"
   ]
  },
  {
   "cell_type": "code",
   "execution_count": 80,
   "id": "772cc95b-200d-42ff-8ed3-46cd7e93228e",
   "metadata": {},
   "outputs": [
    {
     "name": "stdout",
     "output_type": "stream",
     "text": [
      "[4, 4, 4, 4, 4, 4, 4, 4, 4, 4, 6, 6, 6, 6, 6, 6, 6, 6, 6, 6, 6, 6, 6, 6, 6, 6, 6, 6, 6, 6, 3, 3, 3, 3, 3, 3, 3, 3, 3, 3]"
     ]
    }
   ],
   "source": [
    "tmp = [4, 6, 3]\n",
    "arr = [fill(tmp[1], 10); fill(tmp[2], 20); fill(tmp[3], 10)]\n",
    "print(arr)"
   ]
  },
  {
   "cell_type": "markdown",
   "id": "02b44eff-c59d-4ce2-aee5-5cf85594f080",
   "metadata": {},
   "source": [
    "- 3.9 массив из элементов вида  2𝑡𝑚𝑝[𝑖] , 𝑖 = 1, 2, 3, где элемент  2𝑡𝑚𝑝[3]  встречается 4 раза; посчитайте в полученном векторе, сколько раз встречается цифра 6, и выведите это значение на экран"
   ]
  },
  {
   "cell_type": "code",
   "execution_count": 81,
   "id": "50cb2187-4c78-4073-b417-9a16bd0d8e22",
   "metadata": {},
   "outputs": [
    {
     "name": "stdout",
     "output_type": "stream",
     "text": [
      "[16, 64, 8, 8, 8, 8]\n",
      "2"
     ]
    }
   ],
   "source": [
    "tmp = [4, 6, 3]\n",
    "tmp_sqr = [[2^tmp[i] for i in 1:length(tmp)]; fill(2^tmp[3], 3);]\n",
    "\n",
    "println(tmp_sqr)\n",
    "\n",
    "count = 0\n",
    "numbers = []\n",
    "for i in 1:1:length(tmp_sqr)\n",
    "    while tmp_sqr[i] != 0\n",
    "        r = tmp_sqr[i] % 10\n",
    "        push!(numbers, r)\n",
    "        tmp_sqr[i] = div(tmp_sqr[i], 10)\n",
    "    end\n",
    "end\n",
    "for i in 1:1:length(numbers)\n",
    "    if numbers[i] == 6\n",
    "        count += 1\n",
    "    end\n",
    "end\n",
    "print(count)"
   ]
  },
  {
   "cell_type": "markdown",
   "id": "3781dbab-3338-4bc6-8d99-ea2c694e23df",
   "metadata": {},
   "source": [
    "- 3.10 вектор значений  𝑦=𝑒𝑥𝑐𝑜𝑠(𝑥)  в точках 𝑥 = 3, 3.1, 3.2, … , 6, найдите среднее значение 𝑦 "
   ]
  },
  {
   "cell_type": "code",
   "execution_count": 83,
   "id": "b1a10f84-db12-4222-9e3e-21b1b1a0d872",
   "metadata": {},
   "outputs": [
    {
     "data": {
      "text/plain": [
       "53.11374594642971"
      ]
     },
     "execution_count": 83,
     "metadata": {},
     "output_type": "execute_result"
    }
   ],
   "source": [
    "using Statistics\n",
    "y = [exp(i)*cos(i) for i in 3:0.1:6]\n",
    "mean(y)"
   ]
  },
  {
   "cell_type": "markdown",
   "id": "fd2aebc0-aa3b-4f23-b89c-b3b94e0a8b1b",
   "metadata": {},
   "source": [
    "- 3.11 вектор вида ( 𝑥𝑖,𝑦𝑗 ), 𝑥 = 0.1, 𝑖 = 3, 6, 9, … , 36, 𝑦 = 0.2, 𝑗 = 1, 4, 7, … , 34"
   ]
  },
  {
   "cell_type": "code",
   "execution_count": 88,
   "id": "2a14a730-4b15-4f67-a917-03d20c1f7b66",
   "metadata": {},
   "outputs": [
    {
     "name": "stdout",
     "output_type": "stream",
     "text": [
      "Any[(0.0010000000000000002, 0.008000000000000002), (1.0000000000000004e-6, 6.400000000000002e-5), (1.0000000000000005e-9, 5.120000000000002e-7), (1.0000000000000008e-12, 4.096000000000003e-9), (1.0000000000000009e-15, 3.276800000000003e-11), (1.0000000000000008e-18, 2.621440000000002e-13), (1.0000000000000012e-21, 2.0971520000000026e-15), (1.0000000000000012e-24, 1.677721600000002e-17), (1.0000000000000015e-27, 1.342177280000002e-19), (1.0000000000000017e-30, 1.0737418240000018e-21), (1.0000000000000018e-33, 8.589934592000015e-24), (1.000000000000002e-36, 6.871947673600013e-26)]"
     ]
    }
   ],
   "source": [
    "x = 0.1 \n",
    "y = 0.2\n",
    "vector = []\n",
    "j = 1\n",
    "for i = 3:3:36\n",
    "    if j != 37\n",
    "        append!(vector, [(x^i, y^i)])\n",
    "        j += 3\n",
    "    end\n",
    "end\n",
    "print(vector)"
   ]
  },
  {
   "cell_type": "markdown",
   "id": "8bf9d169-9ab4-4487-9932-a458b5a77535",
   "metadata": {},
   "source": [
    "- 3.12 вектор с элементами  2𝑖/𝑖 , 𝑖 = 1, 2, … , 𝑀, 𝑀 = 25"
   ]
  },
  {
   "cell_type": "code",
   "execution_count": 89,
   "id": "fb167723-41fc-4cce-b06e-d6913ddb87ff",
   "metadata": {},
   "outputs": [
    {
     "name": "stdout",
     "output_type": "stream",
     "text": [
      "[2.0, 2.0, 2.6666666666666665, 4.0, 6.4, 10.666666666666666, 18.285714285714285, 32.0, 56.888888888888886, 102.4, 186.1818181818182, 341.3333333333333, 630.1538461538462, 1170.2857142857142, 2184.5333333333333, 4096.0, 7710.117647058823, 14563.555555555555, 27594.105263157893, 52428.8, 99864.38095238095, 190650.18181818182, 364722.0869565217, 699050.6666666666, 1.34217728e6]"
     ]
    }
   ],
   "source": [
    "M = 25\n",
    "vector_1 = [(2^i)/i for i=1:1:M]\n",
    "print(vector_1)"
   ]
  },
  {
   "cell_type": "markdown",
   "id": "14f01958-b31c-4960-a665-06ac26cdb2c0",
   "metadata": {},
   "source": [
    " - 3.13 вектор вида (”fn1”, ”fn2”, …, ”fnN”), 𝑁 = 30"
   ]
  },
  {
   "cell_type": "code",
   "execution_count": 90,
   "id": "3010a71e-f5ab-4536-891f-2b5c02263e82",
   "metadata": {},
   "outputs": [
    {
     "name": "stdout",
     "output_type": "stream",
     "text": [
      "[\"fn1\", \"fn2\", \"fn3\", \"fn4\", \"fn5\", \"fn6\", \"fn7\", \"fn8\", \"fn9\", \"fn10\", \"fn11\", \"fn12\", \"fn13\", \"fn14\", \"fn15\", \"fn16\", \"fn17\", \"fn18\", \"fn19\", \"fn20\", \"fn21\", \"fn22\", \"fn23\", \"fn24\", \"fn25\", \"fn26\", \"fn27\", \"fn28\", \"fn29\", \"fn30\"]"
     ]
    }
   ],
   "source": [
    "N = 30\n",
    "vector_2 = [string(\"fn\", i) for i=1:1:N]\n",
    "print(vector_2)"
   ]
  },
  {
   "cell_type": "markdown",
   "id": "b902a8e8-8758-41fb-87d4-46453465282e",
   "metadata": {},
   "source": [
    "- 3.14 векторы 𝑥 = (𝑥1, 𝑥2, … , 𝑥𝑛) и 𝑦 = (𝑦1, 𝑦2, … , 𝑦𝑛) целочисленного типа длины 𝑛 = 250 как случайные выборки из совокупности 0, 1, … , 999; на его основе:"
   ]
  },
  {
   "cell_type": "code",
   "execution_count": 91,
   "id": "5bae6b36-4b01-4caf-a3fe-df24e3840a59",
   "metadata": {},
   "outputs": [
    {
     "name": "stdout",
     "output_type": "stream",
     "text": [
      "250\n",
      "[190, 498, 343, 528, 506, 572, 114, 901, 869, 76, 830, 585, 578, 639, 91, 630, 522, 514, 421, 16, 796, 896, 655, 353, 726, 182, 318, 697, 410, 387, 358, 482, 719, 601, 584, 445, 79, 350, 629, 370, 216, 851, 446, 219, 275, 749, 88, 862, 73, 357, 834, 821, 946, 172, 887, 858, 839, 222, 191, 278, 220, 433, 413, 126, 426, 575, 518, 977, 66, 931, 346, 606, 361, 866, 390, 838, 909, 282, 962, 586, 206, 949, 615, 335, 21, 85, 115, 208, 999, 89, 418, 146, 224, 845, 459, 986, 217, 4, 192, 161, 84, 588, 544, 173, 548, 95, 221, 725, 281, 246, 366, 293, 56, 571, 802, 793, 199, 447, 720, 256, 19, 3, 509, 800, 675, 619, 616, 461, 836, 755, 859, 922, 879, 8, 32, 815, 36, 34, 683, 449, 935, 850, 997, 623, 169, 376, 267, 51, 872, 844, 672, 388, 194, 23, 744, 491, 698, 467, 777, 722, 770, 0, 904, 727, 270, 7, 462, 326, 640, 593, 100, 443, 686, 160, 656, 556, 336, 972, 938, 636, 831, 632, 437, 987, 403, 77, 597, 132, 873, 26, 360, 363, 384, 327, 861, 241, 718, 112, 86, 651, 147, 645, 229, 812, 495, 274, 138, 560, 466, 598, 130, 218, 48, 535, 565, 768, 732, 617, 260, 673, 226, 743, 486, 441, 435, 395, 227, 753, 540, 374, 50, 200, 15, 917, 907, 546, 171, 389, 976, 411, 767, 685, 819, 306, 488, 312, 974, 349, 215, 211]\n",
      "[278, 439, 822, 857, 192, 359, 374, 350, 223, 240, 648, 141, 867, 898, 447, 713, 486, 796, 833, 474, 571, 340, 888, 307, 342, 598, 547, 362, 253, 241, 279, 210, 12, 271, 284, 66, 64, 731, 239, 689, 222, 143, 699, 89, 250, 681, 73, 216, 607, 914, 104, 614, 525, 500, 9, 236, 232, 988, 156, 481, 295, 572, 110, 425, 880, 431, 622, 901, 135, 247, 765, 345, 695, 717, 398, 356, 35, 546, 226, 558, 494, 319, 995, 927, 970, 317, 938, 484, 400, 658, 817, 217, 162, 930, 65, 560, 967, 663, 155, 524, 957, 421, 556, 191, 559, 863, 527, 793, 705, 960, 22, 19, 82, 194, 851, 896, 744, 490, 923, 493, 996, 297, 504, 951, 55, 799, 984, 740, 902, 487, 428, 811, 555, 621, 335, 242, 961, 456, 618, 712, 318, 137, 956, 567, 313, 272, 243, 656, 184, 736, 252, 245, 454, 977, 171, 338, 990, 395, 792, 34, 861, 915, 783, 160, 535, 168, 941, 353, 964, 818, 387, 723, 686, 636, 478, 958, 850, 912, 3, 561, 544, 942, 468, 67, 68, 635, 949, 812, 677, 509, 437, 302, 142, 179, 688, 897, 180, 545, 471, 756, 834, 668, 1, 229, 386, 126, 745, 489, 718, 916, 377, 381, 879, 113, 616, 20, 71, 716, 109, 854, 72, 163, 393, 259, 615, 21, 282, 103, 747, 371, 903, 721, 277, 502, 824, 580, 595, 98, 624, 841, 644, 496, 751, 858, 974, 708, 738, 195, 87, 775]\n"
     ]
    }
   ],
   "source": [
    "using StatsBase\n",
    "n = 250\n",
    "x = sample(0:999, n , replace=false)\n",
    "y = sample(0:999, n , replace=false)\n",
    "\n",
    "println(length(x))\n",
    "println(x)\n",
    "println(y)"
   ]
  },
  {
   "cell_type": "markdown",
   "id": "82e0012e-4064-418d-9382-c044a652b982",
   "metadata": {},
   "source": [
    "- 3.14.1 – сформируйте вектор ( 𝑦2−𝑥1 , … ,  𝑦𝑛−𝑥𝑛−1)"
   ]
  },
  {
   "cell_type": "code",
   "execution_count": 92,
   "id": "c2b97d69-9a1e-468e-a192-5847af892adf",
   "metadata": {},
   "outputs": [
    {
     "name": "stdout",
     "output_type": "stream",
     "text": [
      "[249, 324, 514, -336, -147, -198, 236, -678, -629, 572, -689, 282, 320, -192, 622, -144, 274, 319, 53, 555, -456, -8, -348, -11, -128, 365, 44, -444, -169, -108, -148, -470, -448, -317, -518, -381, 652, -111, 60, -148, -73, -152, -357, 31, 406, -676, 128, -255, 841, -253, -220, -296, -446, -163, -651, -626, 149, -66, 290, 17, 352, -323, 12, 754, 5, 47, 383, -842, 181, -166, -1, 89, 356, -468, -34, -803, -363, -56, -404, -92, 113, 46, 312, 635, 296, 853, 369, 192, -341, 728, -201, 16, 706, -780, 101, -19, 446, 151, 332, 796, 337, -32, -353, 386, 315, 432, 572, -20, 679, -224, -347, -211, 138, 280, 94, -49, 291, 476, -227, 740, 278, 501, 442, -745, 124, 365, 124, 441, -349, -327, -48, -367, -258, 327, 210, 146, 420, 584, 29, -131, -798, 106, -430, -310, 103, -133, 389, 133, -136, -592, -427, 66, 783, 148, -406, 499, -303, 325, -743, 139, 145, 783, -744, -192, -102, 934, -109, 638, 178, -206, 623, 243, -50, 318, 302, 294, 576, -969, -377, -92, 111, -164, -370, -919, 232, 872, 215, 545, -364, 411, -58, -221, -205, 361, 36, -61, -173, 359, 670, 183, 521, -644, 0, -426, -369, 471, 351, 158, 450, -221, 251, 661, 65, 81, -545, -697, -16, -508, 594, -601, -63, -350, -227, 174, -414, -113, -124, -6, -169, 529, 671, 77, 487, -93, -327, 49, -73, 235, -135, 233, -271, 66, 39, 668, 220, 426, -779, -262, 560]"
     ]
    }
   ],
   "source": [
    "j = 1\n",
    "vector1 = Vector{Int}()\n",
    "for i = 2:1:n+1\n",
    "    if j != n\n",
    "        append!(vector1, y[i] - x[j])\n",
    "        j += 1\n",
    "    end\n",
    "end\n",
    "print(vector1)"
   ]
  },
  {
   "cell_type": "markdown",
   "id": "236aabbc-6f30-45a0-8227-80a55e1c8cbb",
   "metadata": {},
   "source": [
    "- 3.14.2 – сформируйте вектор ( 𝑥1+2𝑥2−𝑥3 ,  𝑥2+2𝑥3−𝑥4 , … ,  𝑥𝑛−2+2𝑥𝑛−1−𝑥𝑛)"
   ]
  },
  {
   "cell_type": "code",
   "execution_count": 93,
   "id": "f553dd86-595a-4367-8a28-7b68f929ed05",
   "metadata": {},
   "outputs": [
    {
     "name": "stdout",
     "output_type": "stream",
     "text": [
      "[843, 656, 893, 968, 1536, -101, 1047, 2563, 191, 1151, 1422, 1102, 1765, 191, 829, 1160, 1129, 1340, -343, 712, 1933, 1853, 635, 1623, 772, 121, 1302, 1130, 826, 621, 603, 1319, 1337, 1324, 1395, 253, 150, 1238, 1153, -49, 1472, 1524, 609, 20, 1685, 63, 1739, 651, -47, 1204, 1530, 2541, 403, 1088, 1764, 2314, 1092, 326, 527, 285, 673, 1133, 239, 403, 1058, 634, 2406, 178, 1582, 1017, 1197, 462, 1703, 808, 1157, 2374, 511, 1620, 1928, 49, 1489, 1844, 1264, 292, 76, 107, -468, 2117, 759, 779, 486, -251, 1455, 777, 2214, 1416, 33, 227, 430, -259, 716, 1503, 342, 1174, 517, -188, 1390, 1041, 407, 685, 896, -166, 396, 1382, 2189, 744, 373, 1631, 1213, 291, -484, 221, 1434, 1531, 1297, 1390, 702, 1378, 1487, 1551, 1824, 2672, 863, -743, 1626, 853, -579, 951, 646, 1469, 1638, 2221, 2074, 585, 654, 859, -503, 951, 1888, 1800, 1254, 753, -504, 1020, 1028, 1420, 855, 1299, 1451, 2262, -134, 1081, 2088, 1260, -178, 605, 474, 1013, 1726, 350, 300, 1655, 350, 916, 1432, 256, 1342, 2212, 1379, 1666, 1658, 519, 2008, 1716, -40, 1139, -12, 1852, 565, 383, 702, 804, 177, 1808, 625, 1565, 856, -367, 1241, 300, 1208, 291, 1358, 1528, 905, -10, 792, 894, 1532, 640, 518, -221, 553, 897, 1369, 1615, 1706, 464, 1380, 382, 1226, 1274, 933, 916, 998, 96, 1193, 1459, 1238, 274, 435, -687, 942, 2185, 1828, 499, -27, 1930, 1031, 1260, 1318, 2017, 943, 970, 138, 1911, 1457, 568]"
     ]
    }
   ],
   "source": [
    "vector2 = Vector{Int}()\n",
    "for i in 2:1:n-1\n",
    "    append!(vector2, x[i-1] + 2*x[i] - x[i+1])\n",
    "end\n",
    "print(vector2)"
   ]
  },
  {
   "cell_type": "markdown",
   "id": "29fc5fa9-7bb6-49db-8635-9601d5cbd4f5",
   "metadata": {},
   "source": [
    "- 3.14.3 – сформируйте вектор (sin(y1)/cos(x2),sin(y2)/cos(x3),....,sin(y(n-1))/cos(xn))"
   ]
  },
  {
   "cell_type": "code",
   "execution_count": 94,
   "id": "3207c1be-f974-4ddc-b904-b19669ec0ee9",
   "metadata": {},
   "outputs": [
    {
     "name": "stdout",
     "output_type": "stream",
     "text": [
      "Float32[-17.37312, 0.8688516, -0.9104341, -0.6218381, -0.36454967, 1.2216256, 0.18649112, 2.7993836, 0.06435942, 1.1612723, 0.93848234, 0.36368296, 0.257273, 0.4781639, -7.057537, 0.16035518, 2.3694336, -0.923808, 0.4802929, -0.96802586, 0.87174404, 29.470522, 2.1088812, 0.8022155, 0.42979577, -1.162829, 0.3911597, 29.652592, -1.1925386, 0.79289323, -2.4365485, -0.5133248, 0.9300116, 0.77670306, 2.1224341, 0.029633945, -3.2437167, 1.0772223, 0.311555, 1.1653287, -0.9326066, -1.0039972, 1.6324455, 7.78927, -3.6405973, 0.6640049, -1.8852216, -0.94548404, -1.4970552, -2.1793535, 0.6400545, 1.0594126, 0.49135745, -0.9758269, -0.43795526, 0.37858975, 0.92923456, -1.2435073, -28.495312, -0.33131632, -0.3552988, -1.9144822, -0.04686803, -2.5041459, -0.34806958, 0.6055469, 0.035360098, -0.5950699, 0.19055294, 1.0172199, 1.0558318, 0.5665569, -1.3786858, 0.7270633, -1.2003331, 1.784428, -0.5816015, -0.76055187, 2.0837104, -4.1707892, -0.7164705, -1.3581964, -1.8961413, 0.4165202, -0.69403887, -0.9095484, 1.2263106, 0.19357075, -1.6678903, 1.0007565, 2.2015512, 0.39042744, 0.982288, 0.09342344, 0.92278844, -0.73427254, 0.87709534, 0.13224335, 1.2269499, -0.8852279, -1.06928, -0.030363683, -0.06328231, 2.8819845, -0.27677095, 1.7385967, 0.93275315, -5.6403565, 1.662008, 217.80698, 0.013142551, 0.17566067, 0.4362481, 1.121311, 1.4554781, 1.2765888, 0.8445304, 0.105285555, 14.770309, 0.23062794, 0.11603588, 0.9947798, -2.174951, -0.86855006, 1.0054247, 0.88720924, 0.9176263, -1.0466734, -0.675832, 0.23745158, -11.788324, 0.56613797, -6.0019407, -1.0309453, -3.7896676, 0.75968355, 0.3789159, 1.5476955, -0.8039763, 2.4750493, 3.2524006, 2.1417773, 1.433726, 1.2502862, -1.6732122, -0.96896315, -1.1992244, 2.705218, -2.1052418, 0.7984549, 46.81877, -0.0621141, -1.8752698, -0.04160716, 1.5943705, -1.1393275, 0.8505887, 1.4391865, 0.371242, -0.5555289, 0.20220892, -1.0043569, 2.4602077, 0.22290662, 1.0626984, 1.0146517, -1.3309832, 1.4356788, -0.624114, 1.0748241, 0.5517982, 0.9907983, -0.9282254, -1.1878753, -0.4608128, -0.18680203, -3.0888593, -3.4694097, 0.82210004, -20.003256, 0.56348807, 0.4841935, 0.11326279, -1.336497, 28.988758, 0.389684, 0.23708352, 1.0640814, -1.5456527, -0.21837282, -2.1525302, 0.52932215, -0.61063415, 0.07221393, -0.014189499, 6.850568, -1.7570328, 2.600483, 0.3068992, -1.1369574, 1.7704223, -0.970872, 8.288254, 1.667798, -0.5201844, 0.3389218, -0.61246055, -1.7629426, 2.1700284, 2.6535568, -0.026580274, 1.1912594, -1.005875, -0.10994777, 2.0593507, -0.9129815, 2.9966602, 0.3825799, 1.067114, -0.50042135, -19.031475, 0.6074802, -0.7725308, 8.912807, -1.024375, 1.2075146, -1.21901, 0.6641559, 0.6508465, 0.29838583, -2.0084026, 1.3163167, 0.54619896, 1.0056478, 0.9766194, 4.323854, -1.1141531, 1.1237167, -1.0822744, -0.9019022, 0.026726216, 0.62930834, 0.52794844, 0.6838291, -0.19110014, -0.9144821, -0.2820855, 1.1095672, 0.9433901]"
     ]
    }
   ],
   "source": [
    "vector3 = Vector{Float32}()\n",
    "j = 1\n",
    "for i = 2:1:n+1\n",
    "    if j != n\n",
    "        append!(vector3, sin(y[j])/cos(x[i]))\n",
    "        j += 1\n",
    "    end\n",
    "end\n",
    "print(vector3)"
   ]
  },
  {
   "cell_type": "markdown",
   "id": "1ddc4a26-9828-4e90-a707-abf4aed9e73a",
   "metadata": {},
   "source": [
    "- 3.14.4 вычислите summ(n-1 | i = 1)[(e^(-x)i+1)/xi+10]"
   ]
  },
  {
   "cell_type": "code",
   "execution_count": 95,
   "id": "daae4a90-bde5-4cf9-b08e-958d4cbd3666",
   "metadata": {},
   "outputs": [
    {
     "name": "stdout",
     "output_type": "stream",
     "text": [
      "0.0030831681880273487"
     ]
    }
   ],
   "source": [
    "sum_vector = 0\n",
    "for i in 1:1:n-1\n",
    "    sum_vector += exp(-x[i+1])/(x[i]+10)\n",
    "end\n",
    "print(sum_vector)"
   ]
  },
  {
   "cell_type": "markdown",
   "id": "be91b0fa-4649-46cf-b5f9-9b86736948f6",
   "metadata": {},
   "source": [
    "- 3.14.5 – выберите элементы вектора 𝑦, значения которых больше 600, и выведите на экран; определите индексы этих элементов"
   ]
  },
  {
   "cell_type": "code",
   "execution_count": 96,
   "id": "53b63b98-4861-4681-b532-a13053839671",
   "metadata": {},
   "outputs": [
    {
     "name": "stdout",
     "output_type": "stream",
     "text": [
      "[822, 857, 648, 867, 898, 713, 796, 833, 888, 731, 689, 699, 681, 607, 914, 614, 988, 880, 622, 901, 765, 695, 717, 995, 927, 970, 938, 658, 817, 930, 967, 663, 957, 863, 793, 705, 960, 851, 896, 744, 923, 996, 951, 799, 984, 740, 902, 811, 621, 961, 618, 712, 956, 656, 736, 977, 990, 792, 861, 915, 783, 941, 964, 818, 723, 686, 636, 958, 850, 912, 942, 635, 949, 812, 677, 688, 897, 756, 834, 668, 745, 718, 916, 879, 616, 716, 854, 615, 747, 903, 721, 824, 624, 841, 644, 751, 858, 974, 708, 738, 775]"
     ]
    }
   ],
   "source": [
    "idx_y = findall(y .> 600)\n",
    "print(y[idx_y])"
   ]
  },
  {
   "cell_type": "markdown",
   "id": "772a0664-53be-4690-aaa0-311f8a41db1d",
   "metadata": {},
   "source": [
    "- 3.14.6 – определите значения вектора 𝑥, соответствующие значениям вектора 𝑦, значения которых больше 600 (под соответствием понимается расположение на аналогичных индексных позициях)"
   ]
  },
  {
   "cell_type": "code",
   "execution_count": 98,
   "id": "f0f61197-a216-41fd-906b-a5975258a0d0",
   "metadata": {},
   "outputs": [
    {
     "name": "stdout",
     "output_type": "stream",
     "text": [
      "[343, 528, 830, 578, 639, 630, 514, 421, 655, 350, 370, 446, 749, 73, 357, 821, 222, 426, 518, 977, 346, 361, 866, 615, 335, 21, 115, 89, 418, 845, 217, 4, 84, 95, 725, 281, 246, 802, 793, 199, 720, 19, 800, 619, 616, 461, 836, 922, 8, 36, 683, 449, 997, 51, 844, 23, 698, 777, 770, 0, 904, 462, 640, 593, 443, 686, 160, 556, 336, 972, 632, 77, 597, 132, 873, 861, 241, 651, 147, 645, 138, 466, 598, 48, 565, 617, 673, 435, 540, 50, 200, 907, 976, 411, 767, 819, 306, 488, 312, 974, 211]"
     ]
    }
   ],
   "source": [
    "inc_y = findall(y .> 600)\n",
    "print(x[inc_y])"
   ]
  },
  {
   "cell_type": "markdown",
   "id": "a1020b62-f28c-49ca-a5f2-c5c0dac5ad44",
   "metadata": {},
   "source": [
    "- 3.14.7 - сформируйте вектор (|𝑥1 − 𝑥| 1 2 , |𝑥2 − 𝑥| 1 2 , … , |𝑥𝑛 − 𝑥| 1 2 ), где 𝑥 обозначает среднее значение вектора 𝑥 = (𝑥1, 𝑥2, … , 𝑥𝑛);"
   ]
  },
  {
   "cell_type": "code",
   "execution_count": 100,
   "id": "682c5d53-7bb7-4092-b985-1d6ef9a60632",
   "metadata": {},
   "outputs": [
    {
     "name": "stdout",
     "output_type": "stream",
     "text": [
      "[16.964079697997175, 4.496665431183426, 11.60947888580706, 7.086607086610631, 5.312249994117373, 9.706698717895803, 19.073017590302797, 20.57231148898927, 19.779282090106303, 20.044450603595998, 18.767525143182837, 10.3547090736534, 10.010993956645866, 12.697243795406939, 19.666723163760658, 12.33774695801466, 6.6498120274185215, 6.0183054093324335, 7.5352504935138, 21.48906698765677, 17.838721927313067, 20.450427868384565, 13.312400234367956, 11.170496855556603, 15.75499920660106, 17.198255725508908, 12.640411385710513, 14.806079832285116, 8.232860985101107, 9.527853903162033, 10.94440496326776, 2.0542638584174204, 15.531258802814408, 11.10045044131093, 10.30630874755846, 5.725382083319852, 19.969476708216465, 11.30398159941885, 12.297154142320899, 10.381714694596456, 16.179616806340007, 19.318902660347973, 5.637375275782159, 16.086640419926095, 14.240084269413575, 16.468758301705687, 19.7428468058687, 19.601530552484927, 20.119145111062746, 10.98999545040852, 18.873791352030995, 18.526197667087544, 21.638391807156097, 17.486566272427527, 20.22918683486808, 19.499230754057965, 19.0057885919001, 15.993123522314207, 16.934580006601877, 14.134355308962625, 16.055528642807126, 6.6917860097286415, 8.048602363143551, 18.75579910321072, 7.195832127002406, 9.860020283954796, 6.341923998283173, 22.34323163734378, 20.2923630955096, 21.288964277296348, 11.47954702939101, 11.323427043081967, 10.806479537758815, 19.70329921612114, 9.369098142297368, 18.979462584593907, 20.765837329614236, 13.992140651094099, 22.00499943194728, 10.402884215447177, 16.485751423577877, 21.70760235493547, 11.714094075087498, 11.949058540320236, 21.3724121240444, 19.81867805884136, 19.046784505527434, 16.42498097411379, 22.83024309988836, 19.717504913147607, 7.7317527120310805, 18.21482912354656, 15.93047394147456, 19.162985153675823, 4.333589736004087, 22.54373527168912, 16.14868415692127, 21.76648800335047, 16.90502883759741, 17.798314526943273, 19.84389074753235, 10.498571331376477, 8.137567204023572, 17.457949478675896, 8.379737466054651, 19.564764245960134, 16.024356461337224, 15.72323122007687, 14.027829482853004, 15.224322645030878, 10.572606112023657, 13.593380742111213, 20.537283169883985, 9.655050491841045, 18.006110074083185, 17.754436065389406, 16.696706262014672, 5.547972602672076, 15.563418647585113, 14.892279879185724, 21.4191503099446, 21.789446987016444, 5.5874860178796, 17.950487458562232, 14.043503836293848, 11.883602147497198, 11.756700217322887, 4.0963398296528055, 18.926700716184, 16.649924924755666, 19.524855953373894, 21.07652722817495, 20.03047677914832, 21.674408873138848, 21.113502788500064, 18.363550854886427, 21.018563223969423, 21.06608648990125, 14.325501736413983, 5.364699432400661, 21.382703290276467, 19.293003913336047, 22.786399452304877, 12.050726119201283, 17.572137035659605, 10.08860743611327, 14.518264359075433, 20.658654360824183, 19.854974187845222, 19.136875398037162, 13.936283579204321, 9.475230867899736, 16.845770982653182, 21.325571504651403, 16.316249569064578, 3.6359317925395724, 14.839811319555247, 3.2832910318763964, 17.297976760303502, 15.627539793582354, 17.094443541689213, 21.85817924713767, 20.645096270058904, 15.786703265723341, 14.41457595630201, 21.697465289752163, 3.9724048132082377, 12.319902597017558, 12.736561545409343, 10.734057946554977, 19.43656348226198, 5.89745707911469, 14.429830213831348, 17.826384939184948, 13.34990636671284, 8.84420714366189, 11.907140714714005, 22.231059353975915, 21.452738752895865, 12.578553175941979, 18.794148025382796, 12.418534535121285, 6.385922016435839, 22.565903482909786, 8.647543003651382, 20.01949050300731, 10.918791141880131, 18.59516066077408, 19.8801408445715, 21.255117030964566, 10.85264944610301, 10.71354283138869, 9.684007434941382, 12.279250791477466, 19.576005721290542, 15.387657391558989, 15.499032227852165, 19.12537581330103, 19.793433254491248, 13.161306925985732, 18.187358246870268, 12.931357237351385, 15.77276133085136, 18.281684823888636, 4.149698784249289, 14.275153239107452, 18.4331223616619, 9.067524469225326, 3.432200460346099, 10.964488132147347, 18.648860555004426, 16.117692142487396, 20.731136003605783, 7.564390259630978, 9.339164844888435, 17.03584456374265, 15.944277970482077, 11.799152511939154, 14.757371039585607, 13.97211508684351, 15.867577004697345, 16.285576440519385, 2.867054237366295, 6.06465168002252, 6.54064217030713, 9.098351499035415, 15.83603485724883, 16.58975587523819, 7.887965517166009, 10.187246929372035, 20.682843131445928, 16.6667333332, 21.51232205039707, 20.957576195734088, 20.717625346549735, 8.259539938761725, 17.515136311202376, 9.422313940853382, 22.32084227801451, 8.17190308312574, 17.006469357276956, 14.395138068111748, 18.472141186121334, 13.106486943494811, 3.1968734726291603, 12.87555824032496, 22.275996049559716, 11.348127598859644, 16.21049043058229, 16.333401360402554]"
     ]
    }
   ],
   "source": [
    "vector4 = Vector{Float64}()\n",
    "for i in 1:1:n\n",
    "    append!(vector4, (abs(x[i] - mean(x)))^(0.5))\n",
    "end\n",
    "print(vector4)"
   ]
  },
  {
   "cell_type": "markdown",
   "id": "7f5cf79f-74de-4ac8-acd6-63a9bdaeeb5c",
   "metadata": {},
   "source": [
    "- 3.14.7 – определите, сколько элементов вектора 𝑦 отстоят от максимального значения не более, чем на 200"
   ]
  },
  {
   "cell_type": "code",
   "execution_count": 101,
   "id": "6b0ee905-f0ad-42c0-8a32-2df973716ecb",
   "metadata": {},
   "outputs": [
    {
     "name": "stdout",
     "output_type": "stream",
     "text": [
      "54"
     ]
    }
   ],
   "source": [
    "count_numbers = 0\n",
    "max = maximum(y)\n",
    "for i in 1:1:n\n",
    "    if abs(y[i] - max) < 200\n",
    "        count_numbers += 1\n",
    "    end\n",
    "end\n",
    "print(count_numbers)"
   ]
  },
  {
   "cell_type": "markdown",
   "id": "b6e0edc8-e846-4c6e-b4dc-2d502ede47c7",
   "metadata": {},
   "source": [
    "- 3.14.8 – определите, сколько чётных и нечётных элементов вектора 𝑥"
   ]
  },
  {
   "cell_type": "code",
   "execution_count": 105,
   "id": "1de7509b-7996-411d-83a6-c63ef6058790",
   "metadata": {},
   "outputs": [
    {
     "name": "stdout",
     "output_type": "stream",
     "text": [
      "Even : 131\n",
      "Odd : 119"
     ]
    }
   ],
   "source": [
    "even = 0\n",
    "odd = 0\n",
    "for i in 1:1:n\n",
    "    if mod(x[i],2) == 0\n",
    "        even += 1\n",
    "    else\n",
    "        odd += 1\n",
    "    end\n",
    "end\n",
    "println(\"Even : \", even)\n",
    "print(\"Odd : \", odd)"
   ]
  },
  {
   "cell_type": "markdown",
   "id": "5cfbe81c-d49a-4827-a0cd-d85d208177d6",
   "metadata": {},
   "source": [
    "- 3.14.9 – определите, сколько элементов вектора 𝑥 кратны 7"
   ]
  },
  {
   "cell_type": "code",
   "execution_count": 103,
   "id": "e03d72e5-61ad-4f6a-9100-9bd17c43c390",
   "metadata": {},
   "outputs": [
    {
     "name": "stdout",
     "output_type": "stream",
     "text": [
      "Sevens : 42"
     ]
    }
   ],
   "source": [
    "count7 = 0\n",
    "for i in 1:1:n\n",
    "    if mod(x[i], 7) == 0\n",
    "        count7 += 1\n",
    "    end\n",
    "end\n",
    "print(\"Sevens : \", count7)"
   ]
  },
  {
   "cell_type": "markdown",
   "id": "c02954b0-ac69-438b-873f-2eac03eaa00c",
   "metadata": {},
   "source": [
    "- 3.14.10 – отсортируйте элементы вектора 𝑥 в порядке возрастания элементов вектора 𝑦"
   ]
  },
  {
   "cell_type": "code",
   "execution_count": 104,
   "id": "fbbb9bcd-6c03-4ed1-a8a7-7d51815210cc",
   "metadata": {},
   "outputs": [
    {
     "name": "stdout",
     "output_type": "stream",
     "text": [
      "[229, 938, 887, 719, 293, 768, 395, 366, 722, 909, 675, 79, 459, 445, 987, 403, 732, 226, 88, 56, 215, 219, 389, 753, 834, 260, 413, 535, 274, 66, 850, 585, 384, 851, 192, 191, 727, 224, 743, 7, 744, 327, 718, 872, 173, 506, 571, 349, 482, 862, 146, 216, 869, 962, 812, 839, 858, 629, 76, 387, 815, 267, 388, 931, 275, 672, 410, 441, 601, 376, 15, 190, 358, 227, 584, 220, 3, 363, 353, 169, 85, 935, 949, 32, 491, 896, 726, 606, 901, 326, 838, 572, 697, 374, 114, 130, 218, 495, 100, 486, 467, 390, 999, 588, 126, 859, 575, 360, 498, 91, 194, 34, 437, 86, 16, 656, 278, 208, 522, 755, 560, 447, 256, 206, 685, 172, 917, 509, 26, 161, 946, 221, 270, 831, 112, 282, 318, 879, 544, 586, 548, 986, 636, 623, 796, 433, 546, 171, 182, 73, 821, 435, 565, 683, 8, 518, 976, 77, 160, 767, 830, 51, 89, 4, 645, 873, 749, 686, 861, 370, 361, 446, 281, 312, 449, 630, 617, 866, 466, 200, 443, 350, 844, 974, 461, 199, 138, 540, 819, 651, 346, 211, 904, 777, 725, 514, 619, 922, 132, 418, 593, 343, 907, 421, 147, 411, 336, 802, 673, 528, 306, 770, 95, 578, 48, 426, 655, 793, 241, 639, 977, 836, 50, 972, 357, 0, 598, 720, 335, 845, 115, 462, 632, 597, 800, 997, 84, 556, 246, 36, 640, 217, 21, 488, 23, 616, 222, 698, 615, 19]"
     ]
    }
   ],
   "source": [
    "x_new = x[sortperm(y)]\n",
    "print(x_new)"
   ]
  },
  {
   "cell_type": "markdown",
   "id": "bf6df1de-b981-4af2-8be9-19e63aab2d34",
   "metadata": {},
   "source": [
    "- 3.14.11 – выведите элементы вектора 𝑥, которые входят в десятку наибольших (top-10)"
   ]
  },
  {
   "cell_type": "code",
   "execution_count": 106,
   "id": "55bfcf5f-f052-4724-b5f7-b8c7aac69eff",
   "metadata": {},
   "outputs": [
    {
     "name": "stdout",
     "output_type": "stream",
     "text": [
      "[999, 997, 987, 986, 977, 976, 974, 972, 962, 949]"
     ]
    }
   ],
   "source": [
    "x_sort = sort(x, rev=true)\n",
    "print(x_sort[1:10])"
   ]
  },
  {
   "cell_type": "markdown",
   "id": "c619596a-67bb-4834-b9eb-b7c526b20ffa",
   "metadata": {},
   "source": [
    "- 3.14.12 – сформируйте вектор, содержащий только уникальные (неповторяющиеся) элементы вектора 𝑥."
   ]
  },
  {
   "cell_type": "code",
   "execution_count": 107,
   "id": "5ff0fc11-e0fb-4615-aa9c-4aeef2e1fc7d",
   "metadata": {},
   "outputs": [
    {
     "name": "stdout",
     "output_type": "stream",
     "text": [
      "[190, 498, 343, 528, 506, 572, 114, 901, 869, 76, 830, 585, 578, 639, 91, 630, 522, 514, 421, 16, 796, 896, 655, 353, 726, 182, 318, 697, 410, 387, 358, 482, 719, 601, 584, 445, 79, 350, 629, 370, 216, 851, 446, 219, 275, 749, 88, 862, 73, 357, 834, 821, 946, 172, 887, 858, 839, 222, 191, 278, 220, 433, 413, 126, 426, 575, 518, 977, 66, 931, 346, 606, 361, 866, 390, 838, 909, 282, 962, 586, 206, 949, 615, 335, 21, 85, 115, 208, 999, 89, 418, 146, 224, 845, 459, 986, 217, 4, 192, 161, 84, 588, 544, 173, 548, 95, 221, 725, 281, 246, 366, 293, 56, 571, 802, 793, 199, 447, 720, 256, 19, 3, 509, 800, 675, 619, 616, 461, 836, 755, 859, 922, 879, 8, 32, 815, 36, 34, 683, 449, 935, 850, 997, 623, 169, 376, 267, 51, 872, 844, 672, 388, 194, 23, 744, 491, 698, 467, 777, 722, 770, 0, 904, 727, 270, 7, 462, 326, 640, 593, 100, 443, 686, 160, 656, 556, 336, 972, 938, 636, 831, 632, 437, 987, 403, 77, 597, 132, 873, 26, 360, 363, 384, 327, 861, 241, 718, 112, 86, 651, 147, 645, 229, 812, 495, 274, 138, 560, 466, 598, 130, 218, 48, 535, 565, 768, 732, 617, 260, 673, 226, 743, 486, 441, 435, 395, 227, 753, 540, 374, 50, 200, 15, 917, 907, 546, 171, 389, 976, 411, 767, 685, 819, 306, 488, 312, 974, 349, 215, 211]"
     ]
    },
    {
     "data": {
      "text/plain": [
       "250"
      ]
     },
     "execution_count": 107,
     "metadata": {},
     "output_type": "execute_result"
    }
   ],
   "source": [
    "x_uni = unique(x)\n",
    "print(x_uni)\n",
    "length(x_uni)"
   ]
  },
  {
   "cell_type": "markdown",
   "id": "4b504ffc-daee-4478-b200-55ab50090f21",
   "metadata": {},
   "source": [
    "**4- Создайте массив squares, в котором будут храниться квадраты всех целых чисел от 1 до 100**"
   ]
  },
  {
   "cell_type": "code",
   "execution_count": 110,
   "id": "c2c88314-1538-45a0-afa4-3162a86a8f41",
   "metadata": {},
   "outputs": [
    {
     "name": "stdout",
     "output_type": "stream",
     "text": [
      "[1, 4, 9, 16, 25, 36, 49, 64, 81, 100, 121, 144, 169, 196, 225, 256, 289, 324, 361, 400, 441, 484, 529, 576, 625, 676, 729, 784, 841, 900, 961, 1024, 1089, 1156, 1225, 1296, 1369, 1444, 1521, 1600, 1681, 1764, 1849, 1936, 2025, 2116, 2209, 2304, 2401, 2500, 2601, 2704, 2809, 2916, 3025, 3136, 3249, 3364, 3481, 3600, 3721, 3844, 3969, 4096, 4225, 4356, 4489, 4624, 4761, 4900, 5041, 5184, 5329, 5476, 5625, 5776, 5929, 6084, 6241, 6400, 6561, 6724, 6889, 7056, 7225, 7396, 7569, 7744, 7921, 8100, 8281, 8464, 8649, 8836, 9025, 9216, 9409, 9604, 9801, 10000]"
     ]
    }
   ],
   "source": [
    "sqr = [i^2 for i=1:1:100]\n",
    "print(sqr)"
   ]
  },
  {
   "cell_type": "markdown",
   "id": "189e7a8b-0b6e-4898-b6d1-a80c133994de",
   "metadata": {},
   "source": [
    "**5- Подключите пакет Primes (функции для вычисления простых чисел). Сгенерируйте массив myprimes, в котором будут храниться первые 168 простых чисел. Определите 89-е наименьшее простое число. Получите срез массива с 89-го до 99-го элемента включительно, содержащий наименьшие простые числа.\n",
    "Я подключила пакет Primes для генерирования простых чисел.** "
   ]
  },
  {
   "cell_type": "code",
   "execution_count": 111,
   "id": "df41f026-e28d-47b7-a3f8-23fd813e0b2b",
   "metadata": {},
   "outputs": [
    {
     "name": "stdout",
     "output_type": "stream",
     "text": [
      "[2, 3, 5, 7, 11, 13, 17, 19, 23, 29, 31, 37, 41, 43, 47, 53, 59, 61, 67, 71, 73, 79, 83, 89, 97, 101, 103, 107, 109, 113, 127, 131, 137, 139, 149, 151, 157, 163, 167, 173, 179, 181, 191, 193, 197, 199, 211, 223, 227, 229, 233, 239, 241, 251, 257, 263, 269, 271, 277, 281, 283, 293, 307, 311, 313, 317, 331, 337, 347, 349, 353, 359, 367, 373, 379, 383, 389, 397, 401, 409, 419, 421, 431, 433, 439, 443, 449, 457, 461, 463, 467, 479, 487, 491, 499, 503, 509, 521, 523, 541, 547, 557, 563, 569, 571, 577, 587, 593, 599, 601, 607, 613, 617, 619, 631, 641, 643, 647, 653, 659, 661, 673, 677, 683, 691, 701, 709, 719, 727, 733, 739, 743, 751, 757, 761, 769, 773, 787, 797, 809, 811, 821, 823, 827, 829, 839, 853, 857, 859, 863, 877, 881, 883, 887, 907, 911, 919, 929, 937, 941, 947, 953, 967, 971, 977, 983, 991, 997]"
     ]
    }
   ],
   "source": [
    "using Primes\n",
    "n = 1000\n",
    "myprimes = primes(n)\n",
    "print(myprimes)"
   ]
  },
  {
   "cell_type": "code",
   "execution_count": 112,
   "id": "e2f5c73a-d5ca-4445-916c-0be8a2697a00",
   "metadata": {},
   "outputs": [
    {
     "name": "stdout",
     "output_type": "stream",
     "text": [
      "461\n",
      "[461, 463, 467, 479, 487, 491, 499, 503, 509, 521, 523]"
     ]
    }
   ],
   "source": [
    "println(myprimes[89])\n",
    "print(myprimes[89:99])"
   ]
  },
  {
   "cell_type": "markdown",
   "id": "52adfe22-cdc1-490e-a23b-f00e2452148b",
   "metadata": {},
   "source": [
    "**6- Вычислите следующие выражения**\n",
    "<br>\n",
    " - 1- "
   ]
  },
  {
   "cell_type": "code",
   "execution_count": 113,
   "id": "fa073f69-7228-4e95-8203-2f240cd7ddfc",
   "metadata": {},
   "outputs": [
    {
     "data": {
      "text/plain": [
       "26852735"
      ]
     },
     "execution_count": 113,
     "metadata": {},
     "output_type": "execute_result"
    }
   ],
   "source": [
    "sum((i^3)+4*(i^2) for i=10:1:100)"
   ]
  },
  {
   "cell_type": "markdown",
   "id": "e2e53f05-7d8f-4f28-a8da-4c3922cc7ea6",
   "metadata": {},
   "source": [
    "- 2-"
   ]
  },
  {
   "cell_type": "code",
   "execution_count": 115,
   "id": "ef0a6a22-3028-4d6d-a019-0e615452eeae",
   "metadata": {},
   "outputs": [
    {
     "data": {
      "text/plain": [
       "2.1291704368143802e9"
      ]
     },
     "execution_count": 115,
     "metadata": {},
     "output_type": "execute_result"
    }
   ],
   "source": [
    "M = 25\n",
    "sum(((2^i)/i) + ((3^i)/(i^2)) for i=1:1:M)"
   ]
  },
  {
   "cell_type": "markdown",
   "id": "ffb48581-80fd-4ba2-8667-931a81079531",
   "metadata": {},
   "source": [
    "- 3-"
   ]
  },
  {
   "cell_type": "code",
   "execution_count": 117,
   "id": "969e1170-0f5d-4770-8917-d87615bfd0e3",
   "metadata": {},
   "outputs": [
    {
     "name": "stdout",
     "output_type": "stream",
     "text": [
      "6.976346137897618"
     ]
    }
   ],
   "source": [
    "summ = 1\n",
    "temp = 1\n",
    "for i in 3:2:39\n",
    "    temp *= (i-1)/i\n",
    "    summ += temp\n",
    "end\n",
    "print(summ)"
   ]
  },
  {
   "cell_type": "markdown",
   "id": "5dfaef63-4c47-4cb0-9b1f-1acfc75b9b4c",
   "metadata": {},
   "source": [
    "#### **Выводы**\n",
    "- Изучил структуры данных, реализованных в Julia. Научил применять их и операции над ними для решения задач.\n"
   ]
  },
  {
   "cell_type": "code",
   "execution_count": null,
   "id": "6fc85929-4ddf-49b4-ab5e-58d4b4b06e69",
   "metadata": {},
   "outputs": [],
   "source": []
  }
 ],
 "metadata": {
  "kernelspec": {
   "display_name": "Julia 1.9.3",
   "language": "julia",
   "name": "julia-1.9"
  },
  "language_info": {
   "file_extension": ".jl",
   "mimetype": "application/julia",
   "name": "julia",
   "version": "1.9.3"
  }
 },
 "nbformat": 4,
 "nbformat_minor": 5
}
